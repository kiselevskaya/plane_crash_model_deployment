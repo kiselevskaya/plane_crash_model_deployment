{
 "cells": [
  {
   "cell_type": "markdown",
   "metadata": {},
   "source": [
    "# Machine Learning Pipeline - Feature Engineering\n",
    "\n",
    "Implementation of each of the steps in the Machine Learning Pipeline. \n",
    "\n",
    "1. Data Analysis\n",
    "2. **Feature Engineering**\n",
    "3. Feature Selection\n",
    "4. Model Training\n",
    "5. Obtaining Predictions / Scoring\n",
    "\n",
    "Plane Crash Dataset available on [Kaggle.com](https://www.kaggle.com/datasets/kamilkarczmarczyk/plane-crash-dataset-03042023). See below for more details.\n",
    "\n",
    "==================================================================================================="
   ]
  },
  {
   "cell_type": "markdown",
   "metadata": {},
   "source": [
    "Data description:\n",
    "===================================================================\n",
    "- Date: Date of accident, in the format - January 01, 2001\n",
    "- Time: Local time, in 24 hr. format unless otherwise specified\n",
    "- Airline/Op: Airline or operator of the aircraft\n",
    "- Flight #: Flight number assigned by the aircraft operator\n",
    "- Route: Complete or partial route flown prior to the accident\n",
    "- AC Type: Aircraft type\n",
    "- Reg: ICAO registration of the aircraft\n",
    "- cn / ln: Construction or serial number / Line or fuselage number\n",
    "- Aboard: Total aboard (passengers / crew)\n",
    "- Fatalities: Total fatalities aboard (passengers / crew)\n",
    "- Ground: Total killed on the ground\n",
    "- Summary: Brief description of the accident and cause if known"
   ]
  },
  {
   "cell_type": "markdown",
   "metadata": {},
   "source": [
    "Target: \n",
    "========================================================\n",
    "* drop samples with missing aboard_all, fatalities_all\n",
    "* aboard_passengers, fatalities_passenger, ground .fillna(0)\n",
    "* cast type int for aboard_all, fatalities_all,aboard_passengers, fatalities_passenger, ground\n",
    "* drop samples with 0 value in aboard_all\n",
    "* survived = aboard_all- fatalities_all, binarised"
   ]
  },
  {
   "cell_type": "markdown",
   "metadata": {},
   "source": [
    "Pipeline steps:\n",
    "==============================================================================================\n",
    "* train/test split\n",
    "* drop samples with missing summary\n",
    "* apply get_multiple_locations() to route column, to create number of routes column (route_n)\n",
    "* create month, decade (year-(year%10)) from date\n",
    "* apply get_locations() to location\n",
    "* summary preprocess using spasy and vectorise with FastText\n",
    "* select features: matrix of vectors concatenated with decade, month, routes_n"
   ]
  },
  {
   "cell_type": "markdown",
   "metadata": {},
   "source": [
    "## Imports"
   ]
  },
  {
   "cell_type": "code",
   "execution_count": 1,
   "metadata": {},
   "outputs": [
    {
     "name": "stdout",
     "output_type": "stream",
     "text": [
      "Collecting en-core-web-lg==3.5.0\n",
      "  Downloading https://github.com/explosion/spacy-models/releases/download/en_core_web_lg-3.5.0/en_core_web_lg-3.5.0-py3-none-any.whl (587.7 MB)\n",
      "\u001b[2K     ━━━━━━━━━━━━━━━━━━━━━━━━━━━━━━━━━━━━━━━ 587.7/587.7 MB 3.8 MB/s eta 0:00:00\n",
      "\u001b[?25hRequirement already satisfied: spacy<3.6.0,>=3.5.0 in /Users/Viktoryia.Kisialeuskaya/.pyenv/versions/3.11.0/envs/deploing_ml_models/lib/python3.11/site-packages (from en-core-web-lg==3.5.0) (3.5.2)\n",
      "Requirement already satisfied: spacy-legacy<3.1.0,>=3.0.11 in /Users/Viktoryia.Kisialeuskaya/.pyenv/versions/3.11.0/envs/deploing_ml_models/lib/python3.11/site-packages (from spacy<3.6.0,>=3.5.0->en-core-web-lg==3.5.0) (3.0.12)\n",
      "Requirement already satisfied: spacy-loggers<2.0.0,>=1.0.0 in /Users/Viktoryia.Kisialeuskaya/.pyenv/versions/3.11.0/envs/deploing_ml_models/lib/python3.11/site-packages (from spacy<3.6.0,>=3.5.0->en-core-web-lg==3.5.0) (1.0.4)\n",
      "Requirement already satisfied: murmurhash<1.1.0,>=0.28.0 in /Users/Viktoryia.Kisialeuskaya/.pyenv/versions/3.11.0/envs/deploing_ml_models/lib/python3.11/site-packages (from spacy<3.6.0,>=3.5.0->en-core-web-lg==3.5.0) (1.0.9)\n",
      "Requirement already satisfied: cymem<2.1.0,>=2.0.2 in /Users/Viktoryia.Kisialeuskaya/.pyenv/versions/3.11.0/envs/deploing_ml_models/lib/python3.11/site-packages (from spacy<3.6.0,>=3.5.0->en-core-web-lg==3.5.0) (2.0.7)\n",
      "Requirement already satisfied: preshed<3.1.0,>=3.0.2 in /Users/Viktoryia.Kisialeuskaya/.pyenv/versions/3.11.0/envs/deploing_ml_models/lib/python3.11/site-packages (from spacy<3.6.0,>=3.5.0->en-core-web-lg==3.5.0) (3.0.8)\n",
      "Requirement already satisfied: thinc<8.2.0,>=8.1.8 in /Users/Viktoryia.Kisialeuskaya/.pyenv/versions/3.11.0/envs/deploing_ml_models/lib/python3.11/site-packages (from spacy<3.6.0,>=3.5.0->en-core-web-lg==3.5.0) (8.1.10)\n",
      "Requirement already satisfied: wasabi<1.2.0,>=0.9.1 in /Users/Viktoryia.Kisialeuskaya/.pyenv/versions/3.11.0/envs/deploing_ml_models/lib/python3.11/site-packages (from spacy<3.6.0,>=3.5.0->en-core-web-lg==3.5.0) (1.1.1)\n",
      "Requirement already satisfied: srsly<3.0.0,>=2.4.3 in /Users/Viktoryia.Kisialeuskaya/.pyenv/versions/3.11.0/envs/deploing_ml_models/lib/python3.11/site-packages (from spacy<3.6.0,>=3.5.0->en-core-web-lg==3.5.0) (2.4.6)\n",
      "Requirement already satisfied: catalogue<2.1.0,>=2.0.6 in /Users/Viktoryia.Kisialeuskaya/.pyenv/versions/3.11.0/envs/deploing_ml_models/lib/python3.11/site-packages (from spacy<3.6.0,>=3.5.0->en-core-web-lg==3.5.0) (2.0.8)\n",
      "Requirement already satisfied: typer<0.8.0,>=0.3.0 in /Users/Viktoryia.Kisialeuskaya/.pyenv/versions/3.11.0/envs/deploing_ml_models/lib/python3.11/site-packages (from spacy<3.6.0,>=3.5.0->en-core-web-lg==3.5.0) (0.7.0)\n",
      "Requirement already satisfied: pathy>=0.10.0 in /Users/Viktoryia.Kisialeuskaya/.pyenv/versions/3.11.0/envs/deploing_ml_models/lib/python3.11/site-packages (from spacy<3.6.0,>=3.5.0->en-core-web-lg==3.5.0) (0.10.1)\n",
      "Requirement already satisfied: smart-open<7.0.0,>=5.2.1 in /Users/Viktoryia.Kisialeuskaya/.pyenv/versions/3.11.0/envs/deploing_ml_models/lib/python3.11/site-packages (from spacy<3.6.0,>=3.5.0->en-core-web-lg==3.5.0) (6.3.0)\n",
      "Requirement already satisfied: tqdm<5.0.0,>=4.38.0 in /Users/Viktoryia.Kisialeuskaya/.pyenv/versions/3.11.0/envs/deploing_ml_models/lib/python3.11/site-packages (from spacy<3.6.0,>=3.5.0->en-core-web-lg==3.5.0) (4.65.0)\n",
      "Requirement already satisfied: numpy>=1.15.0 in /Users/Viktoryia.Kisialeuskaya/.pyenv/versions/3.11.0/envs/deploing_ml_models/lib/python3.11/site-packages (from spacy<3.6.0,>=3.5.0->en-core-web-lg==3.5.0) (1.24.3)\n",
      "Requirement already satisfied: requests<3.0.0,>=2.13.0 in /Users/Viktoryia.Kisialeuskaya/.pyenv/versions/3.11.0/envs/deploing_ml_models/lib/python3.11/site-packages (from spacy<3.6.0,>=3.5.0->en-core-web-lg==3.5.0) (2.30.0)\n",
      "Requirement already satisfied: pydantic!=1.8,!=1.8.1,<1.11.0,>=1.7.4 in /Users/Viktoryia.Kisialeuskaya/.pyenv/versions/3.11.0/envs/deploing_ml_models/lib/python3.11/site-packages (from spacy<3.6.0,>=3.5.0->en-core-web-lg==3.5.0) (1.10.7)\n",
      "Requirement already satisfied: jinja2 in /Users/Viktoryia.Kisialeuskaya/.pyenv/versions/3.11.0/envs/deploing_ml_models/lib/python3.11/site-packages (from spacy<3.6.0,>=3.5.0->en-core-web-lg==3.5.0) (3.1.2)\n",
      "Requirement already satisfied: setuptools in /Users/Viktoryia.Kisialeuskaya/.pyenv/versions/3.11.0/envs/deploing_ml_models/lib/python3.11/site-packages (from spacy<3.6.0,>=3.5.0->en-core-web-lg==3.5.0) (67.7.2)\n",
      "Requirement already satisfied: packaging>=20.0 in /Users/Viktoryia.Kisialeuskaya/.pyenv/versions/3.11.0/envs/deploing_ml_models/lib/python3.11/site-packages (from spacy<3.6.0,>=3.5.0->en-core-web-lg==3.5.0) (23.1)\n",
      "Requirement already satisfied: langcodes<4.0.0,>=3.2.0 in /Users/Viktoryia.Kisialeuskaya/.pyenv/versions/3.11.0/envs/deploing_ml_models/lib/python3.11/site-packages (from spacy<3.6.0,>=3.5.0->en-core-web-lg==3.5.0) (3.3.0)\n",
      "Requirement already satisfied: typing-extensions>=4.2.0 in /Users/Viktoryia.Kisialeuskaya/.pyenv/versions/3.11.0/envs/deploing_ml_models/lib/python3.11/site-packages (from pydantic!=1.8,!=1.8.1,<1.11.0,>=1.7.4->spacy<3.6.0,>=3.5.0->en-core-web-lg==3.5.0) (4.5.0)\n",
      "Requirement already satisfied: charset-normalizer<4,>=2 in /Users/Viktoryia.Kisialeuskaya/.pyenv/versions/3.11.0/envs/deploing_ml_models/lib/python3.11/site-packages (from requests<3.0.0,>=2.13.0->spacy<3.6.0,>=3.5.0->en-core-web-lg==3.5.0) (3.1.0)\n",
      "Requirement already satisfied: idna<4,>=2.5 in /Users/Viktoryia.Kisialeuskaya/.pyenv/versions/3.11.0/envs/deploing_ml_models/lib/python3.11/site-packages (from requests<3.0.0,>=2.13.0->spacy<3.6.0,>=3.5.0->en-core-web-lg==3.5.0) (3.4)\n",
      "Requirement already satisfied: urllib3<3,>=1.21.1 in /Users/Viktoryia.Kisialeuskaya/.pyenv/versions/3.11.0/envs/deploing_ml_models/lib/python3.11/site-packages (from requests<3.0.0,>=2.13.0->spacy<3.6.0,>=3.5.0->en-core-web-lg==3.5.0) (1.26.15)\n",
      "Requirement already satisfied: certifi>=2017.4.17 in /Users/Viktoryia.Kisialeuskaya/.pyenv/versions/3.11.0/envs/deploing_ml_models/lib/python3.11/site-packages (from requests<3.0.0,>=2.13.0->spacy<3.6.0,>=3.5.0->en-core-web-lg==3.5.0) (2023.5.7)\n",
      "Requirement already satisfied: blis<0.8.0,>=0.7.8 in /Users/Viktoryia.Kisialeuskaya/.pyenv/versions/3.11.0/envs/deploing_ml_models/lib/python3.11/site-packages (from thinc<8.2.0,>=8.1.8->spacy<3.6.0,>=3.5.0->en-core-web-lg==3.5.0) (0.7.9)\n",
      "Requirement already satisfied: confection<1.0.0,>=0.0.1 in /Users/Viktoryia.Kisialeuskaya/.pyenv/versions/3.11.0/envs/deploing_ml_models/lib/python3.11/site-packages (from thinc<8.2.0,>=8.1.8->spacy<3.6.0,>=3.5.0->en-core-web-lg==3.5.0) (0.0.4)\n",
      "Requirement already satisfied: click<9.0.0,>=7.1.1 in /Users/Viktoryia.Kisialeuskaya/.pyenv/versions/3.11.0/envs/deploing_ml_models/lib/python3.11/site-packages (from typer<0.8.0,>=0.3.0->spacy<3.6.0,>=3.5.0->en-core-web-lg==3.5.0) (8.1.3)\n",
      "Requirement already satisfied: MarkupSafe>=2.0 in /Users/Viktoryia.Kisialeuskaya/.pyenv/versions/3.11.0/envs/deploing_ml_models/lib/python3.11/site-packages (from jinja2->spacy<3.6.0,>=3.5.0->en-core-web-lg==3.5.0) (2.1.2)\n"
     ]
    },
    {
     "name": "stderr",
     "output_type": "stream",
     "text": [
      "\n",
      "[notice] A new release of pip is available: 23.1.2 -> 23.2.1\n",
      "[notice] To update, run: pip install --upgrade pip\n"
     ]
    },
    {
     "name": "stdout",
     "output_type": "stream",
     "text": [
      "\u001b[38;5;2m✔ Download and installation successful\u001b[0m\n",
      "You can now load the package via spacy.load('en_core_web_lg')\n"
     ]
    }
   ],
   "source": [
    "import pandas as pd\n",
    "# to display all the columns of the dataframe in the notebook\n",
    "pd.pandas.set_option(\"display.max_columns\", None)\n",
    "pd.set_option('display.float_format', lambda x: \"%.4f\" % x)\n",
    "\n",
    "import numpy as np\n",
    "import datetime as dt\n",
    "import re\n",
    "\n",
    "import spacy\n",
    "import spacy.cli\n",
    "spacy.cli.download(\"en_core_web_lg\")\n",
    "nlp = spacy.load(\"en_core_web_lg\")\n",
    "\n",
    "from sklearn.model_selection import train_test_split\n",
    "\n",
    "import logging\n",
    "logging.getLogger().setLevel(logging.INFO)\n",
    "\n",
    "import warnings\n",
    "warnings.filterwarnings('ignore')\n",
    "warnings.simplefilter('ignore')"
   ]
  },
  {
   "cell_type": "markdown",
   "metadata": {},
   "source": [
    "## src"
   ]
  },
  {
   "cell_type": "code",
   "execution_count": 2,
   "metadata": {},
   "outputs": [],
   "source": [
    "def get_data(df):\n",
    "    # make a copy of original data to work with\n",
    "    data = df.copy()\n",
    "    # replace missing values in form of \"?\"\n",
    "    data = data.replace(\"?\", np.nan)\n",
    "    # rename columns\n",
    "    multiple_white_spaces = re.compile(r\"\\s+\")\n",
    "    data.columns = [multiple_white_spaces.sub(\"_\", _) for _ in (re.sub(r\"[:/]\", \"\", c) for c in data.columns)]\n",
    "    return data\n",
    "\n",
    "\n",
    "def get_target(df, drop_na, drop_zero, fatalities):\n",
    "    data = df.copy()\n",
    "    # drop rows where drop_na columns value is None\n",
    "    data.dropna(subset=drop_na, inplace=True)\n",
    "    # drop rows where drop_zero columns value is 0\n",
    "    for col in drop_zero:\n",
    "        data.drop(data[data[col] == 0].index, inplace=True)\n",
    "    # for all fatalities columns: fill in missing values with 0, convert values to int\n",
    "    for col in fatalities:\n",
    "        data[col].fillna(0, inplace = True)\n",
    "        data[col] = data[col].astype(int)\n",
    "    # create target variable survived and binary encode it\n",
    "    data[DataSchema.survived] = data[DataSchema.aboard_all]-data[DataSchema.fatalities_all]\n",
    "    data[DataSchema.survived] = np.where(data[DataSchema.survived] > 0, 1, data[DataSchema.survived])\n",
    "    return data"
   ]
  },
  {
   "cell_type": "markdown",
   "metadata": {},
   "source": [
    "## Config"
   ]
  },
  {
   "cell_type": "code",
   "execution_count": 3,
   "metadata": {},
   "outputs": [],
   "source": [
    "class DataSchema:\n",
    "    date = \"Date\"\n",
    "    time = \"Time\"\n",
    "    location = \"Location\"\n",
    "    ac_type = \"AC_Type\"\n",
    "    operator = \"Operator\"\n",
    "    route = \"Route\"\n",
    "    cn_ln = \"cn_ln\"\n",
    "    flight_n = \"Flight_#\"\n",
    "    is_military = \"Is_military\"\n",
    "    mlitary_country = \"Military_country\"\n",
    "    aboard_all = \"Aboard_all\"\n",
    "    aboard_passengers = \"Aboard_passengers\"\n",
    "    fatalities_all = \"Fatalities_all\"\n",
    "    fatalities_passengers = \"Fatalities_passengers\"\n",
    "    ground = \"Ground\"\n",
    "    registration = \"Registration\"\n",
    "    summary = \"Summary\"\n",
    "    routes_lst = \"Routes_lst\"\n",
    "    year = \"Year\"\n",
    "    decade = \"Decade\"\n",
    "    month = \"Month\"\n",
    "    hour = \"Hour\"\n",
    "    routes_n = \"Routes_#\"\n",
    "    vector = \"Vector\"\n",
    "    fatalities = \"Fatalities\"\n",
    "    survived = \"Survived\"\n",
    "    survived_pct = \"Survived_pct\"\n",
    "\n",
    "\n",
    "DROP_NA = [DataSchema.aboard_all, DataSchema.fatalities_all]\n",
    "DROP_ZERO = [DataSchema.aboard_all]\n",
    "FATALITIES = [\n",
    "    DataSchema.aboard_all, \n",
    "    DataSchema.aboard_passengers, \n",
    "    DataSchema.fatalities_all, \n",
    "    DataSchema.fatalities_passengers, \n",
    "    DataSchema.ground\n",
    "]"
   ]
  },
  {
   "cell_type": "markdown",
   "metadata": {},
   "source": [
    "## Load data"
   ]
  },
  {
   "cell_type": "code",
   "execution_count": 4,
   "metadata": {},
   "outputs": [],
   "source": [
    "# load dataset\n",
    "raw_data = pd.read_csv(\"data/raw_data.csv\", sep=\";\")"
   ]
  },
  {
   "cell_type": "code",
   "execution_count": 9,
   "metadata": {},
   "outputs": [
    {
     "name": "stderr",
     "output_type": "stream",
     "text": [
      "INFO:root:\n",
      "\u001b[32mraw_data.shape=(5028, 17)\n",
      "\u001b[35mdata.shape=(5011, 18)\n",
      "\u001b[36mdata.columns=Index(['Date', 'Time', 'Location', 'AC_Type', 'Operator', 'Route', 'cn_ln',\n",
      "       'Flight_#', 'Is_military', 'Military_country', 'Aboard_all',\n",
      "       'Aboard_passengers', 'Fatalities_all', 'Fatalities_passengers',\n",
      "       'Ground', 'Registration', 'Summary', 'Survived'],\n",
      "      dtype='object')\u001b[0m\n"
     ]
    }
   ],
   "source": [
    "data = get_data(raw_data)\n",
    "logging.info(f\"\\n\\033[32m{raw_data.shape=}\\n\\033[35m{data.shape=}\\n\\033[36m{data.columns=}\\033[0m\")"
   ]
  },
  {
   "cell_type": "markdown",
   "metadata": {},
   "source": [
    "## Target"
   ]
  },
  {
   "cell_type": "code",
   "execution_count": 6,
   "metadata": {},
   "outputs": [
    {
     "data": {
      "text/plain": [
       "Survived\n",
       "0   0.6374\n",
       "1   0.3626\n",
       "Name: proportion, dtype: float64"
      ]
     },
     "execution_count": 6,
     "metadata": {},
     "output_type": "execute_result"
    }
   ],
   "source": [
    "data = get_target(data, DROP_NA, DROP_ZERO, FATALITIES)\n",
    "data[DataSchema.survived].value_counts(normalize=True)"
   ]
  },
  {
   "cell_type": "markdown",
   "metadata": {},
   "source": [
    "## Train test split"
   ]
  },
  {
   "cell_type": "code",
   "execution_count": 7,
   "metadata": {},
   "outputs": [],
   "source": [
    "# features and target\n",
    "X = data.drop(DataSchema.survived, axis=1)\n",
    "y = data[DataSchema.survived]\n",
    "\n",
    "# split data into train and test\n",
    "X_train, X_test, y_train, y_test = train_test_split(X, y, test_size=0.2, random_state=42, stratify=y)"
   ]
  },
  {
   "cell_type": "markdown",
   "metadata": {},
   "source": [
    "## Pipeline"
   ]
  },
  {
   "cell_type": "code",
   "execution_count": null,
   "metadata": {},
   "outputs": [],
   "source": [
    "# set up the pipeline\n",
    "price_pipe = Pipeline(\n",
    "    \n",
    ")"
   ]
  }
 ],
 "metadata": {
  "kernelspec": {
   "display_name": "deploing_ml_models",
   "language": "python",
   "name": "python3"
  },
  "language_info": {
   "codemirror_mode": {
    "name": "ipython",
    "version": 3
   },
   "file_extension": ".py",
   "mimetype": "text/x-python",
   "name": "python",
   "nbconvert_exporter": "python",
   "pygments_lexer": "ipython3",
   "version": "3.11.0"
  },
  "orig_nbformat": 4
 },
 "nbformat": 4,
 "nbformat_minor": 2
}
