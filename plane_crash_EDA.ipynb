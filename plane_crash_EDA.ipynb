{
 "cells": [
  {
   "cell_type": "markdown",
   "metadata": {},
   "source": [
    "# Machine Learning Pipeline - Data Analysis\n",
    "\n",
    "Implementation of each of the steps in the Machine Learning Pipeline. \n",
    "\n",
    "1. **Data Analysis**\n",
    "2. Feature Engineering\n",
    "3. Feature Selection\n",
    "4. Model Training\n",
    "5. Obtaining Predictions / Scoring\n",
    "\n",
    "Plane Crash Dataset available on [Kaggle.com](https://www.kaggle.com/datasets/kamilkarczmarczyk/plane-crash-dataset-03042023). See below for more details.\n",
    "\n",
    "==================================================================================================="
   ]
  },
  {
   "cell_type": "markdown",
   "metadata": {},
   "source": [
    "Data description:\n",
    "- Date: Date of accident, in the format - January 01, 2001\n",
    "- Time: Local time, in 24 hr. format unless otherwise specified\n",
    "- Airline/Op: Airline or operator of the aircraft\n",
    "- Flight #: Flight number assigned by the aircraft operator\n",
    "- Route: Complete or partial route flown prior to the accident\n",
    "- AC Type: Aircraft type\n",
    "- Reg: ICAO registration of the aircraft\n",
    "- cn / ln: Construction or serial number / Line or fuselage number\n",
    "- Aboard: Total aboard (passengers / crew)\n",
    "- Fatalities: Total fatalities aboard (passengers / crew)\n",
    "- Ground: Total killed on the ground\n",
    "- Summary: Brief description of the accident and cause if known"
   ]
  },
  {
   "cell_type": "markdown",
   "metadata": {},
   "source": [
    "# Data Analysis"
   ]
  },
  {
   "cell_type": "code",
   "execution_count": 1,
   "metadata": {},
   "outputs": [],
   "source": [
    "# ! python -m spacy download en_core_web_sm"
   ]
  },
  {
   "cell_type": "code",
   "execution_count": 2,
   "metadata": {},
   "outputs": [],
   "source": [
    "# to handle datasets\n",
    "import pandas as pd\n",
    "import numpy as np\n",
    "import datetime as dt\n",
    "\n",
    "# for plotting\n",
    "import matplotlib.pyplot as plt\n",
    "import seaborn as sns\n",
    "\n",
    "# for the yeo-johnson transformation\n",
    "import scipy.stats as stats\n",
    "\n",
    "# to display all the columns of the dataframe in the notebook\n",
    "pd.pandas.set_option(\"display.max_columns\", None)\n",
    "pd.set_option('display.float_format', lambda x: '%.4f' % x)\n",
    "\n",
    "import spacy\n",
    "from typing import Union\n",
    "import logging\n",
    "import itertools\n",
    "\n",
    "import warnings\n",
    "warnings.filterwarnings('ignore')\n",
    "warnings.simplefilter('ignore')\n",
    "\n",
    "%matplotlib inline"
   ]
  },
  {
   "cell_type": "code",
   "execution_count": 3,
   "metadata": {},
   "outputs": [],
   "source": [
    "nlp = spacy.load(\"en_core_web_sm\")\n",
    "logging.getLogger().setLevel(logging.INFO)"
   ]
  },
  {
   "cell_type": "code",
   "execution_count": 4,
   "metadata": {},
   "outputs": [
    {
     "name": "stdout",
     "output_type": "stream",
     "text": [
      "(5028, 17)\n"
     ]
    },
    {
     "data": {
      "text/html": [
       "<div>\n",
       "<style scoped>\n",
       "    .dataframe tbody tr th:only-of-type {\n",
       "        vertical-align: middle;\n",
       "    }\n",
       "\n",
       "    .dataframe tbody tr th {\n",
       "        vertical-align: top;\n",
       "    }\n",
       "\n",
       "    .dataframe thead th {\n",
       "        text-align: right;\n",
       "    }\n",
       "</style>\n",
       "<table border=\"1\" class=\"dataframe\">\n",
       "  <thead>\n",
       "    <tr style=\"text-align: right;\">\n",
       "      <th></th>\n",
       "      <th>Date</th>\n",
       "      <th>Time:</th>\n",
       "      <th>Location:</th>\n",
       "      <th>AC        Type:</th>\n",
       "      <th>Operator:</th>\n",
       "      <th>Route:</th>\n",
       "      <th>cn / ln:</th>\n",
       "      <th>Flight #:</th>\n",
       "      <th>Is_military</th>\n",
       "      <th>Military country</th>\n",
       "      <th>Aboard_all</th>\n",
       "      <th>Aboard_passengers</th>\n",
       "      <th>Fatalities_all</th>\n",
       "      <th>Fatalities_passengers</th>\n",
       "      <th>Ground:</th>\n",
       "      <th>Registration:</th>\n",
       "      <th>Summary:</th>\n",
       "    </tr>\n",
       "  </thead>\n",
       "  <tbody>\n",
       "    <tr>\n",
       "      <th>0</th>\n",
       "      <td>18.03.1946</td>\n",
       "      <td>NaN</td>\n",
       "      <td>Between Chungking and Shanghai, China</td>\n",
       "      <td>NaN</td>\n",
       "      <td>China National Aviation Corporation</td>\n",
       "      <td>Chunking - Shanghai</td>\n",
       "      <td>NaN</td>\n",
       "      <td>NaN</td>\n",
       "      <td>No</td>\n",
       "      <td>NaN</td>\n",
       "      <td>?</td>\n",
       "      <td>?</td>\n",
       "      <td>?</td>\n",
       "      <td>?</td>\n",
       "      <td>NaN</td>\n",
       "      <td>139</td>\n",
       "      <td>Disappeared while en route. Plane never located.</td>\n",
       "    </tr>\n",
       "    <tr>\n",
       "      <th>1</th>\n",
       "      <td>09.11.1944</td>\n",
       "      <td>NaN</td>\n",
       "      <td>Seljord, Norway</td>\n",
       "      <td>NaN</td>\n",
       "      <td>Military - U.S. Army Air Corps</td>\n",
       "      <td>NaN</td>\n",
       "      <td>NaN</td>\n",
       "      <td>NaN</td>\n",
       "      <td>Yes</td>\n",
       "      <td>U.S. Army Air Corps</td>\n",
       "      <td>?</td>\n",
       "      <td>?</td>\n",
       "      <td>?</td>\n",
       "      <td>?</td>\n",
       "      <td>NaN</td>\n",
       "      <td>42-52196</td>\n",
       "      <td>NaN</td>\n",
       "    </tr>\n",
       "    <tr>\n",
       "      <th>2</th>\n",
       "      <td>09.05.1989</td>\n",
       "      <td>NaN</td>\n",
       "      <td>Near Tainjin, China</td>\n",
       "      <td>Bell 412</td>\n",
       "      <td>Aero Asahi</td>\n",
       "      <td>NaN</td>\n",
       "      <td>33070</td>\n",
       "      <td>NaN</td>\n",
       "      <td>No</td>\n",
       "      <td>NaN</td>\n",
       "      <td>?</td>\n",
       "      <td>?</td>\n",
       "      <td>10</td>\n",
       "      <td>?</td>\n",
       "      <td>0.0000</td>\n",
       "      <td>JA9596</td>\n",
       "      <td>NaN</td>\n",
       "    </tr>\n",
       "    <tr>\n",
       "      <th>3</th>\n",
       "      <td>20.02.1992</td>\n",
       "      <td>NaN</td>\n",
       "      <td>En route from Argentina  to  California</td>\n",
       "      <td>Boeing B-747</td>\n",
       "      <td>Aerolineas Argentinas</td>\n",
       "      <td>NaN</td>\n",
       "      <td>NaN</td>\n",
       "      <td>386</td>\n",
       "      <td>No</td>\n",
       "      <td>NaN</td>\n",
       "      <td>?</td>\n",
       "      <td>?</td>\n",
       "      <td>1</td>\n",
       "      <td>?</td>\n",
       "      <td>0.0000</td>\n",
       "      <td>NaN</td>\n",
       "      <td>A passenger died of cholera while en route.</td>\n",
       "    </tr>\n",
       "    <tr>\n",
       "      <th>4</th>\n",
       "      <td>13.03.1954</td>\n",
       "      <td>NaN</td>\n",
       "      <td>Dien Bien Phu, South Vietnam</td>\n",
       "      <td>C-46</td>\n",
       "      <td>Aigle Azur</td>\n",
       "      <td>NaN</td>\n",
       "      <td>NaN</td>\n",
       "      <td>NaN</td>\n",
       "      <td>No</td>\n",
       "      <td>NaN</td>\n",
       "      <td>?</td>\n",
       "      <td>?</td>\n",
       "      <td>?</td>\n",
       "      <td>?</td>\n",
       "      <td>NaN</td>\n",
       "      <td>NaN</td>\n",
       "      <td>Shot down.</td>\n",
       "    </tr>\n",
       "  </tbody>\n",
       "</table>\n",
       "</div>"
      ],
      "text/plain": [
       "         Date Time:                                Location: AC        Type:   \n",
       "0  18.03.1946   NaN    Between Chungking and Shanghai, China             NaN  \\\n",
       "1  09.11.1944   NaN                          Seljord, Norway             NaN   \n",
       "2  09.05.1989   NaN                      Near Tainjin, China        Bell 412   \n",
       "3  20.02.1992   NaN  En route from Argentina  to  California    Boeing B-747   \n",
       "4  13.03.1954   NaN             Dien Bien Phu, South Vietnam            C-46   \n",
       "\n",
       "                             Operator:               Route: cn / ln:   \n",
       "0  China National Aviation Corporation  Chunking - Shanghai      NaN  \\\n",
       "1       Military - U.S. Army Air Corps                  NaN      NaN   \n",
       "2                           Aero Asahi                  NaN    33070   \n",
       "3                Aerolineas Argentinas                  NaN      NaN   \n",
       "4                           Aigle Azur                  NaN      NaN   \n",
       "\n",
       "  Flight #: Is_military      Military country Aboard_all Aboard_passengers   \n",
       "0       NaN          No                   NaN          ?                 ?  \\\n",
       "1       NaN         Yes   U.S. Army Air Corps          ?                 ?   \n",
       "2       NaN          No                   NaN          ?                 ?   \n",
       "3       386          No                   NaN          ?                 ?   \n",
       "4       NaN          No                   NaN          ?                 ?   \n",
       "\n",
       "  Fatalities_all Fatalities_passengers  Ground: Registration:   \n",
       "0              ?                     ?      NaN           139  \\\n",
       "1              ?                     ?      NaN      42-52196   \n",
       "2             10                     ?   0.0000        JA9596   \n",
       "3              1                     ?   0.0000           NaN   \n",
       "4              ?                     ?      NaN           NaN   \n",
       "\n",
       "                                           Summary:  \n",
       "0  Disappeared while en route. Plane never located.  \n",
       "1                                               NaN  \n",
       "2                                               NaN  \n",
       "3       A passenger died of cholera while en route.  \n",
       "4                                        Shot down.  "
      ]
     },
     "execution_count": 4,
     "metadata": {},
     "output_type": "execute_result"
    }
   ],
   "source": [
    "# load dataset\n",
    "raw_data = pd.read_csv(\"data/raw_data.csv\", sep=\";\")\n",
    "\n",
    "# rows and columns of the data\n",
    "print(raw_data.shape)\n",
    "\n",
    "# visualise the dataset\n",
    "raw_data.head()"
   ]
  },
  {
   "cell_type": "code",
   "execution_count": 5,
   "metadata": {},
   "outputs": [
    {
     "name": "stdout",
     "output_type": "stream",
     "text": [
      "<class 'pandas.core.frame.DataFrame'>\n",
      "RangeIndex: 5028 entries, 0 to 5027\n",
      "Data columns (total 17 columns):\n",
      " #   Column                 Non-Null Count  Dtype  \n",
      "---  ------                 --------------  -----  \n",
      " 0   Date                   5028 non-null   object \n",
      " 1   Time:                  3482 non-null   object \n",
      " 2   Location:              5023 non-null   object \n",
      " 3   AC        Type:        5014 non-null   object \n",
      " 4   Operator:              5018 non-null   object \n",
      " 5   Route:                 4264 non-null   object \n",
      " 6   cn / ln:               4358 non-null   object \n",
      " 7   Flight #:              1338 non-null   object \n",
      " 8   Is_military            5018 non-null   object \n",
      " 9   Military country       766 non-null    object \n",
      " 10  Aboard_all             5028 non-null   object \n",
      " 11  Aboard_passengers      5028 non-null   object \n",
      " 12  Fatalities_all         5028 non-null   object \n",
      " 13  Fatalities_passengers  5028 non-null   object \n",
      " 14  Ground:                4984 non-null   float64\n",
      " 15  Registration:          4753 non-null   object \n",
      " 16  Summary:               4969 non-null   object \n",
      "dtypes: float64(1), object(16)\n",
      "memory usage: 667.9+ KB\n"
     ]
    }
   ],
   "source": [
    "raw_data.info()"
   ]
  },
  {
   "cell_type": "code",
   "execution_count": 6,
   "metadata": {},
   "outputs": [],
   "source": [
    "class DataSchema:\n",
    "    DATE = \"Date\"\n",
    "    TIME = \"Time:\"\n",
    "    LOCATION = \"Location:\"\n",
    "    AC_TYPE = \"AC        Type:\"\n",
    "    OPERATOR = \"Operator:\"\n",
    "    ROUTE = \"Route:\"\n",
    "    CN_LN = \"cn / ln:\"\n",
    "    FLIGHT_N = \"Flight #:\"\n",
    "    IS_MILITARY = \"Is_military\"\n",
    "    MILITARY_COUNTRY = \"Military country\"\n",
    "    ABOARD_ALL = \"Aboard_all\"\n",
    "    ABOARD_PASSENGERS = \"Aboard_passengers\"\n",
    "    FATALITIES_ALL = \"Fatalities_all\"\n",
    "    FATALITIES_PASSENGERS = \"Fatalities_passengers\"\n",
    "    GROUND = \"Ground:\"\n",
    "    REGISTRATION = \"Registration:\"\n",
    "    SUMMARY = \"Summary:\"\n",
    "    YEAR = \"Year\"\n",
    "    MONTH = \"Month\"\n",
    "    HOUR = \"Hour\"\n",
    "    ROUTES_N = \"Routes_Number\""
   ]
  },
  {
   "cell_type": "code",
   "execution_count": 7,
   "metadata": {},
   "outputs": [],
   "source": [
    "redundant_columns = []\n",
    "data = raw_data.copy()"
   ]
  },
  {
   "cell_type": "code",
   "execution_count": 8,
   "metadata": {},
   "outputs": [
    {
     "data": {
      "text/html": [
       "<div>\n",
       "<style scoped>\n",
       "    .dataframe tbody tr th:only-of-type {\n",
       "        vertical-align: middle;\n",
       "    }\n",
       "\n",
       "    .dataframe tbody tr th {\n",
       "        vertical-align: top;\n",
       "    }\n",
       "\n",
       "    .dataframe thead th {\n",
       "        text-align: right;\n",
       "    }\n",
       "</style>\n",
       "<table border=\"1\" class=\"dataframe\">\n",
       "  <thead>\n",
       "    <tr style=\"text-align: right;\">\n",
       "      <th></th>\n",
       "      <th>Date</th>\n",
       "      <th>Time:</th>\n",
       "      <th>Location:</th>\n",
       "      <th>AC        Type:</th>\n",
       "      <th>Operator:</th>\n",
       "      <th>Route:</th>\n",
       "      <th>cn / ln:</th>\n",
       "      <th>Flight #:</th>\n",
       "      <th>Is_military</th>\n",
       "      <th>Military country</th>\n",
       "      <th>Aboard_all</th>\n",
       "      <th>Aboard_passengers</th>\n",
       "      <th>Fatalities_all</th>\n",
       "      <th>Fatalities_passengers</th>\n",
       "      <th>Ground:</th>\n",
       "      <th>Registration:</th>\n",
       "      <th>Summary:</th>\n",
       "    </tr>\n",
       "  </thead>\n",
       "  <tbody>\n",
       "    <tr>\n",
       "      <th>0</th>\n",
       "      <td>18.03.1946</td>\n",
       "      <td>NaN</td>\n",
       "      <td>Between Chungking and Shanghai, China</td>\n",
       "      <td>NaN</td>\n",
       "      <td>China National Aviation Corporation</td>\n",
       "      <td>Chunking - Shanghai</td>\n",
       "      <td>NaN</td>\n",
       "      <td>NaN</td>\n",
       "      <td>No</td>\n",
       "      <td>NaN</td>\n",
       "      <td>NaN</td>\n",
       "      <td>NaN</td>\n",
       "      <td>NaN</td>\n",
       "      <td>NaN</td>\n",
       "      <td>NaN</td>\n",
       "      <td>139</td>\n",
       "      <td>Disappeared while en route. Plane never located.</td>\n",
       "    </tr>\n",
       "    <tr>\n",
       "      <th>1</th>\n",
       "      <td>09.11.1944</td>\n",
       "      <td>NaN</td>\n",
       "      <td>Seljord, Norway</td>\n",
       "      <td>NaN</td>\n",
       "      <td>Military - U.S. Army Air Corps</td>\n",
       "      <td>NaN</td>\n",
       "      <td>NaN</td>\n",
       "      <td>NaN</td>\n",
       "      <td>Yes</td>\n",
       "      <td>U.S. Army Air Corps</td>\n",
       "      <td>NaN</td>\n",
       "      <td>NaN</td>\n",
       "      <td>NaN</td>\n",
       "      <td>NaN</td>\n",
       "      <td>NaN</td>\n",
       "      <td>42-52196</td>\n",
       "      <td>NaN</td>\n",
       "    </tr>\n",
       "    <tr>\n",
       "      <th>2</th>\n",
       "      <td>09.05.1989</td>\n",
       "      <td>NaN</td>\n",
       "      <td>Near Tainjin, China</td>\n",
       "      <td>Bell 412</td>\n",
       "      <td>Aero Asahi</td>\n",
       "      <td>NaN</td>\n",
       "      <td>33070</td>\n",
       "      <td>NaN</td>\n",
       "      <td>No</td>\n",
       "      <td>NaN</td>\n",
       "      <td>NaN</td>\n",
       "      <td>NaN</td>\n",
       "      <td>10</td>\n",
       "      <td>NaN</td>\n",
       "      <td>0.0000</td>\n",
       "      <td>JA9596</td>\n",
       "      <td>NaN</td>\n",
       "    </tr>\n",
       "    <tr>\n",
       "      <th>3</th>\n",
       "      <td>20.02.1992</td>\n",
       "      <td>NaN</td>\n",
       "      <td>En route from Argentina  to  California</td>\n",
       "      <td>Boeing B-747</td>\n",
       "      <td>Aerolineas Argentinas</td>\n",
       "      <td>NaN</td>\n",
       "      <td>NaN</td>\n",
       "      <td>386</td>\n",
       "      <td>No</td>\n",
       "      <td>NaN</td>\n",
       "      <td>NaN</td>\n",
       "      <td>NaN</td>\n",
       "      <td>1</td>\n",
       "      <td>NaN</td>\n",
       "      <td>0.0000</td>\n",
       "      <td>NaN</td>\n",
       "      <td>A passenger died of cholera while en route.</td>\n",
       "    </tr>\n",
       "    <tr>\n",
       "      <th>4</th>\n",
       "      <td>13.03.1954</td>\n",
       "      <td>NaN</td>\n",
       "      <td>Dien Bien Phu, South Vietnam</td>\n",
       "      <td>C-46</td>\n",
       "      <td>Aigle Azur</td>\n",
       "      <td>NaN</td>\n",
       "      <td>NaN</td>\n",
       "      <td>NaN</td>\n",
       "      <td>No</td>\n",
       "      <td>NaN</td>\n",
       "      <td>NaN</td>\n",
       "      <td>NaN</td>\n",
       "      <td>NaN</td>\n",
       "      <td>NaN</td>\n",
       "      <td>NaN</td>\n",
       "      <td>NaN</td>\n",
       "      <td>Shot down.</td>\n",
       "    </tr>\n",
       "  </tbody>\n",
       "</table>\n",
       "</div>"
      ],
      "text/plain": [
       "         Date Time:                                Location: AC        Type:   \n",
       "0  18.03.1946   NaN    Between Chungking and Shanghai, China             NaN  \\\n",
       "1  09.11.1944   NaN                          Seljord, Norway             NaN   \n",
       "2  09.05.1989   NaN                      Near Tainjin, China        Bell 412   \n",
       "3  20.02.1992   NaN  En route from Argentina  to  California    Boeing B-747   \n",
       "4  13.03.1954   NaN             Dien Bien Phu, South Vietnam            C-46   \n",
       "\n",
       "                             Operator:               Route: cn / ln:   \n",
       "0  China National Aviation Corporation  Chunking - Shanghai      NaN  \\\n",
       "1       Military - U.S. Army Air Corps                  NaN      NaN   \n",
       "2                           Aero Asahi                  NaN    33070   \n",
       "3                Aerolineas Argentinas                  NaN      NaN   \n",
       "4                           Aigle Azur                  NaN      NaN   \n",
       "\n",
       "  Flight #: Is_military      Military country Aboard_all Aboard_passengers   \n",
       "0       NaN          No                   NaN        NaN               NaN  \\\n",
       "1       NaN         Yes   U.S. Army Air Corps        NaN               NaN   \n",
       "2       NaN          No                   NaN        NaN               NaN   \n",
       "3       386          No                   NaN        NaN               NaN   \n",
       "4       NaN          No                   NaN        NaN               NaN   \n",
       "\n",
       "  Fatalities_all Fatalities_passengers  Ground: Registration:   \n",
       "0            NaN                   NaN      NaN           139  \\\n",
       "1            NaN                   NaN      NaN      42-52196   \n",
       "2             10                   NaN   0.0000        JA9596   \n",
       "3              1                   NaN   0.0000           NaN   \n",
       "4            NaN                   NaN      NaN           NaN   \n",
       "\n",
       "                                           Summary:  \n",
       "0  Disappeared while en route. Plane never located.  \n",
       "1                                               NaN  \n",
       "2                                               NaN  \n",
       "3       A passenger died of cholera while en route.  \n",
       "4                                        Shot down.  "
      ]
     },
     "execution_count": 8,
     "metadata": {},
     "output_type": "execute_result"
    }
   ],
   "source": [
    "data = data.replace(\"?\", np.nan)\n",
    "data.head()"
   ]
  },
  {
   "cell_type": "code",
   "execution_count": 9,
   "metadata": {},
   "outputs": [],
   "source": [
    "def get_pct_missing_and_unique(col: str, alias: str = None) -> None:\n",
    "    alias = alias if alias else col\n",
    "    print(data[col].isna().value_counts())\n",
    "    print(f\"\\033[31m{alias} field has {data[col].isna().sum()/data.shape[0]:.2%} missing values\\033[0m\")\n",
    "    print(f\"\\033[32m{alias} field has {data[col].nunique()/data.shape[0]:.2%} unique values\\033[0m\")"
   ]
  },
  {
   "cell_type": "markdown",
   "metadata": {},
   "source": [
    "## Missing values"
   ]
  },
  {
   "cell_type": "code",
   "execution_count": 10,
   "metadata": {},
   "outputs": [
    {
     "data": {
      "text/plain": [
       "Military country        0.8477\n",
       "Flight #:               0.7339\n",
       "Time:                   0.3075\n",
       "Route:                  0.1519\n",
       "cn / ln:                0.1333\n",
       "Registration:           0.0547\n",
       "Fatalities_passengers   0.0467\n",
       "Aboard_passengers       0.0440\n",
       "Summary:                0.0117\n",
       "Ground:                 0.0088\n",
       "Aboard_all              0.0034\n",
       "AC        Type:         0.0028\n",
       "Operator:               0.0020\n",
       "Is_military             0.0020\n",
       "Fatalities_all          0.0016\n",
       "Location:               0.0010\n",
       "dtype: float64"
      ]
     },
     "execution_count": 10,
     "metadata": {},
     "output_type": "execute_result"
    }
   ],
   "source": [
    "# make a list of the variables that contain missing values\n",
    "vars_with_na = [var for var in data.columns if data[var].isnull().sum() > 0]\n",
    "\n",
    "# determine percentage of missing values (expressed as decimals)\n",
    "# and display the result ordered by % of missin data\n",
    "\n",
    "data[vars_with_na].isnull().mean().sort_values(ascending=False)"
   ]
  },
  {
   "cell_type": "code",
   "execution_count": 11,
   "metadata": {},
   "outputs": [
    {
     "data": {
      "image/png": "[encoded data removed]",
      "text/plain": [
       "<Figure size 1000x400 with 1 Axes>"
      ]
     },
     "metadata": {},
     "output_type": "display_data"
    }
   ],
   "source": [
    "# plot\n",
    "\n",
    "data[vars_with_na].isnull().mean().sort_values(\n",
    "    ascending=False).plot.bar(figsize=(10, 4))\n",
    "plt.ylabel('Percentage of missing data')\n",
    "plt.axhline(y=0.80, color='r', linestyle='-')\n",
    "plt.axhline(y=0.15, color='g', linestyle='-')\n",
    "\n",
    "plt.show()"
   ]
  },
  {
   "cell_type": "markdown",
   "metadata": {},
   "source": [
    "## Date: extract year and month"
   ]
  },
  {
   "cell_type": "code",
   "execution_count": 12,
   "metadata": {},
   "outputs": [
    {
     "name": "stdout",
     "output_type": "stream",
     "text": [
      "Date\n",
      "False    5028\n",
      "Name: count, dtype: int64\n",
      "\u001b[31mDate field has 0.00% missing values\u001b[0m\n",
      "\u001b[32mDate field has 91.41% unique values\u001b[0m\n"
     ]
    }
   ],
   "source": [
    "# check missing values\n",
    "get_pct_missing_and_unique(DataSchema.DATE)"
   ]
  },
  {
   "cell_type": "code",
   "execution_count": 13,
   "metadata": {},
   "outputs": [],
   "source": [
    "# extract year and month from date into separate columns\n",
    "data[DataSchema.YEAR] = pd.to_datetime(data[DataSchema.DATE]).dt.year\n",
    "data[DataSchema.MONTH] = pd.to_datetime(data[DataSchema.DATE]).dt.month\n",
    "redundant_columns.append(DataSchema.DATE)"
   ]
  },
  {
   "cell_type": "markdown",
   "metadata": {},
   "source": [
    "## Time: extract hour"
   ]
  },
  {
   "cell_type": "code",
   "execution_count": 14,
   "metadata": {},
   "outputs": [
    {
     "name": "stdout",
     "output_type": "stream",
     "text": [
      "Time:\n",
      "False    3482\n",
      "True     1546\n",
      "Name: count, dtype: int64\n",
      "\u001b[31mTime field has 30.75% missing values\u001b[0m\n",
      "\u001b[32mTime field has 21.16% unique values\u001b[0m\n"
     ]
    }
   ],
   "source": [
    "# check missing values\n",
    "get_pct_missing_and_unique(DataSchema.TIME, \"Time\")"
   ]
  },
  {
   "cell_type": "code",
   "execution_count": 15,
   "metadata": {},
   "outputs": [],
   "source": [
    "# extract hour from time if time is not NaN else assign time to 25\n",
    "# TODO change hour 25 for eg. with most frequent value for same year, month, operator\n",
    "data[DataSchema.HOUR] = data[DataSchema.TIME].apply(\n",
    "    lambda x: dt.datetime.strptime(x, '%H:%M:%S').hour if x is not np.nan else 25)\n",
    "redundant_columns.append(DataSchema.TIME)"
   ]
  },
  {
   "cell_type": "markdown",
   "metadata": {},
   "source": [
    "## Location: check number of unique values, extract state"
   ]
  },
  {
   "cell_type": "code",
   "execution_count": 16,
   "metadata": {},
   "outputs": [
    {
     "name": "stdout",
     "output_type": "stream",
     "text": [
      "Location:\n",
      "False    5023\n",
      "True        5\n",
      "Name: count, dtype: int64\n",
      "\u001b[31mLocation field has 0.10% missing values\u001b[0m\n",
      "\u001b[32mLocation field has 82.30% unique values\u001b[0m\n"
     ]
    }
   ],
   "source": [
    "get_pct_missing_and_unique(DataSchema.LOCATION, \"Location\")"
   ]
  },
  {
   "cell_type": "code",
   "execution_count": 17,
   "metadata": {},
   "outputs": [
    {
     "data": {
      "text/html": [
       "<div>\n",
       "<style scoped>\n",
       "    .dataframe tbody tr th:only-of-type {\n",
       "        vertical-align: middle;\n",
       "    }\n",
       "\n",
       "    .dataframe tbody tr th {\n",
       "        vertical-align: top;\n",
       "    }\n",
       "\n",
       "    .dataframe thead th {\n",
       "        text-align: right;\n",
       "    }\n",
       "</style>\n",
       "<table border=\"1\" class=\"dataframe\">\n",
       "  <thead>\n",
       "    <tr style=\"text-align: right;\">\n",
       "      <th></th>\n",
       "      <th>Date</th>\n",
       "      <th>Time:</th>\n",
       "      <th>Location:</th>\n",
       "      <th>AC        Type:</th>\n",
       "      <th>Operator:</th>\n",
       "      <th>Route:</th>\n",
       "      <th>cn / ln:</th>\n",
       "      <th>Flight #:</th>\n",
       "      <th>Is_military</th>\n",
       "      <th>Military country</th>\n",
       "      <th>Aboard_all</th>\n",
       "      <th>Aboard_passengers</th>\n",
       "      <th>Fatalities_all</th>\n",
       "      <th>Fatalities_passengers</th>\n",
       "      <th>Ground:</th>\n",
       "      <th>Registration:</th>\n",
       "      <th>Summary:</th>\n",
       "      <th>Year</th>\n",
       "      <th>Month</th>\n",
       "      <th>Hour</th>\n",
       "    </tr>\n",
       "  </thead>\n",
       "  <tbody>\n",
       "    <tr>\n",
       "      <th>306</th>\n",
       "      <td>31.12.1934</td>\n",
       "      <td>NaN</td>\n",
       "      <td>NaN</td>\n",
       "      <td>Tupolev ANT-9</td>\n",
       "      <td>Aeroflot</td>\n",
       "      <td>NaN</td>\n",
       "      <td>NaN</td>\n",
       "      <td>NaN</td>\n",
       "      <td>No</td>\n",
       "      <td>NaN</td>\n",
       "      <td>10</td>\n",
       "      <td>8</td>\n",
       "      <td>10</td>\n",
       "      <td>8</td>\n",
       "      <td>0.0000</td>\n",
       "      <td>NaN</td>\n",
       "      <td>Crashed under unknown circumstances.</td>\n",
       "      <td>1934</td>\n",
       "      <td>12</td>\n",
       "      <td>25</td>\n",
       "    </tr>\n",
       "    <tr>\n",
       "      <th>1652</th>\n",
       "      <td>20.01.1977</td>\n",
       "      <td>NaN</td>\n",
       "      <td>NaN</td>\n",
       "      <td>Bristol 170 Freighter 31M</td>\n",
       "      <td>North Canada Air</td>\n",
       "      <td>NaN</td>\n",
       "      <td>13253</td>\n",
       "      <td>NaN</td>\n",
       "      <td>No</td>\n",
       "      <td>NaN</td>\n",
       "      <td>2</td>\n",
       "      <td>0</td>\n",
       "      <td>1</td>\n",
       "      <td>0</td>\n",
       "      <td>0.0000</td>\n",
       "      <td>C-FWAD</td>\n",
       "      <td>The cargo plane stalled nearly vertical and cr...</td>\n",
       "      <td>1977</td>\n",
       "      <td>1</td>\n",
       "      <td>25</td>\n",
       "    </tr>\n",
       "    <tr>\n",
       "      <th>2720</th>\n",
       "      <td>27.11.1947</td>\n",
       "      <td>NaN</td>\n",
       "      <td>NaN</td>\n",
       "      <td>Douglas DC-3</td>\n",
       "      <td>China National Aviation Corporation</td>\n",
       "      <td>NaN</td>\n",
       "      <td>NaN</td>\n",
       "      <td>NaN</td>\n",
       "      <td>No</td>\n",
       "      <td>NaN</td>\n",
       "      <td>3</td>\n",
       "      <td>0</td>\n",
       "      <td>2</td>\n",
       "      <td>0</td>\n",
       "      <td>0.0000</td>\n",
       "      <td>NaN</td>\n",
       "      <td>The cargo plane was shot down by communist ant...</td>\n",
       "      <td>1947</td>\n",
       "      <td>11</td>\n",
       "      <td>25</td>\n",
       "    </tr>\n",
       "    <tr>\n",
       "      <th>3446</th>\n",
       "      <td>21.08.1942</td>\n",
       "      <td>NaN</td>\n",
       "      <td>NaN</td>\n",
       "      <td>Siebel Si-204</td>\n",
       "      <td>Deutsche Lufthansa</td>\n",
       "      <td>NaN</td>\n",
       "      <td>NaN</td>\n",
       "      <td>NaN</td>\n",
       "      <td>No</td>\n",
       "      <td>NaN</td>\n",
       "      <td>4</td>\n",
       "      <td>2</td>\n",
       "      <td>4</td>\n",
       "      <td>2</td>\n",
       "      <td>0.0000</td>\n",
       "      <td>NaN</td>\n",
       "      <td>Lufthansa chairman, Von Gablenz killed.</td>\n",
       "      <td>1942</td>\n",
       "      <td>8</td>\n",
       "      <td>25</td>\n",
       "    </tr>\n",
       "    <tr>\n",
       "      <th>4278</th>\n",
       "      <td>20.06.1937</td>\n",
       "      <td>NaN</td>\n",
       "      <td>NaN</td>\n",
       "      <td>Travel Air 6000</td>\n",
       "      <td>ENTA</td>\n",
       "      <td>San José  San Isidro de El General</td>\n",
       "      <td>NaN</td>\n",
       "      <td>NaN</td>\n",
       "      <td>No</td>\n",
       "      <td>NaN</td>\n",
       "      <td>6</td>\n",
       "      <td>5</td>\n",
       "      <td>6</td>\n",
       "      <td>5</td>\n",
       "      <td>NaN</td>\n",
       "      <td>TI-3</td>\n",
       "      <td>Hit trees and crashed in an isolated area loca...</td>\n",
       "      <td>1937</td>\n",
       "      <td>6</td>\n",
       "      <td>25</td>\n",
       "    </tr>\n",
       "  </tbody>\n",
       "</table>\n",
       "</div>"
      ],
      "text/plain": [
       "            Date Time: Location:            AC        Type:   \n",
       "306   31.12.1934   NaN       NaN              Tupolev ANT-9  \\\n",
       "1652  20.01.1977   NaN       NaN  Bristol 170 Freighter 31M   \n",
       "2720  27.11.1947   NaN       NaN               Douglas DC-3   \n",
       "3446  21.08.1942   NaN       NaN              Siebel Si-204   \n",
       "4278  20.06.1937   NaN       NaN            Travel Air 6000   \n",
       "\n",
       "                                Operator:                              Route:   \n",
       "306                              Aeroflot                                 NaN  \\\n",
       "1652                     North Canada Air                                 NaN   \n",
       "2720  China National Aviation Corporation                                 NaN   \n",
       "3446                   Deutsche Lufthansa                                 NaN   \n",
       "4278                                 ENTA  San José  San Isidro de El General   \n",
       "\n",
       "     cn / ln: Flight #: Is_military Military country Aboard_all   \n",
       "306       NaN       NaN          No              NaN         10  \\\n",
       "1652    13253       NaN          No              NaN          2   \n",
       "2720      NaN       NaN          No              NaN          3   \n",
       "3446      NaN       NaN          No              NaN          4   \n",
       "4278      NaN       NaN          No              NaN          6   \n",
       "\n",
       "     Aboard_passengers Fatalities_all Fatalities_passengers  Ground:   \n",
       "306                  8             10                     8   0.0000  \\\n",
       "1652                 0              1                     0   0.0000   \n",
       "2720                 0              2                     0   0.0000   \n",
       "3446                 2              4                     2   0.0000   \n",
       "4278                 5              6                     5      NaN   \n",
       "\n",
       "     Registration:                                           Summary:  Year   \n",
       "306            NaN               Crashed under unknown circumstances.  1934  \\\n",
       "1652        C-FWAD  The cargo plane stalled nearly vertical and cr...  1977   \n",
       "2720           NaN  The cargo plane was shot down by communist ant...  1947   \n",
       "3446           NaN            Lufthansa chairman, Von Gablenz killed.  1942   \n",
       "4278          TI-3  Hit trees and crashed in an isolated area loca...  1937   \n",
       "\n",
       "      Month  Hour  \n",
       "306      12    25  \n",
       "1652      1    25  \n",
       "2720     11    25  \n",
       "3446      8    25  \n",
       "4278      6    25  "
      ]
     },
     "execution_count": 17,
     "metadata": {},
     "output_type": "execute_result"
    }
   ],
   "source": [
    "data[data[DataSchema.LOCATION].isna()]"
   ]
  },
  {
   "cell_type": "code",
   "execution_count": 18,
   "metadata": {},
   "outputs": [],
   "source": [
    "def get_locations(text: str) -> Union[None, str]:    \n",
    "    if text is np.nan:\n",
    "        return text\n",
    "    locations = [] \n",
    "    doc = nlp(text)\n",
    "    for ent in doc.ents:\n",
    "        if ent.label_==\"GPE\":\n",
    "            locations.append(ent.text)\n",
    "    return locations[-1] if locations else text\n",
    "\n",
    "data[DataSchema.LOCATION] = data[DataSchema.LOCATION].apply(lambda x: get_locations(x))"
   ]
  },
  {
   "cell_type": "code",
   "execution_count": 19,
   "metadata": {},
   "outputs": [
    {
     "name": "stdout",
     "output_type": "stream",
     "text": [
      "\u001b[31mLocation field after parsing for country has 11.61% unique values\u001b[0m\n"
     ]
    }
   ],
   "source": [
    "print(f\"\\033[31mLocation field after parsing for country has {data[DataSchema.LOCATION].nunique()/data.shape[0]:.2%} unique values\\033[0m\")"
   ]
  },
  {
   "cell_type": "markdown",
   "metadata": {},
   "source": [
    "## AC Type: check for missing values"
   ]
  },
  {
   "cell_type": "code",
   "execution_count": 20,
   "metadata": {},
   "outputs": [
    {
     "name": "stdout",
     "output_type": "stream",
     "text": [
      "AC        Type:\n",
      "False    5014\n",
      "True       14\n",
      "Name: count, dtype: int64\n",
      "\u001b[31mAircraft Type field has 0.28% missing values\u001b[0m\n",
      "\u001b[32mAircraft Type field has 48.19% unique values\u001b[0m\n"
     ]
    }
   ],
   "source": [
    "get_pct_missing_and_unique(DataSchema.AC_TYPE, \"Aircraft Type\")"
   ]
  },
  {
   "cell_type": "code",
   "execution_count": 21,
   "metadata": {},
   "outputs": [
    {
     "data": {
      "text/html": [
       "<div>\n",
       "<style scoped>\n",
       "    .dataframe tbody tr th:only-of-type {\n",
       "        vertical-align: middle;\n",
       "    }\n",
       "\n",
       "    .dataframe tbody tr th {\n",
       "        vertical-align: top;\n",
       "    }\n",
       "\n",
       "    .dataframe thead th {\n",
       "        text-align: right;\n",
       "    }\n",
       "</style>\n",
       "<table border=\"1\" class=\"dataframe\">\n",
       "  <thead>\n",
       "    <tr style=\"text-align: right;\">\n",
       "      <th></th>\n",
       "      <th>Date</th>\n",
       "      <th>Time:</th>\n",
       "      <th>Location:</th>\n",
       "      <th>AC        Type:</th>\n",
       "      <th>Operator:</th>\n",
       "      <th>Route:</th>\n",
       "      <th>cn / ln:</th>\n",
       "      <th>Flight #:</th>\n",
       "      <th>Is_military</th>\n",
       "      <th>Military country</th>\n",
       "      <th>Aboard_all</th>\n",
       "      <th>Aboard_passengers</th>\n",
       "      <th>Fatalities_all</th>\n",
       "      <th>Fatalities_passengers</th>\n",
       "      <th>Ground:</th>\n",
       "      <th>Registration:</th>\n",
       "      <th>Summary:</th>\n",
       "      <th>Year</th>\n",
       "      <th>Month</th>\n",
       "      <th>Hour</th>\n",
       "    </tr>\n",
       "  </thead>\n",
       "  <tbody>\n",
       "    <tr>\n",
       "      <th>0</th>\n",
       "      <td>18.03.1946</td>\n",
       "      <td>NaN</td>\n",
       "      <td>China</td>\n",
       "      <td>NaN</td>\n",
       "      <td>China National Aviation Corporation</td>\n",
       "      <td>Chunking - Shanghai</td>\n",
       "      <td>NaN</td>\n",
       "      <td>NaN</td>\n",
       "      <td>No</td>\n",
       "      <td>NaN</td>\n",
       "      <td>NaN</td>\n",
       "      <td>NaN</td>\n",
       "      <td>NaN</td>\n",
       "      <td>NaN</td>\n",
       "      <td>NaN</td>\n",
       "      <td>139</td>\n",
       "      <td>Disappeared while en route. Plane never located.</td>\n",
       "      <td>1946</td>\n",
       "      <td>3</td>\n",
       "      <td>25</td>\n",
       "    </tr>\n",
       "    <tr>\n",
       "      <th>1</th>\n",
       "      <td>09.11.1944</td>\n",
       "      <td>NaN</td>\n",
       "      <td>Norway</td>\n",
       "      <td>NaN</td>\n",
       "      <td>Military - U.S. Army Air Corps</td>\n",
       "      <td>NaN</td>\n",
       "      <td>NaN</td>\n",
       "      <td>NaN</td>\n",
       "      <td>Yes</td>\n",
       "      <td>U.S. Army Air Corps</td>\n",
       "      <td>NaN</td>\n",
       "      <td>NaN</td>\n",
       "      <td>NaN</td>\n",
       "      <td>NaN</td>\n",
       "      <td>NaN</td>\n",
       "      <td>42-52196</td>\n",
       "      <td>NaN</td>\n",
       "      <td>1944</td>\n",
       "      <td>11</td>\n",
       "      <td>25</td>\n",
       "    </tr>\n",
       "    <tr>\n",
       "      <th>22</th>\n",
       "      <td>08.11.1943</td>\n",
       "      <td>NaN</td>\n",
       "      <td>India</td>\n",
       "      <td>NaN</td>\n",
       "      <td>Military - Indian Air Force</td>\n",
       "      <td>NaN</td>\n",
       "      <td>NaN</td>\n",
       "      <td>NaN</td>\n",
       "      <td>Yes</td>\n",
       "      <td>Indian Air Force</td>\n",
       "      <td>1</td>\n",
       "      <td>NaN</td>\n",
       "      <td>1</td>\n",
       "      <td>NaN</td>\n",
       "      <td>37.0000</td>\n",
       "      <td>NaN</td>\n",
       "      <td>Crashed into a village.</td>\n",
       "      <td>1943</td>\n",
       "      <td>11</td>\n",
       "      <td>25</td>\n",
       "    </tr>\n",
       "    <tr>\n",
       "      <th>924</th>\n",
       "      <td>08.04.1946</td>\n",
       "      <td>NaN</td>\n",
       "      <td>China</td>\n",
       "      <td>NaN</td>\n",
       "      <td>NaN</td>\n",
       "      <td>Shensi - Yenan</td>\n",
       "      <td>NaN</td>\n",
       "      <td>NaN</td>\n",
       "      <td>NaN</td>\n",
       "      <td>NaN</td>\n",
       "      <td>14</td>\n",
       "      <td>11</td>\n",
       "      <td>14</td>\n",
       "      <td>11</td>\n",
       "      <td>0.0000</td>\n",
       "      <td>NaN</td>\n",
       "      <td>NaN</td>\n",
       "      <td>1946</td>\n",
       "      <td>4</td>\n",
       "      <td>25</td>\n",
       "    </tr>\n",
       "    <tr>\n",
       "      <th>1284</th>\n",
       "      <td>08.04.1922</td>\n",
       "      <td>NaN</td>\n",
       "      <td>China</td>\n",
       "      <td>NaN</td>\n",
       "      <td>NaN</td>\n",
       "      <td>Test</td>\n",
       "      <td>NaN</td>\n",
       "      <td>NaN</td>\n",
       "      <td>NaN</td>\n",
       "      <td>NaN</td>\n",
       "      <td>17</td>\n",
       "      <td>0</td>\n",
       "      <td>17</td>\n",
       "      <td>0</td>\n",
       "      <td>0.0000</td>\n",
       "      <td>NaN</td>\n",
       "      <td>Aboard were all workers taking part in a fligh...</td>\n",
       "      <td>1922</td>\n",
       "      <td>4</td>\n",
       "      <td>25</td>\n",
       "    </tr>\n",
       "    <tr>\n",
       "      <th>1616</th>\n",
       "      <td>29.06.1945</td>\n",
       "      <td>NaN</td>\n",
       "      <td>India</td>\n",
       "      <td>NaN</td>\n",
       "      <td>Military - Royal Indian Air Force</td>\n",
       "      <td>NaN</td>\n",
       "      <td>NaN</td>\n",
       "      <td>NaN</td>\n",
       "      <td>Yes</td>\n",
       "      <td>Royal Indian Air Force</td>\n",
       "      <td>2</td>\n",
       "      <td>NaN</td>\n",
       "      <td>2</td>\n",
       "      <td>NaN</td>\n",
       "      <td>36.0000</td>\n",
       "      <td>NaN</td>\n",
       "      <td>Crashed into a village exploding and destoying...</td>\n",
       "      <td>1945</td>\n",
       "      <td>6</td>\n",
       "      <td>25</td>\n",
       "    </tr>\n",
       "    <tr>\n",
       "      <th>1623</th>\n",
       "      <td>08.08.1951</td>\n",
       "      <td>21:00:00</td>\n",
       "      <td>Australia</td>\n",
       "      <td>NaN</td>\n",
       "      <td>Trans Australia Airlines</td>\n",
       "      <td>Hobart Melbourne</td>\n",
       "      <td>13083</td>\n",
       "      <td>NaN</td>\n",
       "      <td>No</td>\n",
       "      <td>NaN</td>\n",
       "      <td>2</td>\n",
       "      <td>0</td>\n",
       "      <td>2</td>\n",
       "      <td>0</td>\n",
       "      <td>0.0000</td>\n",
       "      <td>VH-TAT</td>\n",
       "      <td>Cargo plane. Loss of lateral control during a ...</td>\n",
       "      <td>1951</td>\n",
       "      <td>8</td>\n",
       "      <td>21</td>\n",
       "    </tr>\n",
       "    <tr>\n",
       "      <th>1862</th>\n",
       "      <td>17.03.1946</td>\n",
       "      <td>NaN</td>\n",
       "      <td>China</td>\n",
       "      <td>NaN</td>\n",
       "      <td>Military - Chinese Air Force</td>\n",
       "      <td>Shanghai - Nanking</td>\n",
       "      <td>NaN</td>\n",
       "      <td>NaN</td>\n",
       "      <td>Yes</td>\n",
       "      <td>Chinese Air Force</td>\n",
       "      <td>20</td>\n",
       "      <td>NaN</td>\n",
       "      <td>20</td>\n",
       "      <td>NaN</td>\n",
       "      <td>0.0000</td>\n",
       "      <td>NaN</td>\n",
       "      <td>Crashed into mountainous terrain in low visibi...</td>\n",
       "      <td>1946</td>\n",
       "      <td>3</td>\n",
       "      <td>25</td>\n",
       "    </tr>\n",
       "    <tr>\n",
       "      <th>1863</th>\n",
       "      <td>11.02.1996</td>\n",
       "      <td>NaN</td>\n",
       "      <td>Afghanistan</td>\n",
       "      <td>NaN</td>\n",
       "      <td>Military - Taliban Militia</td>\n",
       "      <td>NaN</td>\n",
       "      <td>NaN</td>\n",
       "      <td>NaN</td>\n",
       "      <td>Yes</td>\n",
       "      <td>Taliban Militia</td>\n",
       "      <td>20</td>\n",
       "      <td>NaN</td>\n",
       "      <td>20</td>\n",
       "      <td>NaN</td>\n",
       "      <td>0.0000</td>\n",
       "      <td>NaN</td>\n",
       "      <td>The helicopter was shot down.</td>\n",
       "      <td>1996</td>\n",
       "      <td>2</td>\n",
       "      <td>25</td>\n",
       "    </tr>\n",
       "    <tr>\n",
       "      <th>2623</th>\n",
       "      <td>11.12.1941</td>\n",
       "      <td>NaN</td>\n",
       "      <td>Florida</td>\n",
       "      <td>NaN</td>\n",
       "      <td>Pan American Airways</td>\n",
       "      <td>NaN</td>\n",
       "      <td>NaN</td>\n",
       "      <td>NaN</td>\n",
       "      <td>No</td>\n",
       "      <td>NaN</td>\n",
       "      <td>3</td>\n",
       "      <td>NaN</td>\n",
       "      <td>3</td>\n",
       "      <td>NaN</td>\n",
       "      <td>0.0000</td>\n",
       "      <td>NC21V</td>\n",
       "      <td>NaN</td>\n",
       "      <td>1941</td>\n",
       "      <td>12</td>\n",
       "      <td>25</td>\n",
       "    </tr>\n",
       "    <tr>\n",
       "      <th>2625</th>\n",
       "      <td>22.11.1961</td>\n",
       "      <td>NaN</td>\n",
       "      <td>Zimbabwe</td>\n",
       "      <td>NaN</td>\n",
       "      <td>Rhodesian Air Services</td>\n",
       "      <td>Salisbury - Livingstone - Elizabethville</td>\n",
       "      <td>19351</td>\n",
       "      <td>NaN</td>\n",
       "      <td>No</td>\n",
       "      <td>NaN</td>\n",
       "      <td>3</td>\n",
       "      <td>0</td>\n",
       "      <td>3</td>\n",
       "      <td>0</td>\n",
       "      <td>0.0000</td>\n",
       "      <td>VP-YRX</td>\n",
       "      <td>The aircraft was on a charter flight to Living...</td>\n",
       "      <td>1961</td>\n",
       "      <td>11</td>\n",
       "      <td>25</td>\n",
       "    </tr>\n",
       "    <tr>\n",
       "      <th>3451</th>\n",
       "      <td>15.07.1967</td>\n",
       "      <td>NaN</td>\n",
       "      <td>Canada</td>\n",
       "      <td>NaN</td>\n",
       "      <td>Eastern Provincial Airways</td>\n",
       "      <td>NaN</td>\n",
       "      <td>NaN</td>\n",
       "      <td>NaN</td>\n",
       "      <td>No</td>\n",
       "      <td>NaN</td>\n",
       "      <td>4</td>\n",
       "      <td>3</td>\n",
       "      <td>4</td>\n",
       "      <td>3</td>\n",
       "      <td>0.0000</td>\n",
       "      <td>NaN</td>\n",
       "      <td>Crashed minutes after takeoff.</td>\n",
       "      <td>1967</td>\n",
       "      <td>7</td>\n",
       "      <td>25</td>\n",
       "    </tr>\n",
       "    <tr>\n",
       "      <th>4551</th>\n",
       "      <td>26.03.1952</td>\n",
       "      <td>NaN</td>\n",
       "      <td>Russia</td>\n",
       "      <td>NaN</td>\n",
       "      <td>Aeroflot</td>\n",
       "      <td>NaN</td>\n",
       "      <td>NaN</td>\n",
       "      <td>NaN</td>\n",
       "      <td>No</td>\n",
       "      <td>NaN</td>\n",
       "      <td>70</td>\n",
       "      <td>NaN</td>\n",
       "      <td>70</td>\n",
       "      <td>NaN</td>\n",
       "      <td>0.0000</td>\n",
       "      <td>NaN</td>\n",
       "      <td>The plane overshot the runway and collided wit...</td>\n",
       "      <td>1952</td>\n",
       "      <td>3</td>\n",
       "      <td>25</td>\n",
       "    </tr>\n",
       "    <tr>\n",
       "      <th>4847</th>\n",
       "      <td>29.05.1935</td>\n",
       "      <td>NaN</td>\n",
       "      <td>Honduras</td>\n",
       "      <td>NaN</td>\n",
       "      <td>NaN</td>\n",
       "      <td>NaN</td>\n",
       "      <td>NaN</td>\n",
       "      <td>NaN</td>\n",
       "      <td>NaN</td>\n",
       "      <td>NaN</td>\n",
       "      <td>9</td>\n",
       "      <td>NaN</td>\n",
       "      <td>6</td>\n",
       "      <td>NaN</td>\n",
       "      <td>0.0000</td>\n",
       "      <td>NaN</td>\n",
       "      <td>Crashed into the Ulua River.</td>\n",
       "      <td>1935</td>\n",
       "      <td>5</td>\n",
       "      <td>25</td>\n",
       "    </tr>\n",
       "  </tbody>\n",
       "</table>\n",
       "</div>"
      ],
      "text/plain": [
       "            Date     Time:    Location: AC        Type:   \n",
       "0     18.03.1946       NaN        China             NaN  \\\n",
       "1     09.11.1944       NaN       Norway             NaN   \n",
       "22    08.11.1943       NaN        India             NaN   \n",
       "924   08.04.1946       NaN        China             NaN   \n",
       "1284  08.04.1922       NaN        China             NaN   \n",
       "1616  29.06.1945       NaN        India             NaN   \n",
       "1623  08.08.1951  21:00:00    Australia             NaN   \n",
       "1862  17.03.1946       NaN        China             NaN   \n",
       "1863  11.02.1996       NaN  Afghanistan             NaN   \n",
       "2623  11.12.1941       NaN      Florida             NaN   \n",
       "2625  22.11.1961       NaN     Zimbabwe             NaN   \n",
       "3451  15.07.1967       NaN       Canada             NaN   \n",
       "4551  26.03.1952       NaN       Russia             NaN   \n",
       "4847  29.05.1935       NaN     Honduras             NaN   \n",
       "\n",
       "                                Operator:   \n",
       "0     China National Aviation Corporation  \\\n",
       "1          Military - U.S. Army Air Corps   \n",
       "22            Military - Indian Air Force   \n",
       "924                                   NaN   \n",
       "1284                                  NaN   \n",
       "1616    Military - Royal Indian Air Force   \n",
       "1623             Trans Australia Airlines   \n",
       "1862         Military - Chinese Air Force   \n",
       "1863           Military - Taliban Militia   \n",
       "2623                 Pan American Airways   \n",
       "2625               Rhodesian Air Services   \n",
       "3451           Eastern Provincial Airways   \n",
       "4551                             Aeroflot   \n",
       "4847                                  NaN   \n",
       "\n",
       "                                        Route: cn / ln: Flight #: Is_military   \n",
       "0                          Chunking - Shanghai      NaN       NaN          No  \\\n",
       "1                                          NaN      NaN       NaN         Yes   \n",
       "22                                         NaN      NaN       NaN         Yes   \n",
       "924                             Shensi - Yenan      NaN       NaN         NaN   \n",
       "1284                                      Test      NaN       NaN         NaN   \n",
       "1616                                       NaN      NaN       NaN         Yes   \n",
       "1623                          Hobart Melbourne    13083       NaN          No   \n",
       "1862                        Shanghai - Nanking      NaN       NaN         Yes   \n",
       "1863                                       NaN      NaN       NaN         Yes   \n",
       "2623                                       NaN      NaN       NaN          No   \n",
       "2625  Salisbury - Livingstone - Elizabethville    19351       NaN          No   \n",
       "3451                                       NaN      NaN       NaN          No   \n",
       "4551                                       NaN      NaN       NaN          No   \n",
       "4847                                       NaN      NaN       NaN         NaN   \n",
       "\n",
       "             Military country Aboard_all Aboard_passengers Fatalities_all   \n",
       "0                         NaN        NaN               NaN            NaN  \\\n",
       "1         U.S. Army Air Corps        NaN               NaN            NaN   \n",
       "22           Indian Air Force          1               NaN              1   \n",
       "924                       NaN         14                11             14   \n",
       "1284                      NaN         17                 0             17   \n",
       "1616   Royal Indian Air Force          2               NaN              2   \n",
       "1623                      NaN          2                 0              2   \n",
       "1862        Chinese Air Force         20               NaN             20   \n",
       "1863          Taliban Militia         20               NaN             20   \n",
       "2623                      NaN          3               NaN              3   \n",
       "2625                      NaN          3                 0              3   \n",
       "3451                      NaN          4                 3              4   \n",
       "4551                      NaN         70               NaN             70   \n",
       "4847                      NaN          9               NaN              6   \n",
       "\n",
       "     Fatalities_passengers  Ground: Registration:   \n",
       "0                      NaN      NaN           139  \\\n",
       "1                      NaN      NaN      42-52196   \n",
       "22                     NaN  37.0000           NaN   \n",
       "924                     11   0.0000           NaN   \n",
       "1284                     0   0.0000           NaN   \n",
       "1616                   NaN  36.0000           NaN   \n",
       "1623                     0   0.0000        VH-TAT   \n",
       "1862                   NaN   0.0000           NaN   \n",
       "1863                   NaN   0.0000           NaN   \n",
       "2623                   NaN   0.0000         NC21V   \n",
       "2625                     0   0.0000        VP-YRX   \n",
       "3451                     3   0.0000           NaN   \n",
       "4551                   NaN   0.0000           NaN   \n",
       "4847                   NaN   0.0000           NaN   \n",
       "\n",
       "                                               Summary:  Year  Month  Hour  \n",
       "0      Disappeared while en route. Plane never located.  1946      3    25  \n",
       "1                                                   NaN  1944     11    25  \n",
       "22                              Crashed into a village.  1943     11    25  \n",
       "924                                                 NaN  1946      4    25  \n",
       "1284  Aboard were all workers taking part in a fligh...  1922      4    25  \n",
       "1616  Crashed into a village exploding and destoying...  1945      6    25  \n",
       "1623  Cargo plane. Loss of lateral control during a ...  1951      8    21  \n",
       "1862  Crashed into mountainous terrain in low visibi...  1946      3    25  \n",
       "1863                      The helicopter was shot down.  1996      2    25  \n",
       "2623                                                NaN  1941     12    25  \n",
       "2625  The aircraft was on a charter flight to Living...  1961     11    25  \n",
       "3451                     Crashed minutes after takeoff.  1967      7    25  \n",
       "4551  The plane overshot the runway and collided wit...  1952      3    25  \n",
       "4847                       Crashed into the Ulua River.  1935      5    25  "
      ]
     },
     "execution_count": 21,
     "metadata": {},
     "output_type": "execute_result"
    }
   ],
   "source": [
    "data[data[DataSchema.AC_TYPE].isna()]"
   ]
  },
  {
   "cell_type": "code",
   "execution_count": 22,
   "metadata": {},
   "outputs": [],
   "source": [
    "# TODO group Aircraft types"
   ]
  },
  {
   "cell_type": "markdown",
   "metadata": {},
   "source": [
    "## Operator"
   ]
  },
  {
   "cell_type": "code",
   "execution_count": 23,
   "metadata": {},
   "outputs": [
    {
     "name": "stdout",
     "output_type": "stream",
     "text": [
      "Operator:\n",
      "False    5018\n",
      "True       10\n",
      "Name: count, dtype: int64\n",
      "\u001b[31mOperator field has 0.20% missing values\u001b[0m\n",
      "\u001b[32mOperator field has 45.07% unique values\u001b[0m\n"
     ]
    }
   ],
   "source": [
    "get_pct_missing_and_unique(DataSchema.OPERATOR, \"Operator\")"
   ]
  },
  {
   "cell_type": "code",
   "execution_count": 24,
   "metadata": {},
   "outputs": [
    {
     "data": {
      "text/html": [
       "<div>\n",
       "<style scoped>\n",
       "    .dataframe tbody tr th:only-of-type {\n",
       "        vertical-align: middle;\n",
       "    }\n",
       "\n",
       "    .dataframe tbody tr th {\n",
       "        vertical-align: top;\n",
       "    }\n",
       "\n",
       "    .dataframe thead th {\n",
       "        text-align: right;\n",
       "    }\n",
       "</style>\n",
       "<table border=\"1\" class=\"dataframe\">\n",
       "  <thead>\n",
       "    <tr style=\"text-align: right;\">\n",
       "      <th></th>\n",
       "      <th>Date</th>\n",
       "      <th>Time:</th>\n",
       "      <th>Location:</th>\n",
       "      <th>AC        Type:</th>\n",
       "      <th>Operator:</th>\n",
       "      <th>Route:</th>\n",
       "      <th>cn / ln:</th>\n",
       "      <th>Flight #:</th>\n",
       "      <th>Is_military</th>\n",
       "      <th>Military country</th>\n",
       "      <th>Aboard_all</th>\n",
       "      <th>Aboard_passengers</th>\n",
       "      <th>Fatalities_all</th>\n",
       "      <th>Fatalities_passengers</th>\n",
       "      <th>Ground:</th>\n",
       "      <th>Registration:</th>\n",
       "      <th>Summary:</th>\n",
       "      <th>Year</th>\n",
       "      <th>Month</th>\n",
       "      <th>Hour</th>\n",
       "    </tr>\n",
       "  </thead>\n",
       "  <tbody>\n",
       "    <tr>\n",
       "      <th>158</th>\n",
       "      <td>07.09.1909</td>\n",
       "      <td>NaN</td>\n",
       "      <td>France</td>\n",
       "      <td>Wright Byplane</td>\n",
       "      <td>NaN</td>\n",
       "      <td>Air show</td>\n",
       "      <td>NaN</td>\n",
       "      <td>NaN</td>\n",
       "      <td>NaN</td>\n",
       "      <td>NaN</td>\n",
       "      <td>1</td>\n",
       "      <td>0</td>\n",
       "      <td>1</td>\n",
       "      <td>0</td>\n",
       "      <td>0.0000</td>\n",
       "      <td>SC1</td>\n",
       "      <td>Eugene Lefebvre was the first pilot to ever be...</td>\n",
       "      <td>1909</td>\n",
       "      <td>9</td>\n",
       "      <td>25</td>\n",
       "    </tr>\n",
       "    <tr>\n",
       "      <th>728</th>\n",
       "      <td>04.07.1943</td>\n",
       "      <td>23:00:00</td>\n",
       "      <td>Gibraltar</td>\n",
       "      <td>Consolidated Liberator B24 C</td>\n",
       "      <td>NaN</td>\n",
       "      <td>NaN</td>\n",
       "      <td>NaN</td>\n",
       "      <td>NaN</td>\n",
       "      <td>NaN</td>\n",
       "      <td>NaN</td>\n",
       "      <td>13</td>\n",
       "      <td>NaN</td>\n",
       "      <td>12</td>\n",
       "      <td>NaN</td>\n",
       "      <td>0.0000</td>\n",
       "      <td>A-L-523</td>\n",
       "      <td>The flight, bound for London, crashed into the...</td>\n",
       "      <td>1943</td>\n",
       "      <td>7</td>\n",
       "      <td>23</td>\n",
       "    </tr>\n",
       "    <tr>\n",
       "      <th>924</th>\n",
       "      <td>08.04.1946</td>\n",
       "      <td>NaN</td>\n",
       "      <td>China</td>\n",
       "      <td>NaN</td>\n",
       "      <td>NaN</td>\n",
       "      <td>Shensi - Yenan</td>\n",
       "      <td>NaN</td>\n",
       "      <td>NaN</td>\n",
       "      <td>NaN</td>\n",
       "      <td>NaN</td>\n",
       "      <td>14</td>\n",
       "      <td>11</td>\n",
       "      <td>14</td>\n",
       "      <td>11</td>\n",
       "      <td>0.0000</td>\n",
       "      <td>NaN</td>\n",
       "      <td>NaN</td>\n",
       "      <td>1946</td>\n",
       "      <td>4</td>\n",
       "      <td>25</td>\n",
       "    </tr>\n",
       "    <tr>\n",
       "      <th>1145</th>\n",
       "      <td>17.06.1917</td>\n",
       "      <td>NaN</td>\n",
       "      <td>England</td>\n",
       "      <td>Zepplin L-48 (air ship)</td>\n",
       "      <td>NaN</td>\n",
       "      <td>NaN</td>\n",
       "      <td>NaN</td>\n",
       "      <td>NaN</td>\n",
       "      <td>NaN</td>\n",
       "      <td>NaN</td>\n",
       "      <td>16</td>\n",
       "      <td>NaN</td>\n",
       "      <td>14</td>\n",
       "      <td>NaN</td>\n",
       "      <td>0.0000</td>\n",
       "      <td>L-48</td>\n",
       "      <td>Shot down by aircraft.</td>\n",
       "      <td>1917</td>\n",
       "      <td>6</td>\n",
       "      <td>25</td>\n",
       "    </tr>\n",
       "    <tr>\n",
       "      <th>1189</th>\n",
       "      <td>02.09.1963</td>\n",
       "      <td>NaN</td>\n",
       "      <td>Northeast Laos</td>\n",
       "      <td>Curtiss C-46 Commando</td>\n",
       "      <td>NaN</td>\n",
       "      <td>NaN</td>\n",
       "      <td>NaN</td>\n",
       "      <td>NaN</td>\n",
       "      <td>NaN</td>\n",
       "      <td>NaN</td>\n",
       "      <td>16</td>\n",
       "      <td>13</td>\n",
       "      <td>15</td>\n",
       "      <td>12</td>\n",
       "      <td>NaN</td>\n",
       "      <td>NaN</td>\n",
       "      <td>Refugee flight.</td>\n",
       "      <td>1963</td>\n",
       "      <td>9</td>\n",
       "      <td>25</td>\n",
       "    </tr>\n",
       "    <tr>\n",
       "      <th>1284</th>\n",
       "      <td>08.04.1922</td>\n",
       "      <td>NaN</td>\n",
       "      <td>China</td>\n",
       "      <td>NaN</td>\n",
       "      <td>NaN</td>\n",
       "      <td>Test</td>\n",
       "      <td>NaN</td>\n",
       "      <td>NaN</td>\n",
       "      <td>NaN</td>\n",
       "      <td>NaN</td>\n",
       "      <td>17</td>\n",
       "      <td>0</td>\n",
       "      <td>17</td>\n",
       "      <td>0</td>\n",
       "      <td>0.0000</td>\n",
       "      <td>NaN</td>\n",
       "      <td>Aboard were all workers taking part in a fligh...</td>\n",
       "      <td>1922</td>\n",
       "      <td>4</td>\n",
       "      <td>25</td>\n",
       "    </tr>\n",
       "    <tr>\n",
       "      <th>2847</th>\n",
       "      <td>26.12.2011</td>\n",
       "      <td>05:54:00</td>\n",
       "      <td>Florida</td>\n",
       "      <td>Bell 206B</td>\n",
       "      <td>NaN</td>\n",
       "      <td>Jacksonville, FL - Gainsville, FL</td>\n",
       "      <td>2636</td>\n",
       "      <td>NaN</td>\n",
       "      <td>NaN</td>\n",
       "      <td>NaN</td>\n",
       "      <td>3</td>\n",
       "      <td>2</td>\n",
       "      <td>3</td>\n",
       "      <td>2</td>\n",
       "      <td>0.0000</td>\n",
       "      <td>N5016M</td>\n",
       "      <td>The on-demand air taxi was on a flight to proc...</td>\n",
       "      <td>2011</td>\n",
       "      <td>12</td>\n",
       "      <td>5</td>\n",
       "    </tr>\n",
       "    <tr>\n",
       "      <th>2892</th>\n",
       "      <td>04.07.1922</td>\n",
       "      <td>NaN</td>\n",
       "      <td>Germany</td>\n",
       "      <td>LVG C VI</td>\n",
       "      <td>NaN</td>\n",
       "      <td>Hamburg - Berlin</td>\n",
       "      <td>NaN</td>\n",
       "      <td>NaN</td>\n",
       "      <td>NaN</td>\n",
       "      <td>NaN</td>\n",
       "      <td>3</td>\n",
       "      <td>2</td>\n",
       "      <td>2</td>\n",
       "      <td>1</td>\n",
       "      <td>0.0000</td>\n",
       "      <td>NaN</td>\n",
       "      <td>The passenger/mail plane lost it's engine whil...</td>\n",
       "      <td>1922</td>\n",
       "      <td>7</td>\n",
       "      <td>25</td>\n",
       "    </tr>\n",
       "    <tr>\n",
       "      <th>3932</th>\n",
       "      <td>26.09.1926</td>\n",
       "      <td>NaN</td>\n",
       "      <td>New York</td>\n",
       "      <td>Sikorsky S-25</td>\n",
       "      <td>NaN</td>\n",
       "      <td>New York - Paris</td>\n",
       "      <td>NaN</td>\n",
       "      <td>NaN</td>\n",
       "      <td>NaN</td>\n",
       "      <td>NaN</td>\n",
       "      <td>5</td>\n",
       "      <td>4</td>\n",
       "      <td>2</td>\n",
       "      <td>2</td>\n",
       "      <td>0.0000</td>\n",
       "      <td>NaN</td>\n",
       "      <td>Too much weight caused the landing gear to col...</td>\n",
       "      <td>1926</td>\n",
       "      <td>9</td>\n",
       "      <td>25</td>\n",
       "    </tr>\n",
       "    <tr>\n",
       "      <th>4847</th>\n",
       "      <td>29.05.1935</td>\n",
       "      <td>NaN</td>\n",
       "      <td>Honduras</td>\n",
       "      <td>NaN</td>\n",
       "      <td>NaN</td>\n",
       "      <td>NaN</td>\n",
       "      <td>NaN</td>\n",
       "      <td>NaN</td>\n",
       "      <td>NaN</td>\n",
       "      <td>NaN</td>\n",
       "      <td>9</td>\n",
       "      <td>NaN</td>\n",
       "      <td>6</td>\n",
       "      <td>NaN</td>\n",
       "      <td>0.0000</td>\n",
       "      <td>NaN</td>\n",
       "      <td>Crashed into the Ulua River.</td>\n",
       "      <td>1935</td>\n",
       "      <td>5</td>\n",
       "      <td>25</td>\n",
       "    </tr>\n",
       "  </tbody>\n",
       "</table>\n",
       "</div>"
      ],
      "text/plain": [
       "            Date     Time:       Location:               AC        Type:   \n",
       "158   07.09.1909       NaN          France                Wright Byplane  \\\n",
       "728   04.07.1943  23:00:00       Gibraltar  Consolidated Liberator B24 C   \n",
       "924   08.04.1946       NaN           China                           NaN   \n",
       "1145  17.06.1917       NaN         England       Zepplin L-48 (air ship)   \n",
       "1189  02.09.1963       NaN  Northeast Laos         Curtiss C-46 Commando   \n",
       "1284  08.04.1922       NaN           China                           NaN   \n",
       "2847  26.12.2011  05:54:00         Florida                     Bell 206B   \n",
       "2892  04.07.1922       NaN         Germany                      LVG C VI   \n",
       "3932  26.09.1926       NaN        New York                 Sikorsky S-25   \n",
       "4847  29.05.1935       NaN        Honduras                           NaN   \n",
       "\n",
       "     Operator:                             Route: cn / ln: Flight #:   \n",
       "158        NaN                           Air show      NaN       NaN  \\\n",
       "728        NaN                                NaN      NaN       NaN   \n",
       "924        NaN                     Shensi - Yenan      NaN       NaN   \n",
       "1145       NaN                                NaN      NaN       NaN   \n",
       "1189       NaN                                NaN      NaN       NaN   \n",
       "1284       NaN                               Test      NaN       NaN   \n",
       "2847       NaN  Jacksonville, FL - Gainsville, FL     2636       NaN   \n",
       "2892       NaN                   Hamburg - Berlin      NaN       NaN   \n",
       "3932       NaN                   New York - Paris      NaN       NaN   \n",
       "4847       NaN                                NaN      NaN       NaN   \n",
       "\n",
       "     Is_military Military country Aboard_all Aboard_passengers Fatalities_all   \n",
       "158          NaN              NaN          1                 0              1  \\\n",
       "728          NaN              NaN         13               NaN             12   \n",
       "924          NaN              NaN         14                11             14   \n",
       "1145         NaN              NaN         16               NaN             14   \n",
       "1189         NaN              NaN         16                13             15   \n",
       "1284         NaN              NaN         17                 0             17   \n",
       "2847         NaN              NaN          3                 2              3   \n",
       "2892         NaN              NaN          3                 2              2   \n",
       "3932         NaN              NaN          5                 4              2   \n",
       "4847         NaN              NaN          9               NaN              6   \n",
       "\n",
       "     Fatalities_passengers  Ground: Registration:   \n",
       "158                      0   0.0000           SC1  \\\n",
       "728                    NaN   0.0000       A-L-523   \n",
       "924                     11   0.0000           NaN   \n",
       "1145                   NaN   0.0000          L-48   \n",
       "1189                    12      NaN           NaN   \n",
       "1284                     0   0.0000           NaN   \n",
       "2847                     2   0.0000        N5016M   \n",
       "2892                     1   0.0000           NaN   \n",
       "3932                     2   0.0000           NaN   \n",
       "4847                   NaN   0.0000           NaN   \n",
       "\n",
       "                                               Summary:  Year  Month  Hour  \n",
       "158   Eugene Lefebvre was the first pilot to ever be...  1909      9    25  \n",
       "728   The flight, bound for London, crashed into the...  1943      7    23  \n",
       "924                                                 NaN  1946      4    25  \n",
       "1145                             Shot down by aircraft.  1917      6    25  \n",
       "1189                                    Refugee flight.  1963      9    25  \n",
       "1284  Aboard were all workers taking part in a fligh...  1922      4    25  \n",
       "2847  The on-demand air taxi was on a flight to proc...  2011     12     5  \n",
       "2892  The passenger/mail plane lost it's engine whil...  1922      7    25  \n",
       "3932  Too much weight caused the landing gear to col...  1926      9    25  \n",
       "4847                       Crashed into the Ulua River.  1935      5    25  "
      ]
     },
     "execution_count": 24,
     "metadata": {},
     "output_type": "execute_result"
    }
   ],
   "source": [
    "data[data[DataSchema.OPERATOR].isna()]"
   ]
  },
  {
   "cell_type": "code",
   "execution_count": 25,
   "metadata": {},
   "outputs": [
    {
     "data": {
      "text/plain": [
       "0       China National Aviation Corporation\n",
       "1            Military - U.S. Army Air Corps\n",
       "2                                Aero Asahi\n",
       "3                     Aerolineas Argentinas\n",
       "4                                Aigle Azur\n",
       "                       ...                 \n",
       "5023       Military - Royal Saudi Air Force\n",
       "5024                American Flyers Airline\n",
       "5025                                Bek Air\n",
       "5026         Pakistan International Airline\n",
       "5027               KLM Royal Dutch Airlines\n",
       "Name: Operator:, Length: 5028, dtype: object"
      ]
     },
     "execution_count": 25,
     "metadata": {},
     "output_type": "execute_result"
    }
   ],
   "source": [
    "data[DataSchema.OPERATOR]"
   ]
  },
  {
   "cell_type": "code",
   "execution_count": 26,
   "metadata": {},
   "outputs": [],
   "source": [
    "def get_operatos_list(text: str) -> Union[None, list]:\n",
    "    if text is np.nan:\n",
    "        return text\n",
    "    if \"test\" in text.lower():\n",
    "        return text\n",
    "    operators = []\n",
    "    doc = nlp(text)\n",
    "    for ent in doc.ents:\n",
    "        if ent.label_ == \"ORG\":\n",
    "            operators.append(ent.text)\n",
    "    return operators[-1] if operators else text\n",
    "\n",
    "# test\n",
    "# x = [np.nan, \"Military - U.S. Army Air Corps\", \"Test\", \"American Flyers Airline\", \"KLM Royal Dutch Airlines\", \"Air Canada\"]\n",
    "# for i in x:\n",
    "#     y = get_operatos_list(i)\n",
    "#     print(y)\n",
    "#     print(\"==========================\")"
   ]
  },
  {
   "cell_type": "code",
   "execution_count": 27,
   "metadata": {},
   "outputs": [],
   "source": [
    "tmp = data.copy()\n",
    "tmp[\"tmp\"] = tmp[DataSchema.OPERATOR].apply(lambda x: get_operatos_list(x))"
   ]
  },
  {
   "cell_type": "code",
   "execution_count": 28,
   "metadata": {},
   "outputs": [
    {
     "data": {
      "text/plain": [
       "2722                    Indian Airlines\n",
       "279                     Air New England\n",
       "3311                 Air National Guard\n",
       "1301        Private - Airfast Indonesia\n",
       "1891    Military - U.S. Army Air Forces\n",
       "Name: tmp, dtype: object"
      ]
     },
     "execution_count": 28,
     "metadata": {},
     "output_type": "execute_result"
    }
   ],
   "source": [
    "tmp[\"tmp\"].sample(5)"
   ]
  },
  {
   "cell_type": "code",
   "execution_count": 29,
   "metadata": {},
   "outputs": [
    {
     "name": "stdout",
     "output_type": "stream",
     "text": [
      "\u001b[35mOperator field after organisation extraction has 44.31% unique values\u001b[0m\n"
     ]
    }
   ],
   "source": [
    "print(f\"\\033[35mOperator field after organisation extraction has {tmp['tmp'].nunique()/data.shape[0]:.2%} unique values\\033[0m\")"
   ]
  },
  {
   "cell_type": "code",
   "execution_count": 30,
   "metadata": {},
   "outputs": [],
   "source": [
    "# TODO consider to use tf-idf\n",
    "redundant_columns.append(DataSchema.OPERATOR)"
   ]
  },
  {
   "cell_type": "markdown",
   "metadata": {},
   "source": [
    "## Route"
   ]
  },
  {
   "cell_type": "code",
   "execution_count": 31,
   "metadata": {},
   "outputs": [
    {
     "name": "stdout",
     "output_type": "stream",
     "text": [
      "Route:\n",
      "False    4264\n",
      "True      764\n",
      "Name: count, dtype: int64\n",
      "\u001b[31mRoute field has 15.19% missing values\u001b[0m\n",
      "\u001b[32mRoute field has 76.55% unique values\u001b[0m\n"
     ]
    }
   ],
   "source": [
    "get_pct_missing_and_unique(DataSchema.ROUTE, \"Route\")"
   ]
  },
  {
   "cell_type": "code",
   "execution_count": 32,
   "metadata": {},
   "outputs": [
    {
     "data": {
      "text/plain": [
       "556     Ouagadougou, Burkina Faso - Algiers, Algeria\n",
       "322                         Dillingham - King Salmon\n",
       "1150                                      Wake-Agana\n",
       "4036                                Hualien - Taipei\n",
       "793                              Fairbanks - Yakutat\n",
       "Name: Route:, dtype: object"
      ]
     },
     "execution_count": 32,
     "metadata": {},
     "output_type": "execute_result"
    }
   ],
   "source": [
    "data[DataSchema.ROUTE].sample(5)"
   ]
  },
  {
   "cell_type": "code",
   "execution_count": 33,
   "metadata": {},
   "outputs": [],
   "source": [
    "def get_multiple_locations(text: str) -> Union[None, str]:    \n",
    "    if text is np.nan:\n",
    "        return text\n",
    "    route = text.split(\" - \")    \n",
    "    for point in route:\n",
    "        doc = nlp(point)\n",
    "        for ent in doc.ents:\n",
    "            if ent.label_==\"GPE\":\n",
    "                point = ent.text\n",
    "    flatten = list(itertools.chain(*[[j] if isinstance(j, str) else j for j in [i.split(\", \") for i in route]]))\n",
    "    return flatten\n",
    "\n",
    "\n",
    "# test\n",
    "# routes = [\n",
    "#     \"Sukhumi - Kutaisi\", \"Test flight\", np.nan, \"Bombing run\", \n",
    "#     \"Boston - NY - Washington DC - Jacksonville - Miami\", \"Lima - Pucallpa - Iquitos\"]\n",
    "# for _ in routes:\n",
    "#     x = get_multiple_locations(_)\n",
    "#     print(x)"
   ]
  },
  {
   "cell_type": "code",
   "execution_count": 34,
   "metadata": {},
   "outputs": [],
   "source": [
    "data[DataSchema.ROUTE] = data[DataSchema.ROUTE].apply(lambda x: get_multiple_locations(x))"
   ]
  },
  {
   "cell_type": "code",
   "execution_count": 35,
   "metadata": {},
   "outputs": [
    {
     "data": {
      "text/plain": [
       "1431    [Southend, England, Rotterdam, The Netherlands]\n",
       "2676                                    [Dinjan, Suifu]\n",
       "4091                                      [Rome, Paris]\n",
       "919                                   [Huambo, Saurimo]\n",
       "4149                                                NaN\n",
       "Name: Route:, dtype: object"
      ]
     },
     "execution_count": 35,
     "metadata": {},
     "output_type": "execute_result"
    }
   ],
   "source": [
    "data[DataSchema.ROUTE].sample(5)"
   ]
  },
  {
   "cell_type": "code",
   "execution_count": 36,
   "metadata": {},
   "outputs": [],
   "source": [
    "data[DataSchema.ROUTES_N] = data[DataSchema.ROUTE].apply(lambda x: 0 if x is np.nan else len(x))"
   ]
  },
  {
   "cell_type": "code",
   "execution_count": 37,
   "metadata": {},
   "outputs": [
    {
     "data": {
      "text/plain": [
       "Routes_Number\n",
       "2    2913\n",
       "0     764\n",
       "4     452\n",
       "3     442\n",
       "1     371\n",
       "5      59\n",
       "6      26\n",
       "7       1\n",
       "Name: count, dtype: int64"
      ]
     },
     "execution_count": 37,
     "metadata": {},
     "output_type": "execute_result"
    }
   ],
   "source": [
    "data[DataSchema.ROUTES_N].value_counts()"
   ]
  },
  {
   "cell_type": "code",
   "execution_count": 38,
   "metadata": {},
   "outputs": [],
   "source": [
    "redundant_columns.append(DataSchema.ROUTE)"
   ]
  },
  {
   "cell_type": "markdown",
   "metadata": {},
   "source": [
    "## Construction or serial number / Line or fuselage number"
   ]
  },
  {
   "cell_type": "code",
   "execution_count": 39,
   "metadata": {},
   "outputs": [
    {
     "name": "stdout",
     "output_type": "stream",
     "text": [
      "cn / ln:\n",
      "False    4358\n",
      "True      670\n",
      "Name: count, dtype: int64\n",
      "\u001b[31mConstruction/fuselage number field has 13.33% missing values\u001b[0m\n",
      "\u001b[32mConstruction/fuselage number field has 78.02% unique values\u001b[0m\n"
     ]
    }
   ],
   "source": [
    "get_pct_missing_and_unique(DataSchema.CN_LN, \"Construction/fuselage number\")"
   ]
  },
  {
   "cell_type": "code",
   "execution_count": 40,
   "metadata": {},
   "outputs": [
    {
     "data": {
      "text/plain": [
       "2       33070\n",
       "13       4514\n",
       "18       4938\n",
       "23         22\n",
       "25      U-178\n",
       "        ...  \n",
       "5023     4754\n",
       "5024     1136\n",
       "5025    11496\n",
       "5026     2274\n",
       "5027     4841\n",
       "Name: cn / ln:, Length: 4358, dtype: object"
      ]
     },
     "execution_count": 40,
     "metadata": {},
     "output_type": "execute_result"
    }
   ],
   "source": [
    "data[data[DataSchema.CN_LN].notna()][DataSchema.CN_LN]"
   ]
  },
  {
   "cell_type": "code",
   "execution_count": 41,
   "metadata": {},
   "outputs": [],
   "source": [
    "redundant_columns.append(DataSchema.CN_LN)"
   ]
  },
  {
   "cell_type": "markdown",
   "metadata": {},
   "source": [
    "## Flight number"
   ]
  },
  {
   "cell_type": "code",
   "execution_count": 42,
   "metadata": {},
   "outputs": [
    {
     "name": "stdout",
     "output_type": "stream",
     "text": [
      "Flight #:\n",
      "True     3690\n",
      "False    1338\n",
      "Name: count, dtype: int64\n",
      "\u001b[31mFlight number field has 73.39% missing values\u001b[0m\n",
      "\u001b[32mFlight number field has 17.96% unique values\u001b[0m\n"
     ]
    }
   ],
   "source": [
    "get_pct_missing_and_unique(DataSchema.FLIGHT_N, \"Flight number\")"
   ]
  },
  {
   "cell_type": "code",
   "execution_count": 43,
   "metadata": {},
   "outputs": [
    {
     "data": {
      "text/plain": [
       "4084     2174\n",
       "1034      627\n",
       "3533      108\n",
       "1173      670\n",
       "3252    A-053\n",
       "Name: Flight #:, dtype: object"
      ]
     },
     "execution_count": 43,
     "metadata": {},
     "output_type": "execute_result"
    }
   ],
   "source": [
    "data[data[DataSchema.FLIGHT_N].notna()][DataSchema.FLIGHT_N].sample(5)"
   ]
  },
  {
   "cell_type": "code",
   "execution_count": 44,
   "metadata": {},
   "outputs": [],
   "source": [
    "redundant_columns.append(DataSchema.FLIGHT_N)"
   ]
  },
  {
   "cell_type": "markdown",
   "metadata": {},
   "source": [
    "## Is Military"
   ]
  },
  {
   "cell_type": "code",
   "execution_count": 45,
   "metadata": {},
   "outputs": [
    {
     "name": "stdout",
     "output_type": "stream",
     "text": [
      "Is_military\n",
      "False    5018\n",
      "True       10\n",
      "Name: count, dtype: int64\n",
      "\u001b[31mIs Military field has 0.20% missing values\u001b[0m\n",
      "\u001b[32mIs Military field has 0.04% unique values\u001b[0m\n"
     ]
    }
   ],
   "source": [
    "get_pct_missing_and_unique(DataSchema.IS_MILITARY, \"Is Military\")"
   ]
  },
  {
   "cell_type": "code",
   "execution_count": 46,
   "metadata": {},
   "outputs": [],
   "source": [
    "# TODO consider to drop military samples\n",
    "redundant_columns.append(DataSchema.IS_MILITARY)"
   ]
  },
  {
   "cell_type": "markdown",
   "metadata": {},
   "source": [
    "## Military country"
   ]
  },
  {
   "cell_type": "code",
   "execution_count": 47,
   "metadata": {},
   "outputs": [
    {
     "name": "stdout",
     "output_type": "stream",
     "text": [
      "Military country\n",
      "True     4262\n",
      "False     766\n",
      "Name: count, dtype: int64\n",
      "\u001b[31mMilitary country field has 84.77% missing values\u001b[0m\n",
      "\u001b[32mMilitary country field has 4.26% unique values\u001b[0m\n"
     ]
    }
   ],
   "source": [
    "get_pct_missing_and_unique(DataSchema.MILITARY_COUNTRY)"
   ]
  },
  {
   "cell_type": "code",
   "execution_count": 48,
   "metadata": {},
   "outputs": [],
   "source": [
    "redundant_columns.append(DataSchema.MILITARY_COUNTRY)"
   ]
  },
  {
   "cell_type": "markdown",
   "metadata": {},
   "source": [
    "## Aboard All"
   ]
  },
  {
   "cell_type": "code",
   "execution_count": 49,
   "metadata": {},
   "outputs": [
    {
     "name": "stdout",
     "output_type": "stream",
     "text": [
      "Aboard_all\n",
      "False    5011\n",
      "True       17\n",
      "Name: count, dtype: int64\n",
      "\u001b[31mAboard All field has 0.34% missing values\u001b[0m\n",
      "\u001b[32mAboard All field has 4.85% unique values\u001b[0m\n"
     ]
    }
   ],
   "source": [
    "get_pct_missing_and_unique(DataSchema.ABOARD_ALL, \"Aboard All\")"
   ]
  },
  {
   "cell_type": "markdown",
   "metadata": {},
   "source": [
    "## Abroad Passengers"
   ]
  },
  {
   "cell_type": "code",
   "execution_count": 50,
   "metadata": {},
   "outputs": [
    {
     "name": "stdout",
     "output_type": "stream",
     "text": [
      "Aboard_passengers\n",
      "False    4807\n",
      "True      221\n",
      "Name: count, dtype: int64\n",
      "\u001b[31mAbroad Passengers field has 4.40% missing values\u001b[0m\n",
      "\u001b[32mAbroad Passengers field has 4.65% unique values\u001b[0m\n"
     ]
    }
   ],
   "source": [
    "get_pct_missing_and_unique(DataSchema.ABOARD_PASSENGERS, \"Abroad Passengers\")"
   ]
  },
  {
   "cell_type": "markdown",
   "metadata": {},
   "source": [
    "## Fatalities All"
   ]
  },
  {
   "cell_type": "code",
   "execution_count": 51,
   "metadata": {},
   "outputs": [
    {
     "name": "stdout",
     "output_type": "stream",
     "text": [
      "Fatalities_all\n",
      "False    5020\n",
      "True        8\n",
      "Name: count, dtype: int64\n",
      "\u001b[31mFatalities All field has 0.16% missing values\u001b[0m\n",
      "\u001b[32mFatalities All field has 3.96% unique values\u001b[0m\n"
     ]
    }
   ],
   "source": [
    "get_pct_missing_and_unique(DataSchema.FATALITIES_ALL, \"Fatalities All\")"
   ]
  },
  {
   "cell_type": "markdown",
   "metadata": {},
   "source": [
    "## Fatalities Passengers"
   ]
  },
  {
   "cell_type": "code",
   "execution_count": 52,
   "metadata": {},
   "outputs": [
    {
     "name": "stdout",
     "output_type": "stream",
     "text": [
      "Fatalities_passengers\n",
      "False    4793\n",
      "True      235\n",
      "Name: count, dtype: int64\n",
      "\u001b[31mFatalities Passengers field has 4.67% missing values\u001b[0m\n",
      "\u001b[32mFatalities Passengers field has 3.78% unique values\u001b[0m\n"
     ]
    }
   ],
   "source": [
    "get_pct_missing_and_unique(DataSchema.FATALITIES_PASSENGERS, \"Fatalities Passengers\")"
   ]
  },
  {
   "cell_type": "markdown",
   "metadata": {},
   "source": [
    "## Ground"
   ]
  },
  {
   "cell_type": "code",
   "execution_count": 53,
   "metadata": {},
   "outputs": [
    {
     "name": "stdout",
     "output_type": "stream",
     "text": [
      "Ground:\n",
      "False    4984\n",
      "True       44\n",
      "Name: count, dtype: int64\n",
      "\u001b[31mGround field has 0.88% missing values\u001b[0m\n",
      "\u001b[32mGround field has 0.99% unique values\u001b[0m\n"
     ]
    }
   ],
   "source": [
    "get_pct_missing_and_unique(DataSchema.GROUND, \"Ground\")"
   ]
  },
  {
   "cell_type": "code",
   "execution_count": 54,
   "metadata": {},
   "outputs": [
    {
     "data": {
      "text/plain": [
       "Ground:\n",
       "0.0000       4733\n",
       "1.0000         62\n",
       "2.0000         36\n",
       "3.0000         21\n",
       "4.0000         16\n",
       "5.0000         12\n",
       "7.0000         10\n",
       "8.0000          9\n",
       "10.0000         6\n",
       "6.0000          6\n",
       "14.0000         5\n",
       "11.0000         4\n",
       "12.0000         4\n",
       "19.0000         4\n",
       "44.0000         4\n",
       "13.0000         4\n",
       "22.0000         4\n",
       "24.0000         3\n",
       "20.0000         3\n",
       "125.0000        2\n",
       "25.0000         2\n",
       "30.0000         2\n",
       "2750.0000       2\n",
       "37.0000         2\n",
       "15.0000         2\n",
       "35.0000         2\n",
       "16.0000         1\n",
       "49.0000         1\n",
       "63.0000         1\n",
       "39.0000         1\n",
       "58.0000         1\n",
       "225.0000        1\n",
       "23.0000         1\n",
       "78.0000         1\n",
       "71.0000         1\n",
       "53.0000         1\n",
       "40.0000         1\n",
       "18.0000         1\n",
       "113.0000        1\n",
       "31.0000         1\n",
       "85.0000         1\n",
       "36.0000         1\n",
       "87.0000         1\n",
       "33.0000         1\n",
       "45.0000         1\n",
       "32.0000         1\n",
       "29.0000         1\n",
       "50.0000         1\n",
       "17.0000         1\n",
       "9.0000          1\n",
       "Name: count, dtype: int64"
      ]
     },
     "execution_count": 54,
     "metadata": {},
     "output_type": "execute_result"
    }
   ],
   "source": [
    "data[DataSchema.GROUND].value_counts()\n",
    "# data[data[DataSchema.GROUND]==2750]"
   ]
  },
  {
   "cell_type": "code",
   "execution_count": 55,
   "metadata": {},
   "outputs": [],
   "source": [
    "# TODO replace np.nan with most mean which is 0 and change type to int"
   ]
  },
  {
   "cell_type": "code",
   "execution_count": 56,
   "metadata": {},
   "outputs": [
    {
     "data": {
      "text/html": [
       "<div>\n",
       "<style scoped>\n",
       "    .dataframe tbody tr th:only-of-type {\n",
       "        vertical-align: middle;\n",
       "    }\n",
       "\n",
       "    .dataframe tbody tr th {\n",
       "        vertical-align: top;\n",
       "    }\n",
       "\n",
       "    .dataframe thead th {\n",
       "        text-align: right;\n",
       "    }\n",
       "</style>\n",
       "<table border=\"1\" class=\"dataframe\">\n",
       "  <thead>\n",
       "    <tr style=\"text-align: right;\">\n",
       "      <th></th>\n",
       "      <th>Aboard_all</th>\n",
       "      <th>Aboard_passengers</th>\n",
       "      <th>Fatalities_all</th>\n",
       "      <th>Fatalities_passengers</th>\n",
       "      <th>Ground:</th>\n",
       "    </tr>\n",
       "  </thead>\n",
       "  <tbody>\n",
       "    <tr>\n",
       "      <th>2446</th>\n",
       "      <td>261</td>\n",
       "      <td>247</td>\n",
       "      <td>261</td>\n",
       "      <td>247</td>\n",
       "      <td>0.0000</td>\n",
       "    </tr>\n",
       "    <tr>\n",
       "      <th>344</th>\n",
       "      <td>100</td>\n",
       "      <td>96</td>\n",
       "      <td>2</td>\n",
       "      <td>2</td>\n",
       "      <td>0.0000</td>\n",
       "    </tr>\n",
       "    <tr>\n",
       "      <th>687</th>\n",
       "      <td>12</td>\n",
       "      <td>9</td>\n",
       "      <td>1</td>\n",
       "      <td>1</td>\n",
       "      <td>0.0000</td>\n",
       "    </tr>\n",
       "    <tr>\n",
       "      <th>3483</th>\n",
       "      <td>4</td>\n",
       "      <td>3</td>\n",
       "      <td>4</td>\n",
       "      <td>3</td>\n",
       "      <td>0.0000</td>\n",
       "    </tr>\n",
       "    <tr>\n",
       "      <th>3223</th>\n",
       "      <td>37</td>\n",
       "      <td>34</td>\n",
       "      <td>37</td>\n",
       "      <td>34</td>\n",
       "      <td>0.0000</td>\n",
       "    </tr>\n",
       "    <tr>\n",
       "      <th>2943</th>\n",
       "      <td>30</td>\n",
       "      <td>27</td>\n",
       "      <td>3</td>\n",
       "      <td>1</td>\n",
       "      <td>0.0000</td>\n",
       "    </tr>\n",
       "    <tr>\n",
       "      <th>732</th>\n",
       "      <td>13</td>\n",
       "      <td>NaN</td>\n",
       "      <td>13</td>\n",
       "      <td>NaN</td>\n",
       "      <td>0.0000</td>\n",
       "    </tr>\n",
       "    <tr>\n",
       "      <th>3541</th>\n",
       "      <td>41</td>\n",
       "      <td>35</td>\n",
       "      <td>41</td>\n",
       "      <td>35</td>\n",
       "      <td>0.0000</td>\n",
       "    </tr>\n",
       "    <tr>\n",
       "      <th>1575</th>\n",
       "      <td>19</td>\n",
       "      <td>16</td>\n",
       "      <td>19</td>\n",
       "      <td>16</td>\n",
       "      <td>0.0000</td>\n",
       "    </tr>\n",
       "    <tr>\n",
       "      <th>1978</th>\n",
       "      <td>21</td>\n",
       "      <td>14</td>\n",
       "      <td>2</td>\n",
       "      <td>0</td>\n",
       "      <td>0.0000</td>\n",
       "    </tr>\n",
       "  </tbody>\n",
       "</table>\n",
       "</div>"
      ],
      "text/plain": [
       "     Aboard_all Aboard_passengers Fatalities_all Fatalities_passengers   \n",
       "2446        261               247            261                   247  \\\n",
       "344         100                96              2                     2   \n",
       "687          12                 9              1                     1   \n",
       "3483          4                 3              4                     3   \n",
       "3223         37                34             37                    34   \n",
       "2943         30                27              3                     1   \n",
       "732          13               NaN             13                   NaN   \n",
       "3541         41                35             41                    35   \n",
       "1575         19                16             19                    16   \n",
       "1978         21                14              2                     0   \n",
       "\n",
       "      Ground:  \n",
       "2446   0.0000  \n",
       "344    0.0000  \n",
       "687    0.0000  \n",
       "3483   0.0000  \n",
       "3223   0.0000  \n",
       "2943   0.0000  \n",
       "732    0.0000  \n",
       "3541   0.0000  \n",
       "1575   0.0000  \n",
       "1978   0.0000  "
      ]
     },
     "execution_count": 56,
     "metadata": {},
     "output_type": "execute_result"
    }
   ],
   "source": [
    "fatalities = [\n",
    "    DataSchema.ABOARD_ALL, DataSchema.ABOARD_PASSENGERS, \n",
    "    DataSchema.FATALITIES_ALL, DataSchema.FATALITIES_PASSENGERS, DataSchema.GROUND]\n",
    "data[fatalities].sample(10)"
   ]
  },
  {
   "cell_type": "code",
   "execution_count": 57,
   "metadata": {},
   "outputs": [
    {
     "data": {
      "text/plain": [
       "<Axes: ylabel='Count'>"
      ]
     },
     "execution_count": 57,
     "metadata": {},
     "output_type": "execute_result"
    },
    {
     "data": {
      "image/png": "[encoded data removed]",
      "text/plain": [
       "<Figure size 640x480 with 1 Axes>"
      ]
     },
     "metadata": {},
     "output_type": "display_data"
    }
   ],
   "source": [
    "def get_pct_fatalities(row):\n",
    "    if row[DataSchema.ABOARD_ALL] is not np.nan and row[DataSchema.FATALITIES_ALL]is not np.nan and int(row[DataSchema.ABOARD_ALL])!=0:\n",
    "        return int(row[DataSchema.FATALITIES_ALL])/int(row[DataSchema.ABOARD_ALL])*100\n",
    "    return -1\n",
    "\n",
    "all = data.apply(lambda x: get_pct_fatalities(x), axis=1)\n",
    "\n",
    "def get_pct_fatalities_passwnger(row):\n",
    "    if row[DataSchema.ABOARD_ALL] is not np.nan and row[DataSchema.FATALITIES_PASSENGERS]is not np.nan and int(row[DataSchema.ABOARD_ALL])!=0:\n",
    "        return int(row[DataSchema.FATALITIES_PASSENGERS])/int(row[DataSchema.ABOARD_ALL])*100\n",
    "    return -1\n",
    "\n",
    "passengers = data.apply(lambda x: get_pct_fatalities(x), axis=1)\n",
    "\n",
    "def get_pct_fatalities_passwnger(row):\n",
    "    if row[DataSchema.ABOARD_ALL] is not np.nan and row[DataSchema.FATALITIES_PASSENGERS]is not np.nan and int(row[DataSchema.ABOARD_ALL])!=0:\n",
    "        return (int(row[DataSchema.FATALITIES_ALL])-int(row[DataSchema.FATALITIES_PASSENGERS]))/int(row[DataSchema.ABOARD_ALL])*100\n",
    "    return -1\n",
    "\n",
    "crew = data.apply(lambda x: get_pct_fatalities(x), axis=1)\n",
    "\n",
    "sns.histplot(all)"
   ]
  },
  {
   "cell_type": "code",
   "execution_count": 58,
   "metadata": {},
   "outputs": [],
   "source": [
    "redundant_columns.append(DataSchema.GROUND)"
   ]
  },
  {
   "cell_type": "markdown",
   "metadata": {},
   "source": [
    "## Registration"
   ]
  },
  {
   "cell_type": "code",
   "execution_count": 59,
   "metadata": {},
   "outputs": [
    {
     "name": "stdout",
     "output_type": "stream",
     "text": [
      "Registration:\n",
      "False    4753\n",
      "True      275\n",
      "Name: count, dtype: int64\n",
      "\u001b[31mRegistration field has 5.47% missing values\u001b[0m\n",
      "\u001b[32mRegistration field has 93.81% unique values\u001b[0m\n"
     ]
    }
   ],
   "source": [
    "get_pct_missing_and_unique(DataSchema.REGISTRATION, \"Registration\")"
   ]
  },
  {
   "cell_type": "code",
   "execution_count": 60,
   "metadata": {},
   "outputs": [
    {
     "data": {
      "text/plain": [
       "3648    CCCP-47751\n",
       "143         NC1682\n",
       "263          N81PF\n",
       "732         G-AEUH\n",
       "4894        D2-EHD\n",
       "Name: Registration:, dtype: object"
      ]
     },
     "execution_count": 60,
     "metadata": {},
     "output_type": "execute_result"
    }
   ],
   "source": [
    "data[DataSchema.REGISTRATION].sample(5)"
   ]
  },
  {
   "cell_type": "code",
   "execution_count": 61,
   "metadata": {},
   "outputs": [],
   "source": [
    "redundant_columns.append(DataSchema.REGISTRATION)"
   ]
  },
  {
   "cell_type": "markdown",
   "metadata": {},
   "source": [
    "## Summary"
   ]
  },
  {
   "cell_type": "code",
   "execution_count": 62,
   "metadata": {},
   "outputs": [
    {
     "name": "stdout",
     "output_type": "stream",
     "text": [
      "Summary:\n",
      "False    4969\n",
      "True       59\n",
      "Name: count, dtype: int64\n",
      "\u001b[31mSummary field has 1.17% missing values\u001b[0m\n",
      "\u001b[32mSummary field has 96.96% unique values\u001b[0m\n"
     ]
    }
   ],
   "source": [
    "get_pct_missing_and_unique(DataSchema.SUMMARY, \"Summary\")"
   ]
  },
  {
   "cell_type": "code",
   "execution_count": 63,
   "metadata": {},
   "outputs": [
    {
     "data": {
      "text/plain": [
       "0        Disappeared while en route. Plane never located.\n",
       "1                                                     NaN\n",
       "2                                                     NaN\n",
       "3             A passenger died of cholera while en route.\n",
       "4                                              Shot down.\n",
       "                              ...                        \n",
       "5023    Crashed while attempting to land in poor visib...\n",
       "5024    The aircraft crashed into foothills during lan...\n",
       "5025    While taking off, the tail of the plane struck...\n",
       "5026    While landing, the aircraft scraped the runway...\n",
       "5027    The aircraft crashed into the sea while en rou...\n",
       "Name: Summary:, Length: 5028, dtype: object"
      ]
     },
     "execution_count": 63,
     "metadata": {},
     "output_type": "execute_result"
    }
   ],
   "source": [
    "data[DataSchema.SUMMARY]"
   ]
  },
  {
   "cell_type": "code",
   "execution_count": 65,
   "metadata": {},
   "outputs": [
    {
     "name": "stdout",
     "output_type": "stream",
     "text": [
      "showing info https://raw.githubusercontent.com/nltk/nltk_data/gh-pages/index.xml\n"
     ]
    },
    {
     "ename": "",
     "evalue": "",
     "output_type": "error",
     "traceback": [
      "\u001b[1;31mThe Kernel crashed while executing code in the the current cell or a previous cell. Please review the code in the cell(s) to identify a possible cause of the failure. Click <a href='https://aka.ms/vscodeJupyterKernelCrash'>here</a> for more info. View Jupyter <a href='command:jupyter.viewOutput'>log</a> for further details."
     ]
    },
    {
     "ename": "",
     "evalue": "",
     "output_type": "error",
     "traceback": [
      "\u001b[1;31mCanceled future for execute_request message before replies were done"
     ]
    }
   ],
   "source": [
    "# import nltk\n",
    "\n",
    "# test = \"Disappeared while en route. Plane never located.\"\n",
    "# tokens = nltk.word_tokenize(test)\n",
    "# tokens"
   ]
  },
  {
   "cell_type": "code",
   "execution_count": null,
   "metadata": {},
   "outputs": [],
   "source": []
  }
 ],
 "metadata": {
  "kernelspec": {
   "display_name": "Python 3.11.0 64-bit ('deploing_ml_models')",
   "language": "python",
   "name": "python3"
  },
  "language_info": {
   "codemirror_mode": {
    "name": "ipython",
    "version": 3
   },
   "file_extension": ".py",
   "mimetype": "text/x-python",
   "name": "python",
   "nbconvert_exporter": "python",
   "pygments_lexer": "ipython3",
   "version": "3.11.0"
  },
  "orig_nbformat": 4,
  "vscode": {
   "interpreter": {
    "hash": "6f13d9f54e4f4e8bae757f010cebe67df66911819a91a6a446f98cddd5d9857d"
   }
  }
 },
 "nbformat": 4,
 "nbformat_minor": 2
}
