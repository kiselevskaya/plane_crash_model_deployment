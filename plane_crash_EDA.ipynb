{
 "cells": [
  {
   "cell_type": "markdown",
   "metadata": {},
   "source": [
    "# Machine Learning Pipeline - Data Analysis\n",
    "\n",
    "Implementation of each of the steps in the Machine Learning Pipeline. \n",
    "\n",
    "1. **Data Analysis**\n",
    "2. Feature Engineering\n",
    "3. Feature Selection\n",
    "4. Model Training\n",
    "5. Obtaining Predictions / Scoring\n",
    "\n",
    "Plane Crash Dataset available on [Kaggle.com](https://www.kaggle.com/datasets/kamilkarczmarczyk/plane-crash-dataset-03042023). See below for more details.\n",
    "\n",
    "==================================================================================================="
   ]
  },
  {
   "cell_type": "markdown",
   "metadata": {},
   "source": [
    "Data description:\n",
    "- Date: Date of accident, in the format - January 01, 2001\n",
    "- Time: Local time, in 24 hr. format unless otherwise specified\n",
    "- Airline/Op: Airline or operator of the aircraft\n",
    "- Flight #: Flight number assigned by the aircraft operator\n",
    "- Route: Complete or partial route flown prior to the accident\n",
    "- AC Type: Aircraft type\n",
    "- Reg: ICAO registration of the aircraft\n",
    "- cn / ln: Construction or serial number / Line or fuselage number\n",
    "- Aboard: Total aboard (passengers / crew)\n",
    "- Fatalities: Total fatalities aboard (passengers / crew)\n",
    "- Ground: Total killed on the ground\n",
    "- Summary: Brief description of the accident and cause if known"
   ]
  },
  {
   "cell_type": "markdown",
   "metadata": {},
   "source": [
    "# Data Analysis"
   ]
  },
  {
   "cell_type": "code",
   "execution_count": 1,
   "metadata": {},
   "outputs": [],
   "source": [
    "# ! python -m spacy download en_core_web_sm"
   ]
  },
  {
   "cell_type": "code",
   "execution_count": 90,
   "metadata": {},
   "outputs": [],
   "source": [
    "# to handle datasets\n",
    "import pandas as pd\n",
    "import numpy as np\n",
    "import datetime as dt\n",
    "\n",
    "# for plotting\n",
    "import matplotlib.pyplot as plt\n",
    "import seaborn as sns\n",
    "\n",
    "# for the yeo-johnson transformation\n",
    "import scipy.stats as stats\n",
    "\n",
    "# to display all the columns of the dataframe in the notebook\n",
    "pd.pandas.set_option(\"display.max_columns\", None)\n",
    "pd.set_option('display.float_format', lambda x: '%.4f' % x)\n",
    "\n",
    "import spacy\n",
    "import gensim\n",
    "from typing import Union\n",
    "import logging\n",
    "import itertools\n",
    "\n",
    "import warnings\n",
    "warnings.filterwarnings('ignore')\n",
    "warnings.simplefilter('ignore')\n",
    "\n",
    "import spacy.cli\n",
    "import gensim.downloader as api\n",
    "from sklearn.model_selection import train_test_split\n",
    "from sklearn.ensemble import GradientBoostingClassifier\n",
    "from sklearn.metrics import classification_report\n",
    "\n",
    "%matplotlib inline"
   ]
  },
  {
   "cell_type": "code",
   "execution_count": 3,
   "metadata": {},
   "outputs": [
    {
     "name": "stdout",
     "output_type": "stream",
     "text": [
      "Collecting en-core-web-lg==3.5.0\n",
      "  Downloading https://github.com/explosion/spacy-models/releases/download/en_core_web_lg-3.5.0/en_core_web_lg-3.5.0-py3-none-any.whl (587.7 MB)\n",
      "\u001b[2K     ━━━━━━━━━━━━━━━━━━━━━━━━━━━━━━━━━━━━━━━ 587.7/587.7 MB 4.1 MB/s eta 0:00:00\n",
      "\u001b[?25hRequirement already satisfied: spacy<3.6.0,>=3.5.0 in /Users/Viktoryia.Kisialeuskaya/.pyenv/versions/3.11.0/envs/deploing_ml_models/lib/python3.11/site-packages (from en-core-web-lg==3.5.0) (3.5.2)\n",
      "Requirement already satisfied: spacy-legacy<3.1.0,>=3.0.11 in /Users/Viktoryia.Kisialeuskaya/.pyenv/versions/3.11.0/envs/deploing_ml_models/lib/python3.11/site-packages (from spacy<3.6.0,>=3.5.0->en-core-web-lg==3.5.0) (3.0.12)\n",
      "Requirement already satisfied: spacy-loggers<2.0.0,>=1.0.0 in /Users/Viktoryia.Kisialeuskaya/.pyenv/versions/3.11.0/envs/deploing_ml_models/lib/python3.11/site-packages (from spacy<3.6.0,>=3.5.0->en-core-web-lg==3.5.0) (1.0.4)\n",
      "Requirement already satisfied: murmurhash<1.1.0,>=0.28.0 in /Users/Viktoryia.Kisialeuskaya/.pyenv/versions/3.11.0/envs/deploing_ml_models/lib/python3.11/site-packages (from spacy<3.6.0,>=3.5.0->en-core-web-lg==3.5.0) (1.0.9)\n",
      "Requirement already satisfied: cymem<2.1.0,>=2.0.2 in /Users/Viktoryia.Kisialeuskaya/.pyenv/versions/3.11.0/envs/deploing_ml_models/lib/python3.11/site-packages (from spacy<3.6.0,>=3.5.0->en-core-web-lg==3.5.0) (2.0.7)\n",
      "Requirement already satisfied: preshed<3.1.0,>=3.0.2 in /Users/Viktoryia.Kisialeuskaya/.pyenv/versions/3.11.0/envs/deploing_ml_models/lib/python3.11/site-packages (from spacy<3.6.0,>=3.5.0->en-core-web-lg==3.5.0) (3.0.8)\n",
      "Requirement already satisfied: thinc<8.2.0,>=8.1.8 in /Users/Viktoryia.Kisialeuskaya/.pyenv/versions/3.11.0/envs/deploing_ml_models/lib/python3.11/site-packages (from spacy<3.6.0,>=3.5.0->en-core-web-lg==3.5.0) (8.1.10)\n",
      "Requirement already satisfied: wasabi<1.2.0,>=0.9.1 in /Users/Viktoryia.Kisialeuskaya/.pyenv/versions/3.11.0/envs/deploing_ml_models/lib/python3.11/site-packages (from spacy<3.6.0,>=3.5.0->en-core-web-lg==3.5.0) (1.1.1)\n",
      "Requirement already satisfied: srsly<3.0.0,>=2.4.3 in /Users/Viktoryia.Kisialeuskaya/.pyenv/versions/3.11.0/envs/deploing_ml_models/lib/python3.11/site-packages (from spacy<3.6.0,>=3.5.0->en-core-web-lg==3.5.0) (2.4.6)\n",
      "Requirement already satisfied: catalogue<2.1.0,>=2.0.6 in /Users/Viktoryia.Kisialeuskaya/.pyenv/versions/3.11.0/envs/deploing_ml_models/lib/python3.11/site-packages (from spacy<3.6.0,>=3.5.0->en-core-web-lg==3.5.0) (2.0.8)\n",
      "Requirement already satisfied: typer<0.8.0,>=0.3.0 in /Users/Viktoryia.Kisialeuskaya/.pyenv/versions/3.11.0/envs/deploing_ml_models/lib/python3.11/site-packages (from spacy<3.6.0,>=3.5.0->en-core-web-lg==3.5.0) (0.7.0)\n",
      "Requirement already satisfied: pathy>=0.10.0 in /Users/Viktoryia.Kisialeuskaya/.pyenv/versions/3.11.0/envs/deploing_ml_models/lib/python3.11/site-packages (from spacy<3.6.0,>=3.5.0->en-core-web-lg==3.5.0) (0.10.1)\n",
      "Requirement already satisfied: smart-open<7.0.0,>=5.2.1 in /Users/Viktoryia.Kisialeuskaya/.pyenv/versions/3.11.0/envs/deploing_ml_models/lib/python3.11/site-packages (from spacy<3.6.0,>=3.5.0->en-core-web-lg==3.5.0) (6.3.0)\n",
      "Requirement already satisfied: tqdm<5.0.0,>=4.38.0 in /Users/Viktoryia.Kisialeuskaya/.pyenv/versions/3.11.0/envs/deploing_ml_models/lib/python3.11/site-packages (from spacy<3.6.0,>=3.5.0->en-core-web-lg==3.5.0) (4.65.0)\n",
      "Requirement already satisfied: numpy>=1.15.0 in /Users/Viktoryia.Kisialeuskaya/.pyenv/versions/3.11.0/envs/deploing_ml_models/lib/python3.11/site-packages (from spacy<3.6.0,>=3.5.0->en-core-web-lg==3.5.0) (1.24.3)\n",
      "Requirement already satisfied: requests<3.0.0,>=2.13.0 in /Users/Viktoryia.Kisialeuskaya/.pyenv/versions/3.11.0/envs/deploing_ml_models/lib/python3.11/site-packages (from spacy<3.6.0,>=3.5.0->en-core-web-lg==3.5.0) (2.30.0)\n",
      "Requirement already satisfied: pydantic!=1.8,!=1.8.1,<1.11.0,>=1.7.4 in /Users/Viktoryia.Kisialeuskaya/.pyenv/versions/3.11.0/envs/deploing_ml_models/lib/python3.11/site-packages (from spacy<3.6.0,>=3.5.0->en-core-web-lg==3.5.0) (1.10.7)\n",
      "Requirement already satisfied: jinja2 in /Users/Viktoryia.Kisialeuskaya/.pyenv/versions/3.11.0/envs/deploing_ml_models/lib/python3.11/site-packages (from spacy<3.6.0,>=3.5.0->en-core-web-lg==3.5.0) (3.1.2)\n",
      "Requirement already satisfied: setuptools in /Users/Viktoryia.Kisialeuskaya/.pyenv/versions/3.11.0/envs/deploing_ml_models/lib/python3.11/site-packages (from spacy<3.6.0,>=3.5.0->en-core-web-lg==3.5.0) (67.7.2)\n",
      "Requirement already satisfied: packaging>=20.0 in /Users/Viktoryia.Kisialeuskaya/.pyenv/versions/3.11.0/envs/deploing_ml_models/lib/python3.11/site-packages (from spacy<3.6.0,>=3.5.0->en-core-web-lg==3.5.0) (23.1)\n",
      "Requirement already satisfied: langcodes<4.0.0,>=3.2.0 in /Users/Viktoryia.Kisialeuskaya/.pyenv/versions/3.11.0/envs/deploing_ml_models/lib/python3.11/site-packages (from spacy<3.6.0,>=3.5.0->en-core-web-lg==3.5.0) (3.3.0)\n",
      "Requirement already satisfied: typing-extensions>=4.2.0 in /Users/Viktoryia.Kisialeuskaya/.pyenv/versions/3.11.0/envs/deploing_ml_models/lib/python3.11/site-packages (from pydantic!=1.8,!=1.8.1,<1.11.0,>=1.7.4->spacy<3.6.0,>=3.5.0->en-core-web-lg==3.5.0) (4.5.0)\n",
      "Requirement already satisfied: charset-normalizer<4,>=2 in /Users/Viktoryia.Kisialeuskaya/.pyenv/versions/3.11.0/envs/deploing_ml_models/lib/python3.11/site-packages (from requests<3.0.0,>=2.13.0->spacy<3.6.0,>=3.5.0->en-core-web-lg==3.5.0) (3.1.0)\n",
      "Requirement already satisfied: idna<4,>=2.5 in /Users/Viktoryia.Kisialeuskaya/.pyenv/versions/3.11.0/envs/deploing_ml_models/lib/python3.11/site-packages (from requests<3.0.0,>=2.13.0->spacy<3.6.0,>=3.5.0->en-core-web-lg==3.5.0) (3.4)\n",
      "Requirement already satisfied: urllib3<3,>=1.21.1 in /Users/Viktoryia.Kisialeuskaya/.pyenv/versions/3.11.0/envs/deploing_ml_models/lib/python3.11/site-packages (from requests<3.0.0,>=2.13.0->spacy<3.6.0,>=3.5.0->en-core-web-lg==3.5.0) (1.26.15)\n",
      "Requirement already satisfied: certifi>=2017.4.17 in /Users/Viktoryia.Kisialeuskaya/.pyenv/versions/3.11.0/envs/deploing_ml_models/lib/python3.11/site-packages (from requests<3.0.0,>=2.13.0->spacy<3.6.0,>=3.5.0->en-core-web-lg==3.5.0) (2023.5.7)\n",
      "Requirement already satisfied: blis<0.8.0,>=0.7.8 in /Users/Viktoryia.Kisialeuskaya/.pyenv/versions/3.11.0/envs/deploing_ml_models/lib/python3.11/site-packages (from thinc<8.2.0,>=8.1.8->spacy<3.6.0,>=3.5.0->en-core-web-lg==3.5.0) (0.7.9)\n",
      "Requirement already satisfied: confection<1.0.0,>=0.0.1 in /Users/Viktoryia.Kisialeuskaya/.pyenv/versions/3.11.0/envs/deploing_ml_models/lib/python3.11/site-packages (from thinc<8.2.0,>=8.1.8->spacy<3.6.0,>=3.5.0->en-core-web-lg==3.5.0) (0.0.4)\n",
      "Requirement already satisfied: click<9.0.0,>=7.1.1 in /Users/Viktoryia.Kisialeuskaya/.pyenv/versions/3.11.0/envs/deploing_ml_models/lib/python3.11/site-packages (from typer<0.8.0,>=0.3.0->spacy<3.6.0,>=3.5.0->en-core-web-lg==3.5.0) (8.1.3)\n",
      "Requirement already satisfied: MarkupSafe>=2.0 in /Users/Viktoryia.Kisialeuskaya/.pyenv/versions/3.11.0/envs/deploing_ml_models/lib/python3.11/site-packages (from jinja2->spacy<3.6.0,>=3.5.0->en-core-web-lg==3.5.0) (2.1.2)\n",
      "\u001b[38;5;2m✔ Download and installation successful\u001b[0m\n",
      "You can now load the package via spacy.load('en_core_web_lg')\n"
     ]
    }
   ],
   "source": [
    "spacy.cli.download(\"en_core_web_lg\")\n",
    "nlp = spacy.load(\"en_core_web_lg\")\n",
    "# nlp = spacy.load(\"en_core_web_sm\")"
   ]
  },
  {
   "cell_type": "code",
   "execution_count": 4,
   "metadata": {},
   "outputs": [],
   "source": [
    "logging.getLogger().setLevel(logging.INFO)"
   ]
  },
  {
   "cell_type": "code",
   "execution_count": 5,
   "metadata": {},
   "outputs": [
    {
     "name": "stdout",
     "output_type": "stream",
     "text": [
      "(5028, 17)\n"
     ]
    },
    {
     "data": {
      "text/html": [
       "<div>\n",
       "<style scoped>\n",
       "    .dataframe tbody tr th:only-of-type {\n",
       "        vertical-align: middle;\n",
       "    }\n",
       "\n",
       "    .dataframe tbody tr th {\n",
       "        vertical-align: top;\n",
       "    }\n",
       "\n",
       "    .dataframe thead th {\n",
       "        text-align: right;\n",
       "    }\n",
       "</style>\n",
       "<table border=\"1\" class=\"dataframe\">\n",
       "  <thead>\n",
       "    <tr style=\"text-align: right;\">\n",
       "      <th></th>\n",
       "      <th>Date</th>\n",
       "      <th>Time:</th>\n",
       "      <th>Location:</th>\n",
       "      <th>AC        Type:</th>\n",
       "      <th>Operator:</th>\n",
       "      <th>Route:</th>\n",
       "      <th>cn / ln:</th>\n",
       "      <th>Flight #:</th>\n",
       "      <th>Is_military</th>\n",
       "      <th>Military country</th>\n",
       "      <th>Aboard_all</th>\n",
       "      <th>Aboard_passengers</th>\n",
       "      <th>Fatalities_all</th>\n",
       "      <th>Fatalities_passengers</th>\n",
       "      <th>Ground:</th>\n",
       "      <th>Registration:</th>\n",
       "      <th>Summary:</th>\n",
       "    </tr>\n",
       "  </thead>\n",
       "  <tbody>\n",
       "    <tr>\n",
       "      <th>0</th>\n",
       "      <td>18.03.1946</td>\n",
       "      <td>NaN</td>\n",
       "      <td>Between Chungking and Shanghai, China</td>\n",
       "      <td>NaN</td>\n",
       "      <td>China National Aviation Corporation</td>\n",
       "      <td>Chunking - Shanghai</td>\n",
       "      <td>NaN</td>\n",
       "      <td>NaN</td>\n",
       "      <td>No</td>\n",
       "      <td>NaN</td>\n",
       "      <td>?</td>\n",
       "      <td>?</td>\n",
       "      <td>?</td>\n",
       "      <td>?</td>\n",
       "      <td>NaN</td>\n",
       "      <td>139</td>\n",
       "      <td>Disappeared while en route. Plane never located.</td>\n",
       "    </tr>\n",
       "    <tr>\n",
       "      <th>1</th>\n",
       "      <td>09.11.1944</td>\n",
       "      <td>NaN</td>\n",
       "      <td>Seljord, Norway</td>\n",
       "      <td>NaN</td>\n",
       "      <td>Military - U.S. Army Air Corps</td>\n",
       "      <td>NaN</td>\n",
       "      <td>NaN</td>\n",
       "      <td>NaN</td>\n",
       "      <td>Yes</td>\n",
       "      <td>U.S. Army Air Corps</td>\n",
       "      <td>?</td>\n",
       "      <td>?</td>\n",
       "      <td>?</td>\n",
       "      <td>?</td>\n",
       "      <td>NaN</td>\n",
       "      <td>42-52196</td>\n",
       "      <td>NaN</td>\n",
       "    </tr>\n",
       "    <tr>\n",
       "      <th>2</th>\n",
       "      <td>09.05.1989</td>\n",
       "      <td>NaN</td>\n",
       "      <td>Near Tainjin, China</td>\n",
       "      <td>Bell 412</td>\n",
       "      <td>Aero Asahi</td>\n",
       "      <td>NaN</td>\n",
       "      <td>33070</td>\n",
       "      <td>NaN</td>\n",
       "      <td>No</td>\n",
       "      <td>NaN</td>\n",
       "      <td>?</td>\n",
       "      <td>?</td>\n",
       "      <td>10</td>\n",
       "      <td>?</td>\n",
       "      <td>0.0000</td>\n",
       "      <td>JA9596</td>\n",
       "      <td>NaN</td>\n",
       "    </tr>\n",
       "    <tr>\n",
       "      <th>3</th>\n",
       "      <td>20.02.1992</td>\n",
       "      <td>NaN</td>\n",
       "      <td>En route from Argentina  to  California</td>\n",
       "      <td>Boeing B-747</td>\n",
       "      <td>Aerolineas Argentinas</td>\n",
       "      <td>NaN</td>\n",
       "      <td>NaN</td>\n",
       "      <td>386</td>\n",
       "      <td>No</td>\n",
       "      <td>NaN</td>\n",
       "      <td>?</td>\n",
       "      <td>?</td>\n",
       "      <td>1</td>\n",
       "      <td>?</td>\n",
       "      <td>0.0000</td>\n",
       "      <td>NaN</td>\n",
       "      <td>A passenger died of cholera while en route.</td>\n",
       "    </tr>\n",
       "    <tr>\n",
       "      <th>4</th>\n",
       "      <td>13.03.1954</td>\n",
       "      <td>NaN</td>\n",
       "      <td>Dien Bien Phu, South Vietnam</td>\n",
       "      <td>C-46</td>\n",
       "      <td>Aigle Azur</td>\n",
       "      <td>NaN</td>\n",
       "      <td>NaN</td>\n",
       "      <td>NaN</td>\n",
       "      <td>No</td>\n",
       "      <td>NaN</td>\n",
       "      <td>?</td>\n",
       "      <td>?</td>\n",
       "      <td>?</td>\n",
       "      <td>?</td>\n",
       "      <td>NaN</td>\n",
       "      <td>NaN</td>\n",
       "      <td>Shot down.</td>\n",
       "    </tr>\n",
       "  </tbody>\n",
       "</table>\n",
       "</div>"
      ],
      "text/plain": [
       "         Date Time:                                Location: AC        Type:   \n",
       "0  18.03.1946   NaN    Between Chungking and Shanghai, China             NaN  \\\n",
       "1  09.11.1944   NaN                          Seljord, Norway             NaN   \n",
       "2  09.05.1989   NaN                      Near Tainjin, China        Bell 412   \n",
       "3  20.02.1992   NaN  En route from Argentina  to  California    Boeing B-747   \n",
       "4  13.03.1954   NaN             Dien Bien Phu, South Vietnam            C-46   \n",
       "\n",
       "                             Operator:               Route: cn / ln:   \n",
       "0  China National Aviation Corporation  Chunking - Shanghai      NaN  \\\n",
       "1       Military - U.S. Army Air Corps                  NaN      NaN   \n",
       "2                           Aero Asahi                  NaN    33070   \n",
       "3                Aerolineas Argentinas                  NaN      NaN   \n",
       "4                           Aigle Azur                  NaN      NaN   \n",
       "\n",
       "  Flight #: Is_military      Military country Aboard_all Aboard_passengers   \n",
       "0       NaN          No                   NaN          ?                 ?  \\\n",
       "1       NaN         Yes   U.S. Army Air Corps          ?                 ?   \n",
       "2       NaN          No                   NaN          ?                 ?   \n",
       "3       386          No                   NaN          ?                 ?   \n",
       "4       NaN          No                   NaN          ?                 ?   \n",
       "\n",
       "  Fatalities_all Fatalities_passengers  Ground: Registration:   \n",
       "0              ?                     ?      NaN           139  \\\n",
       "1              ?                     ?      NaN      42-52196   \n",
       "2             10                     ?   0.0000        JA9596   \n",
       "3              1                     ?   0.0000           NaN   \n",
       "4              ?                     ?      NaN           NaN   \n",
       "\n",
       "                                           Summary:  \n",
       "0  Disappeared while en route. Plane never located.  \n",
       "1                                               NaN  \n",
       "2                                               NaN  \n",
       "3       A passenger died of cholera while en route.  \n",
       "4                                        Shot down.  "
      ]
     },
     "execution_count": 5,
     "metadata": {},
     "output_type": "execute_result"
    }
   ],
   "source": [
    "# load dataset\n",
    "raw_data = pd.read_csv(\"data/raw_data.csv\", sep=\";\")\n",
    "\n",
    "# rows and columns of the data\n",
    "print(raw_data.shape)\n",
    "\n",
    "# visualise the dataset\n",
    "raw_data.head()"
   ]
  },
  {
   "cell_type": "code",
   "execution_count": 6,
   "metadata": {},
   "outputs": [
    {
     "name": "stdout",
     "output_type": "stream",
     "text": [
      "<class 'pandas.core.frame.DataFrame'>\n",
      "RangeIndex: 5028 entries, 0 to 5027\n",
      "Data columns (total 17 columns):\n",
      " #   Column                 Non-Null Count  Dtype  \n",
      "---  ------                 --------------  -----  \n",
      " 0   Date                   5028 non-null   object \n",
      " 1   Time:                  3482 non-null   object \n",
      " 2   Location:              5023 non-null   object \n",
      " 3   AC        Type:        5014 non-null   object \n",
      " 4   Operator:              5018 non-null   object \n",
      " 5   Route:                 4264 non-null   object \n",
      " 6   cn / ln:               4358 non-null   object \n",
      " 7   Flight #:              1338 non-null   object \n",
      " 8   Is_military            5018 non-null   object \n",
      " 9   Military country       766 non-null    object \n",
      " 10  Aboard_all             5028 non-null   object \n",
      " 11  Aboard_passengers      5028 non-null   object \n",
      " 12  Fatalities_all         5028 non-null   object \n",
      " 13  Fatalities_passengers  5028 non-null   object \n",
      " 14  Ground:                4984 non-null   float64\n",
      " 15  Registration:          4753 non-null   object \n",
      " 16  Summary:               4969 non-null   object \n",
      "dtypes: float64(1), object(16)\n",
      "memory usage: 667.9+ KB\n"
     ]
    }
   ],
   "source": [
    "raw_data.info()"
   ]
  },
  {
   "cell_type": "code",
   "execution_count": 7,
   "metadata": {},
   "outputs": [],
   "source": [
    "class DataSchema:\n",
    "    DATE = \"Date\"\n",
    "    TIME = \"Time:\"\n",
    "    LOCATION = \"Location:\"\n",
    "    AC_TYPE = \"AC        Type:\"\n",
    "    OPERATOR = \"Operator:\"\n",
    "    ROUTE = \"Route:\"\n",
    "    CN_LN = \"cn / ln:\"\n",
    "    FLIGHT_N = \"Flight #:\"\n",
    "    IS_MILITARY = \"Is_military\"\n",
    "    MILITARY_COUNTRY = \"Military country\"\n",
    "    ABOARD_ALL = \"Aboard_all\"\n",
    "    ABOARD_PASSENGERS = \"Aboard_passengers\"\n",
    "    FATALITIES_ALL = \"Fatalities_all\"\n",
    "    FATALITIES_PASSENGERS = \"Fatalities_passengers\"\n",
    "    GROUND = \"Ground:\"\n",
    "    REGISTRATION = \"Registration:\"\n",
    "    SUMMARY = \"Summary:\"\n",
    "    YEAR = \"Year\"\n",
    "    MONTH = \"Month\"\n",
    "    HOUR = \"Hour\"\n",
    "    ROUTES_N = \"Routes_Number\"\n",
    "    VECTOR = \"Vector\"\n",
    "    FATALITIES = \"Fatalities\"\n",
    "    SURVIVED = \"Survived\"\n",
    "    SURVIVED_PCT = \"Survived_pct\""
   ]
  },
  {
   "cell_type": "code",
   "execution_count": 8,
   "metadata": {},
   "outputs": [],
   "source": [
    "redundant_columns = []\n",
    "data = raw_data.copy()"
   ]
  },
  {
   "cell_type": "code",
   "execution_count": 9,
   "metadata": {},
   "outputs": [
    {
     "data": {
      "text/html": [
       "<div>\n",
       "<style scoped>\n",
       "    .dataframe tbody tr th:only-of-type {\n",
       "        vertical-align: middle;\n",
       "    }\n",
       "\n",
       "    .dataframe tbody tr th {\n",
       "        vertical-align: top;\n",
       "    }\n",
       "\n",
       "    .dataframe thead th {\n",
       "        text-align: right;\n",
       "    }\n",
       "</style>\n",
       "<table border=\"1\" class=\"dataframe\">\n",
       "  <thead>\n",
       "    <tr style=\"text-align: right;\">\n",
       "      <th></th>\n",
       "      <th>Date</th>\n",
       "      <th>Time:</th>\n",
       "      <th>Location:</th>\n",
       "      <th>AC        Type:</th>\n",
       "      <th>Operator:</th>\n",
       "      <th>Route:</th>\n",
       "      <th>cn / ln:</th>\n",
       "      <th>Flight #:</th>\n",
       "      <th>Is_military</th>\n",
       "      <th>Military country</th>\n",
       "      <th>Aboard_all</th>\n",
       "      <th>Aboard_passengers</th>\n",
       "      <th>Fatalities_all</th>\n",
       "      <th>Fatalities_passengers</th>\n",
       "      <th>Ground:</th>\n",
       "      <th>Registration:</th>\n",
       "      <th>Summary:</th>\n",
       "    </tr>\n",
       "  </thead>\n",
       "  <tbody>\n",
       "    <tr>\n",
       "      <th>0</th>\n",
       "      <td>18.03.1946</td>\n",
       "      <td>NaN</td>\n",
       "      <td>Between Chungking and Shanghai, China</td>\n",
       "      <td>NaN</td>\n",
       "      <td>China National Aviation Corporation</td>\n",
       "      <td>Chunking - Shanghai</td>\n",
       "      <td>NaN</td>\n",
       "      <td>NaN</td>\n",
       "      <td>No</td>\n",
       "      <td>NaN</td>\n",
       "      <td>NaN</td>\n",
       "      <td>NaN</td>\n",
       "      <td>NaN</td>\n",
       "      <td>NaN</td>\n",
       "      <td>NaN</td>\n",
       "      <td>139</td>\n",
       "      <td>Disappeared while en route. Plane never located.</td>\n",
       "    </tr>\n",
       "    <tr>\n",
       "      <th>1</th>\n",
       "      <td>09.11.1944</td>\n",
       "      <td>NaN</td>\n",
       "      <td>Seljord, Norway</td>\n",
       "      <td>NaN</td>\n",
       "      <td>Military - U.S. Army Air Corps</td>\n",
       "      <td>NaN</td>\n",
       "      <td>NaN</td>\n",
       "      <td>NaN</td>\n",
       "      <td>Yes</td>\n",
       "      <td>U.S. Army Air Corps</td>\n",
       "      <td>NaN</td>\n",
       "      <td>NaN</td>\n",
       "      <td>NaN</td>\n",
       "      <td>NaN</td>\n",
       "      <td>NaN</td>\n",
       "      <td>42-52196</td>\n",
       "      <td>NaN</td>\n",
       "    </tr>\n",
       "    <tr>\n",
       "      <th>2</th>\n",
       "      <td>09.05.1989</td>\n",
       "      <td>NaN</td>\n",
       "      <td>Near Tainjin, China</td>\n",
       "      <td>Bell 412</td>\n",
       "      <td>Aero Asahi</td>\n",
       "      <td>NaN</td>\n",
       "      <td>33070</td>\n",
       "      <td>NaN</td>\n",
       "      <td>No</td>\n",
       "      <td>NaN</td>\n",
       "      <td>NaN</td>\n",
       "      <td>NaN</td>\n",
       "      <td>10</td>\n",
       "      <td>NaN</td>\n",
       "      <td>0.0000</td>\n",
       "      <td>JA9596</td>\n",
       "      <td>NaN</td>\n",
       "    </tr>\n",
       "    <tr>\n",
       "      <th>3</th>\n",
       "      <td>20.02.1992</td>\n",
       "      <td>NaN</td>\n",
       "      <td>En route from Argentina  to  California</td>\n",
       "      <td>Boeing B-747</td>\n",
       "      <td>Aerolineas Argentinas</td>\n",
       "      <td>NaN</td>\n",
       "      <td>NaN</td>\n",
       "      <td>386</td>\n",
       "      <td>No</td>\n",
       "      <td>NaN</td>\n",
       "      <td>NaN</td>\n",
       "      <td>NaN</td>\n",
       "      <td>1</td>\n",
       "      <td>NaN</td>\n",
       "      <td>0.0000</td>\n",
       "      <td>NaN</td>\n",
       "      <td>A passenger died of cholera while en route.</td>\n",
       "    </tr>\n",
       "    <tr>\n",
       "      <th>4</th>\n",
       "      <td>13.03.1954</td>\n",
       "      <td>NaN</td>\n",
       "      <td>Dien Bien Phu, South Vietnam</td>\n",
       "      <td>C-46</td>\n",
       "      <td>Aigle Azur</td>\n",
       "      <td>NaN</td>\n",
       "      <td>NaN</td>\n",
       "      <td>NaN</td>\n",
       "      <td>No</td>\n",
       "      <td>NaN</td>\n",
       "      <td>NaN</td>\n",
       "      <td>NaN</td>\n",
       "      <td>NaN</td>\n",
       "      <td>NaN</td>\n",
       "      <td>NaN</td>\n",
       "      <td>NaN</td>\n",
       "      <td>Shot down.</td>\n",
       "    </tr>\n",
       "  </tbody>\n",
       "</table>\n",
       "</div>"
      ],
      "text/plain": [
       "         Date Time:                                Location: AC        Type:   \n",
       "0  18.03.1946   NaN    Between Chungking and Shanghai, China             NaN  \\\n",
       "1  09.11.1944   NaN                          Seljord, Norway             NaN   \n",
       "2  09.05.1989   NaN                      Near Tainjin, China        Bell 412   \n",
       "3  20.02.1992   NaN  En route from Argentina  to  California    Boeing B-747   \n",
       "4  13.03.1954   NaN             Dien Bien Phu, South Vietnam            C-46   \n",
       "\n",
       "                             Operator:               Route: cn / ln:   \n",
       "0  China National Aviation Corporation  Chunking - Shanghai      NaN  \\\n",
       "1       Military - U.S. Army Air Corps                  NaN      NaN   \n",
       "2                           Aero Asahi                  NaN    33070   \n",
       "3                Aerolineas Argentinas                  NaN      NaN   \n",
       "4                           Aigle Azur                  NaN      NaN   \n",
       "\n",
       "  Flight #: Is_military      Military country Aboard_all Aboard_passengers   \n",
       "0       NaN          No                   NaN        NaN               NaN  \\\n",
       "1       NaN         Yes   U.S. Army Air Corps        NaN               NaN   \n",
       "2       NaN          No                   NaN        NaN               NaN   \n",
       "3       386          No                   NaN        NaN               NaN   \n",
       "4       NaN          No                   NaN        NaN               NaN   \n",
       "\n",
       "  Fatalities_all Fatalities_passengers  Ground: Registration:   \n",
       "0            NaN                   NaN      NaN           139  \\\n",
       "1            NaN                   NaN      NaN      42-52196   \n",
       "2             10                   NaN   0.0000        JA9596   \n",
       "3              1                   NaN   0.0000           NaN   \n",
       "4            NaN                   NaN      NaN           NaN   \n",
       "\n",
       "                                           Summary:  \n",
       "0  Disappeared while en route. Plane never located.  \n",
       "1                                               NaN  \n",
       "2                                               NaN  \n",
       "3       A passenger died of cholera while en route.  \n",
       "4                                        Shot down.  "
      ]
     },
     "execution_count": 9,
     "metadata": {},
     "output_type": "execute_result"
    }
   ],
   "source": [
    "data = data.replace(\"?\", np.nan)\n",
    "data.head()"
   ]
  },
  {
   "cell_type": "code",
   "execution_count": 10,
   "metadata": {},
   "outputs": [],
   "source": [
    "def get_pct_missing_and_unique(col: str, alias: str = None) -> None:\n",
    "    alias = alias if alias else col\n",
    "    print(data[col].isna().value_counts())\n",
    "    print(f\"\\033[31m{alias} field has {data[col].isna().sum()/data.shape[0]:.2%} missing values\\033[0m\")\n",
    "    print(f\"\\033[32m{alias} field has {data[col].nunique()/data.shape[0]:.2%} unique values\\033[0m\")"
   ]
  },
  {
   "cell_type": "markdown",
   "metadata": {},
   "source": [
    "## Missing values"
   ]
  },
  {
   "cell_type": "code",
   "execution_count": 11,
   "metadata": {},
   "outputs": [
    {
     "data": {
      "text/plain": [
       "Military country        0.8477\n",
       "Flight #:               0.7339\n",
       "Time:                   0.3075\n",
       "Route:                  0.1519\n",
       "cn / ln:                0.1333\n",
       "Registration:           0.0547\n",
       "Fatalities_passengers   0.0467\n",
       "Aboard_passengers       0.0440\n",
       "Summary:                0.0117\n",
       "Ground:                 0.0088\n",
       "Aboard_all              0.0034\n",
       "AC        Type:         0.0028\n",
       "Operator:               0.0020\n",
       "Is_military             0.0020\n",
       "Fatalities_all          0.0016\n",
       "Location:               0.0010\n",
       "dtype: float64"
      ]
     },
     "execution_count": 11,
     "metadata": {},
     "output_type": "execute_result"
    }
   ],
   "source": [
    "# make a list of the variables that contain missing values\n",
    "vars_with_na = [var for var in data.columns if data[var].isnull().sum() > 0]\n",
    "\n",
    "# determine percentage of missing values (expressed as decimals)\n",
    "# and display the result ordered by % of missin data\n",
    "\n",
    "data[vars_with_na].isnull().mean().sort_values(ascending=False)"
   ]
  },
  {
   "cell_type": "code",
   "execution_count": 12,
   "metadata": {},
   "outputs": [
    {
     "data": {
      "image/png": "[encoded data removed]",
      "text/plain": [
       "<Figure size 1000x400 with 1 Axes>"
      ]
     },
     "metadata": {},
     "output_type": "display_data"
    }
   ],
   "source": [
    "# plot\n",
    "\n",
    "data[vars_with_na].isnull().mean().sort_values(\n",
    "    ascending=False).plot.bar(figsize=(10, 4))\n",
    "plt.ylabel('Percentage of missing data')\n",
    "plt.axhline(y=0.80, color='r', linestyle='-')\n",
    "plt.axhline(y=0.15, color='g', linestyle='-')\n",
    "\n",
    "plt.show()"
   ]
  },
  {
   "cell_type": "markdown",
   "metadata": {},
   "source": [
    "## Date: extract year and month"
   ]
  },
  {
   "cell_type": "code",
   "execution_count": 13,
   "metadata": {},
   "outputs": [
    {
     "name": "stdout",
     "output_type": "stream",
     "text": [
      "Date\n",
      "False    5028\n",
      "Name: count, dtype: int64\n",
      "\u001b[31mDate field has 0.00% missing values\u001b[0m\n",
      "\u001b[32mDate field has 91.41% unique values\u001b[0m\n"
     ]
    }
   ],
   "source": [
    "# check missing values\n",
    "get_pct_missing_and_unique(DataSchema.DATE)"
   ]
  },
  {
   "cell_type": "code",
   "execution_count": 14,
   "metadata": {},
   "outputs": [],
   "source": [
    "# extract year and month from date into separate columns\n",
    "data[DataSchema.YEAR] = pd.to_datetime(data[DataSchema.DATE]).dt.year\n",
    "data[DataSchema.MONTH] = pd.to_datetime(data[DataSchema.DATE]).dt.month\n",
    "redundant_columns.append(DataSchema.DATE)"
   ]
  },
  {
   "cell_type": "markdown",
   "metadata": {},
   "source": [
    "## Time: extract hour"
   ]
  },
  {
   "cell_type": "code",
   "execution_count": 15,
   "metadata": {},
   "outputs": [
    {
     "name": "stdout",
     "output_type": "stream",
     "text": [
      "Time:\n",
      "False    3482\n",
      "True     1546\n",
      "Name: count, dtype: int64\n",
      "\u001b[31mTime field has 30.75% missing values\u001b[0m\n",
      "\u001b[32mTime field has 21.16% unique values\u001b[0m\n"
     ]
    }
   ],
   "source": [
    "# check missing values\n",
    "get_pct_missing_and_unique(DataSchema.TIME, \"Time\")"
   ]
  },
  {
   "cell_type": "code",
   "execution_count": 16,
   "metadata": {},
   "outputs": [],
   "source": [
    "# extract hour from time if time is not NaN else assign time to 25\n",
    "# TODO change hour 25 for eg. with most frequent value for same year, month, operator\n",
    "data[DataSchema.HOUR] = data[DataSchema.TIME].apply(\n",
    "    lambda x: dt.datetime.strptime(x, '%H:%M:%S').hour if x is not np.nan else 25)\n",
    "redundant_columns.append(DataSchema.TIME)"
   ]
  },
  {
   "cell_type": "markdown",
   "metadata": {},
   "source": [
    "## Location: check number of unique values, extract state"
   ]
  },
  {
   "cell_type": "code",
   "execution_count": 17,
   "metadata": {},
   "outputs": [
    {
     "name": "stdout",
     "output_type": "stream",
     "text": [
      "Location:\n",
      "False    5023\n",
      "True        5\n",
      "Name: count, dtype: int64\n",
      "\u001b[31mLocation field has 0.10% missing values\u001b[0m\n",
      "\u001b[32mLocation field has 82.30% unique values\u001b[0m\n"
     ]
    }
   ],
   "source": [
    "get_pct_missing_and_unique(DataSchema.LOCATION, \"Location\")"
   ]
  },
  {
   "cell_type": "code",
   "execution_count": 18,
   "metadata": {},
   "outputs": [
    {
     "data": {
      "text/html": [
       "<div>\n",
       "<style scoped>\n",
       "    .dataframe tbody tr th:only-of-type {\n",
       "        vertical-align: middle;\n",
       "    }\n",
       "\n",
       "    .dataframe tbody tr th {\n",
       "        vertical-align: top;\n",
       "    }\n",
       "\n",
       "    .dataframe thead th {\n",
       "        text-align: right;\n",
       "    }\n",
       "</style>\n",
       "<table border=\"1\" class=\"dataframe\">\n",
       "  <thead>\n",
       "    <tr style=\"text-align: right;\">\n",
       "      <th></th>\n",
       "      <th>Date</th>\n",
       "      <th>Time:</th>\n",
       "      <th>Location:</th>\n",
       "      <th>AC        Type:</th>\n",
       "      <th>Operator:</th>\n",
       "      <th>Route:</th>\n",
       "      <th>cn / ln:</th>\n",
       "      <th>Flight #:</th>\n",
       "      <th>Is_military</th>\n",
       "      <th>Military country</th>\n",
       "      <th>Aboard_all</th>\n",
       "      <th>Aboard_passengers</th>\n",
       "      <th>Fatalities_all</th>\n",
       "      <th>Fatalities_passengers</th>\n",
       "      <th>Ground:</th>\n",
       "      <th>Registration:</th>\n",
       "      <th>Summary:</th>\n",
       "      <th>Year</th>\n",
       "      <th>Month</th>\n",
       "      <th>Hour</th>\n",
       "    </tr>\n",
       "  </thead>\n",
       "  <tbody>\n",
       "    <tr>\n",
       "      <th>306</th>\n",
       "      <td>31.12.1934</td>\n",
       "      <td>NaN</td>\n",
       "      <td>NaN</td>\n",
       "      <td>Tupolev ANT-9</td>\n",
       "      <td>Aeroflot</td>\n",
       "      <td>NaN</td>\n",
       "      <td>NaN</td>\n",
       "      <td>NaN</td>\n",
       "      <td>No</td>\n",
       "      <td>NaN</td>\n",
       "      <td>10</td>\n",
       "      <td>8</td>\n",
       "      <td>10</td>\n",
       "      <td>8</td>\n",
       "      <td>0.0000</td>\n",
       "      <td>NaN</td>\n",
       "      <td>Crashed under unknown circumstances.</td>\n",
       "      <td>1934</td>\n",
       "      <td>12</td>\n",
       "      <td>25</td>\n",
       "    </tr>\n",
       "    <tr>\n",
       "      <th>1652</th>\n",
       "      <td>20.01.1977</td>\n",
       "      <td>NaN</td>\n",
       "      <td>NaN</td>\n",
       "      <td>Bristol 170 Freighter 31M</td>\n",
       "      <td>North Canada Air</td>\n",
       "      <td>NaN</td>\n",
       "      <td>13253</td>\n",
       "      <td>NaN</td>\n",
       "      <td>No</td>\n",
       "      <td>NaN</td>\n",
       "      <td>2</td>\n",
       "      <td>0</td>\n",
       "      <td>1</td>\n",
       "      <td>0</td>\n",
       "      <td>0.0000</td>\n",
       "      <td>C-FWAD</td>\n",
       "      <td>The cargo plane stalled nearly vertical and cr...</td>\n",
       "      <td>1977</td>\n",
       "      <td>1</td>\n",
       "      <td>25</td>\n",
       "    </tr>\n",
       "    <tr>\n",
       "      <th>2720</th>\n",
       "      <td>27.11.1947</td>\n",
       "      <td>NaN</td>\n",
       "      <td>NaN</td>\n",
       "      <td>Douglas DC-3</td>\n",
       "      <td>China National Aviation Corporation</td>\n",
       "      <td>NaN</td>\n",
       "      <td>NaN</td>\n",
       "      <td>NaN</td>\n",
       "      <td>No</td>\n",
       "      <td>NaN</td>\n",
       "      <td>3</td>\n",
       "      <td>0</td>\n",
       "      <td>2</td>\n",
       "      <td>0</td>\n",
       "      <td>0.0000</td>\n",
       "      <td>NaN</td>\n",
       "      <td>The cargo plane was shot down by communist ant...</td>\n",
       "      <td>1947</td>\n",
       "      <td>11</td>\n",
       "      <td>25</td>\n",
       "    </tr>\n",
       "    <tr>\n",
       "      <th>3446</th>\n",
       "      <td>21.08.1942</td>\n",
       "      <td>NaN</td>\n",
       "      <td>NaN</td>\n",
       "      <td>Siebel Si-204</td>\n",
       "      <td>Deutsche Lufthansa</td>\n",
       "      <td>NaN</td>\n",
       "      <td>NaN</td>\n",
       "      <td>NaN</td>\n",
       "      <td>No</td>\n",
       "      <td>NaN</td>\n",
       "      <td>4</td>\n",
       "      <td>2</td>\n",
       "      <td>4</td>\n",
       "      <td>2</td>\n",
       "      <td>0.0000</td>\n",
       "      <td>NaN</td>\n",
       "      <td>Lufthansa chairman, Von Gablenz killed.</td>\n",
       "      <td>1942</td>\n",
       "      <td>8</td>\n",
       "      <td>25</td>\n",
       "    </tr>\n",
       "    <tr>\n",
       "      <th>4278</th>\n",
       "      <td>20.06.1937</td>\n",
       "      <td>NaN</td>\n",
       "      <td>NaN</td>\n",
       "      <td>Travel Air 6000</td>\n",
       "      <td>ENTA</td>\n",
       "      <td>San José  San Isidro de El General</td>\n",
       "      <td>NaN</td>\n",
       "      <td>NaN</td>\n",
       "      <td>No</td>\n",
       "      <td>NaN</td>\n",
       "      <td>6</td>\n",
       "      <td>5</td>\n",
       "      <td>6</td>\n",
       "      <td>5</td>\n",
       "      <td>NaN</td>\n",
       "      <td>TI-3</td>\n",
       "      <td>Hit trees and crashed in an isolated area loca...</td>\n",
       "      <td>1937</td>\n",
       "      <td>6</td>\n",
       "      <td>25</td>\n",
       "    </tr>\n",
       "  </tbody>\n",
       "</table>\n",
       "</div>"
      ],
      "text/plain": [
       "            Date Time: Location:            AC        Type:   \n",
       "306   31.12.1934   NaN       NaN              Tupolev ANT-9  \\\n",
       "1652  20.01.1977   NaN       NaN  Bristol 170 Freighter 31M   \n",
       "2720  27.11.1947   NaN       NaN               Douglas DC-3   \n",
       "3446  21.08.1942   NaN       NaN              Siebel Si-204   \n",
       "4278  20.06.1937   NaN       NaN            Travel Air 6000   \n",
       "\n",
       "                                Operator:                              Route:   \n",
       "306                              Aeroflot                                 NaN  \\\n",
       "1652                     North Canada Air                                 NaN   \n",
       "2720  China National Aviation Corporation                                 NaN   \n",
       "3446                   Deutsche Lufthansa                                 NaN   \n",
       "4278                                 ENTA  San José  San Isidro de El General   \n",
       "\n",
       "     cn / ln: Flight #: Is_military Military country Aboard_all   \n",
       "306       NaN       NaN          No              NaN         10  \\\n",
       "1652    13253       NaN          No              NaN          2   \n",
       "2720      NaN       NaN          No              NaN          3   \n",
       "3446      NaN       NaN          No              NaN          4   \n",
       "4278      NaN       NaN          No              NaN          6   \n",
       "\n",
       "     Aboard_passengers Fatalities_all Fatalities_passengers  Ground:   \n",
       "306                  8             10                     8   0.0000  \\\n",
       "1652                 0              1                     0   0.0000   \n",
       "2720                 0              2                     0   0.0000   \n",
       "3446                 2              4                     2   0.0000   \n",
       "4278                 5              6                     5      NaN   \n",
       "\n",
       "     Registration:                                           Summary:  Year   \n",
       "306            NaN               Crashed under unknown circumstances.  1934  \\\n",
       "1652        C-FWAD  The cargo plane stalled nearly vertical and cr...  1977   \n",
       "2720           NaN  The cargo plane was shot down by communist ant...  1947   \n",
       "3446           NaN            Lufthansa chairman, Von Gablenz killed.  1942   \n",
       "4278          TI-3  Hit trees and crashed in an isolated area loca...  1937   \n",
       "\n",
       "      Month  Hour  \n",
       "306      12    25  \n",
       "1652      1    25  \n",
       "2720     11    25  \n",
       "3446      8    25  \n",
       "4278      6    25  "
      ]
     },
     "execution_count": 18,
     "metadata": {},
     "output_type": "execute_result"
    }
   ],
   "source": [
    "data[data[DataSchema.LOCATION].isna()]"
   ]
  },
  {
   "cell_type": "code",
   "execution_count": 19,
   "metadata": {},
   "outputs": [],
   "source": [
    "def get_locations(text: str) -> Union[None, str]:    \n",
    "    if text is np.nan:\n",
    "        return text\n",
    "    locations = [] \n",
    "    doc = nlp(text)\n",
    "    for ent in doc.ents:\n",
    "        if ent.label_==\"GPE\":\n",
    "            locations.append(ent.text)\n",
    "    return locations[-1] if locations else text\n",
    "\n",
    "data[DataSchema.LOCATION] = data[DataSchema.LOCATION].apply(lambda x: get_locations(x))"
   ]
  },
  {
   "cell_type": "code",
   "execution_count": 20,
   "metadata": {},
   "outputs": [
    {
     "name": "stdout",
     "output_type": "stream",
     "text": [
      "\u001b[31mLocation field after parsing for country has 10.00% unique values\u001b[0m\n"
     ]
    }
   ],
   "source": [
    "print(f\"\\033[31mLocation field after parsing for country has {data[DataSchema.LOCATION].nunique()/data.shape[0]:.2%} unique values\\033[0m\")"
   ]
  },
  {
   "cell_type": "markdown",
   "metadata": {},
   "source": [
    "## AC Type: check for missing values"
   ]
  },
  {
   "cell_type": "code",
   "execution_count": 21,
   "metadata": {},
   "outputs": [
    {
     "name": "stdout",
     "output_type": "stream",
     "text": [
      "AC        Type:\n",
      "False    5014\n",
      "True       14\n",
      "Name: count, dtype: int64\n",
      "\u001b[31mAircraft Type field has 0.28% missing values\u001b[0m\n",
      "\u001b[32mAircraft Type field has 48.19% unique values\u001b[0m\n"
     ]
    }
   ],
   "source": [
    "get_pct_missing_and_unique(DataSchema.AC_TYPE, \"Aircraft Type\")"
   ]
  },
  {
   "cell_type": "code",
   "execution_count": 22,
   "metadata": {},
   "outputs": [
    {
     "data": {
      "text/html": [
       "<div>\n",
       "<style scoped>\n",
       "    .dataframe tbody tr th:only-of-type {\n",
       "        vertical-align: middle;\n",
       "    }\n",
       "\n",
       "    .dataframe tbody tr th {\n",
       "        vertical-align: top;\n",
       "    }\n",
       "\n",
       "    .dataframe thead th {\n",
       "        text-align: right;\n",
       "    }\n",
       "</style>\n",
       "<table border=\"1\" class=\"dataframe\">\n",
       "  <thead>\n",
       "    <tr style=\"text-align: right;\">\n",
       "      <th></th>\n",
       "      <th>Date</th>\n",
       "      <th>Time:</th>\n",
       "      <th>Location:</th>\n",
       "      <th>AC        Type:</th>\n",
       "      <th>Operator:</th>\n",
       "      <th>Route:</th>\n",
       "      <th>cn / ln:</th>\n",
       "      <th>Flight #:</th>\n",
       "      <th>Is_military</th>\n",
       "      <th>Military country</th>\n",
       "      <th>Aboard_all</th>\n",
       "      <th>Aboard_passengers</th>\n",
       "      <th>Fatalities_all</th>\n",
       "      <th>Fatalities_passengers</th>\n",
       "      <th>Ground:</th>\n",
       "      <th>Registration:</th>\n",
       "      <th>Summary:</th>\n",
       "      <th>Year</th>\n",
       "      <th>Month</th>\n",
       "      <th>Hour</th>\n",
       "    </tr>\n",
       "  </thead>\n",
       "  <tbody>\n",
       "    <tr>\n",
       "      <th>0</th>\n",
       "      <td>18.03.1946</td>\n",
       "      <td>NaN</td>\n",
       "      <td>China</td>\n",
       "      <td>NaN</td>\n",
       "      <td>China National Aviation Corporation</td>\n",
       "      <td>Chunking - Shanghai</td>\n",
       "      <td>NaN</td>\n",
       "      <td>NaN</td>\n",
       "      <td>No</td>\n",
       "      <td>NaN</td>\n",
       "      <td>NaN</td>\n",
       "      <td>NaN</td>\n",
       "      <td>NaN</td>\n",
       "      <td>NaN</td>\n",
       "      <td>NaN</td>\n",
       "      <td>139</td>\n",
       "      <td>Disappeared while en route. Plane never located.</td>\n",
       "      <td>1946</td>\n",
       "      <td>3</td>\n",
       "      <td>25</td>\n",
       "    </tr>\n",
       "    <tr>\n",
       "      <th>1</th>\n",
       "      <td>09.11.1944</td>\n",
       "      <td>NaN</td>\n",
       "      <td>Norway</td>\n",
       "      <td>NaN</td>\n",
       "      <td>Military - U.S. Army Air Corps</td>\n",
       "      <td>NaN</td>\n",
       "      <td>NaN</td>\n",
       "      <td>NaN</td>\n",
       "      <td>Yes</td>\n",
       "      <td>U.S. Army Air Corps</td>\n",
       "      <td>NaN</td>\n",
       "      <td>NaN</td>\n",
       "      <td>NaN</td>\n",
       "      <td>NaN</td>\n",
       "      <td>NaN</td>\n",
       "      <td>42-52196</td>\n",
       "      <td>NaN</td>\n",
       "      <td>1944</td>\n",
       "      <td>11</td>\n",
       "      <td>25</td>\n",
       "    </tr>\n",
       "    <tr>\n",
       "      <th>22</th>\n",
       "      <td>08.11.1943</td>\n",
       "      <td>NaN</td>\n",
       "      <td>India</td>\n",
       "      <td>NaN</td>\n",
       "      <td>Military - Indian Air Force</td>\n",
       "      <td>NaN</td>\n",
       "      <td>NaN</td>\n",
       "      <td>NaN</td>\n",
       "      <td>Yes</td>\n",
       "      <td>Indian Air Force</td>\n",
       "      <td>1</td>\n",
       "      <td>NaN</td>\n",
       "      <td>1</td>\n",
       "      <td>NaN</td>\n",
       "      <td>37.0000</td>\n",
       "      <td>NaN</td>\n",
       "      <td>Crashed into a village.</td>\n",
       "      <td>1943</td>\n",
       "      <td>11</td>\n",
       "      <td>25</td>\n",
       "    </tr>\n",
       "    <tr>\n",
       "      <th>924</th>\n",
       "      <td>08.04.1946</td>\n",
       "      <td>NaN</td>\n",
       "      <td>China</td>\n",
       "      <td>NaN</td>\n",
       "      <td>NaN</td>\n",
       "      <td>Shensi - Yenan</td>\n",
       "      <td>NaN</td>\n",
       "      <td>NaN</td>\n",
       "      <td>NaN</td>\n",
       "      <td>NaN</td>\n",
       "      <td>14</td>\n",
       "      <td>11</td>\n",
       "      <td>14</td>\n",
       "      <td>11</td>\n",
       "      <td>0.0000</td>\n",
       "      <td>NaN</td>\n",
       "      <td>NaN</td>\n",
       "      <td>1946</td>\n",
       "      <td>4</td>\n",
       "      <td>25</td>\n",
       "    </tr>\n",
       "    <tr>\n",
       "      <th>1284</th>\n",
       "      <td>08.04.1922</td>\n",
       "      <td>NaN</td>\n",
       "      <td>China</td>\n",
       "      <td>NaN</td>\n",
       "      <td>NaN</td>\n",
       "      <td>Test</td>\n",
       "      <td>NaN</td>\n",
       "      <td>NaN</td>\n",
       "      <td>NaN</td>\n",
       "      <td>NaN</td>\n",
       "      <td>17</td>\n",
       "      <td>0</td>\n",
       "      <td>17</td>\n",
       "      <td>0</td>\n",
       "      <td>0.0000</td>\n",
       "      <td>NaN</td>\n",
       "      <td>Aboard were all workers taking part in a fligh...</td>\n",
       "      <td>1922</td>\n",
       "      <td>4</td>\n",
       "      <td>25</td>\n",
       "    </tr>\n",
       "    <tr>\n",
       "      <th>1616</th>\n",
       "      <td>29.06.1945</td>\n",
       "      <td>NaN</td>\n",
       "      <td>India</td>\n",
       "      <td>NaN</td>\n",
       "      <td>Military - Royal Indian Air Force</td>\n",
       "      <td>NaN</td>\n",
       "      <td>NaN</td>\n",
       "      <td>NaN</td>\n",
       "      <td>Yes</td>\n",
       "      <td>Royal Indian Air Force</td>\n",
       "      <td>2</td>\n",
       "      <td>NaN</td>\n",
       "      <td>2</td>\n",
       "      <td>NaN</td>\n",
       "      <td>36.0000</td>\n",
       "      <td>NaN</td>\n",
       "      <td>Crashed into a village exploding and destoying...</td>\n",
       "      <td>1945</td>\n",
       "      <td>6</td>\n",
       "      <td>25</td>\n",
       "    </tr>\n",
       "    <tr>\n",
       "      <th>1623</th>\n",
       "      <td>08.08.1951</td>\n",
       "      <td>21:00:00</td>\n",
       "      <td>Australia</td>\n",
       "      <td>NaN</td>\n",
       "      <td>Trans Australia Airlines</td>\n",
       "      <td>Hobart Melbourne</td>\n",
       "      <td>13083</td>\n",
       "      <td>NaN</td>\n",
       "      <td>No</td>\n",
       "      <td>NaN</td>\n",
       "      <td>2</td>\n",
       "      <td>0</td>\n",
       "      <td>2</td>\n",
       "      <td>0</td>\n",
       "      <td>0.0000</td>\n",
       "      <td>VH-TAT</td>\n",
       "      <td>Cargo plane. Loss of lateral control during a ...</td>\n",
       "      <td>1951</td>\n",
       "      <td>8</td>\n",
       "      <td>21</td>\n",
       "    </tr>\n",
       "    <tr>\n",
       "      <th>1862</th>\n",
       "      <td>17.03.1946</td>\n",
       "      <td>NaN</td>\n",
       "      <td>China</td>\n",
       "      <td>NaN</td>\n",
       "      <td>Military - Chinese Air Force</td>\n",
       "      <td>Shanghai - Nanking</td>\n",
       "      <td>NaN</td>\n",
       "      <td>NaN</td>\n",
       "      <td>Yes</td>\n",
       "      <td>Chinese Air Force</td>\n",
       "      <td>20</td>\n",
       "      <td>NaN</td>\n",
       "      <td>20</td>\n",
       "      <td>NaN</td>\n",
       "      <td>0.0000</td>\n",
       "      <td>NaN</td>\n",
       "      <td>Crashed into mountainous terrain in low visibi...</td>\n",
       "      <td>1946</td>\n",
       "      <td>3</td>\n",
       "      <td>25</td>\n",
       "    </tr>\n",
       "    <tr>\n",
       "      <th>1863</th>\n",
       "      <td>11.02.1996</td>\n",
       "      <td>NaN</td>\n",
       "      <td>Afghanistan</td>\n",
       "      <td>NaN</td>\n",
       "      <td>Military - Taliban Militia</td>\n",
       "      <td>NaN</td>\n",
       "      <td>NaN</td>\n",
       "      <td>NaN</td>\n",
       "      <td>Yes</td>\n",
       "      <td>Taliban Militia</td>\n",
       "      <td>20</td>\n",
       "      <td>NaN</td>\n",
       "      <td>20</td>\n",
       "      <td>NaN</td>\n",
       "      <td>0.0000</td>\n",
       "      <td>NaN</td>\n",
       "      <td>The helicopter was shot down.</td>\n",
       "      <td>1996</td>\n",
       "      <td>2</td>\n",
       "      <td>25</td>\n",
       "    </tr>\n",
       "    <tr>\n",
       "      <th>2623</th>\n",
       "      <td>11.12.1941</td>\n",
       "      <td>NaN</td>\n",
       "      <td>Florida</td>\n",
       "      <td>NaN</td>\n",
       "      <td>Pan American Airways</td>\n",
       "      <td>NaN</td>\n",
       "      <td>NaN</td>\n",
       "      <td>NaN</td>\n",
       "      <td>No</td>\n",
       "      <td>NaN</td>\n",
       "      <td>3</td>\n",
       "      <td>NaN</td>\n",
       "      <td>3</td>\n",
       "      <td>NaN</td>\n",
       "      <td>0.0000</td>\n",
       "      <td>NC21V</td>\n",
       "      <td>NaN</td>\n",
       "      <td>1941</td>\n",
       "      <td>12</td>\n",
       "      <td>25</td>\n",
       "    </tr>\n",
       "    <tr>\n",
       "      <th>2625</th>\n",
       "      <td>22.11.1961</td>\n",
       "      <td>NaN</td>\n",
       "      <td>Zimbabwe</td>\n",
       "      <td>NaN</td>\n",
       "      <td>Rhodesian Air Services</td>\n",
       "      <td>Salisbury - Livingstone - Elizabethville</td>\n",
       "      <td>19351</td>\n",
       "      <td>NaN</td>\n",
       "      <td>No</td>\n",
       "      <td>NaN</td>\n",
       "      <td>3</td>\n",
       "      <td>0</td>\n",
       "      <td>3</td>\n",
       "      <td>0</td>\n",
       "      <td>0.0000</td>\n",
       "      <td>VP-YRX</td>\n",
       "      <td>The aircraft was on a charter flight to Living...</td>\n",
       "      <td>1961</td>\n",
       "      <td>11</td>\n",
       "      <td>25</td>\n",
       "    </tr>\n",
       "    <tr>\n",
       "      <th>3451</th>\n",
       "      <td>15.07.1967</td>\n",
       "      <td>NaN</td>\n",
       "      <td>Canada</td>\n",
       "      <td>NaN</td>\n",
       "      <td>Eastern Provincial Airways</td>\n",
       "      <td>NaN</td>\n",
       "      <td>NaN</td>\n",
       "      <td>NaN</td>\n",
       "      <td>No</td>\n",
       "      <td>NaN</td>\n",
       "      <td>4</td>\n",
       "      <td>3</td>\n",
       "      <td>4</td>\n",
       "      <td>3</td>\n",
       "      <td>0.0000</td>\n",
       "      <td>NaN</td>\n",
       "      <td>Crashed minutes after takeoff.</td>\n",
       "      <td>1967</td>\n",
       "      <td>7</td>\n",
       "      <td>25</td>\n",
       "    </tr>\n",
       "    <tr>\n",
       "      <th>4551</th>\n",
       "      <td>26.03.1952</td>\n",
       "      <td>NaN</td>\n",
       "      <td>Russia</td>\n",
       "      <td>NaN</td>\n",
       "      <td>Aeroflot</td>\n",
       "      <td>NaN</td>\n",
       "      <td>NaN</td>\n",
       "      <td>NaN</td>\n",
       "      <td>No</td>\n",
       "      <td>NaN</td>\n",
       "      <td>70</td>\n",
       "      <td>NaN</td>\n",
       "      <td>70</td>\n",
       "      <td>NaN</td>\n",
       "      <td>0.0000</td>\n",
       "      <td>NaN</td>\n",
       "      <td>The plane overshot the runway and collided wit...</td>\n",
       "      <td>1952</td>\n",
       "      <td>3</td>\n",
       "      <td>25</td>\n",
       "    </tr>\n",
       "    <tr>\n",
       "      <th>4847</th>\n",
       "      <td>29.05.1935</td>\n",
       "      <td>NaN</td>\n",
       "      <td>Honduras</td>\n",
       "      <td>NaN</td>\n",
       "      <td>NaN</td>\n",
       "      <td>NaN</td>\n",
       "      <td>NaN</td>\n",
       "      <td>NaN</td>\n",
       "      <td>NaN</td>\n",
       "      <td>NaN</td>\n",
       "      <td>9</td>\n",
       "      <td>NaN</td>\n",
       "      <td>6</td>\n",
       "      <td>NaN</td>\n",
       "      <td>0.0000</td>\n",
       "      <td>NaN</td>\n",
       "      <td>Crashed into the Ulua River.</td>\n",
       "      <td>1935</td>\n",
       "      <td>5</td>\n",
       "      <td>25</td>\n",
       "    </tr>\n",
       "  </tbody>\n",
       "</table>\n",
       "</div>"
      ],
      "text/plain": [
       "            Date     Time:    Location: AC        Type:   \n",
       "0     18.03.1946       NaN        China             NaN  \\\n",
       "1     09.11.1944       NaN       Norway             NaN   \n",
       "22    08.11.1943       NaN        India             NaN   \n",
       "924   08.04.1946       NaN        China             NaN   \n",
       "1284  08.04.1922       NaN        China             NaN   \n",
       "1616  29.06.1945       NaN        India             NaN   \n",
       "1623  08.08.1951  21:00:00    Australia             NaN   \n",
       "1862  17.03.1946       NaN        China             NaN   \n",
       "1863  11.02.1996       NaN  Afghanistan             NaN   \n",
       "2623  11.12.1941       NaN      Florida             NaN   \n",
       "2625  22.11.1961       NaN     Zimbabwe             NaN   \n",
       "3451  15.07.1967       NaN       Canada             NaN   \n",
       "4551  26.03.1952       NaN       Russia             NaN   \n",
       "4847  29.05.1935       NaN     Honduras             NaN   \n",
       "\n",
       "                                Operator:   \n",
       "0     China National Aviation Corporation  \\\n",
       "1          Military - U.S. Army Air Corps   \n",
       "22            Military - Indian Air Force   \n",
       "924                                   NaN   \n",
       "1284                                  NaN   \n",
       "1616    Military - Royal Indian Air Force   \n",
       "1623             Trans Australia Airlines   \n",
       "1862         Military - Chinese Air Force   \n",
       "1863           Military - Taliban Militia   \n",
       "2623                 Pan American Airways   \n",
       "2625               Rhodesian Air Services   \n",
       "3451           Eastern Provincial Airways   \n",
       "4551                             Aeroflot   \n",
       "4847                                  NaN   \n",
       "\n",
       "                                        Route: cn / ln: Flight #: Is_military   \n",
       "0                          Chunking - Shanghai      NaN       NaN          No  \\\n",
       "1                                          NaN      NaN       NaN         Yes   \n",
       "22                                         NaN      NaN       NaN         Yes   \n",
       "924                             Shensi - Yenan      NaN       NaN         NaN   \n",
       "1284                                      Test      NaN       NaN         NaN   \n",
       "1616                                       NaN      NaN       NaN         Yes   \n",
       "1623                          Hobart Melbourne    13083       NaN          No   \n",
       "1862                        Shanghai - Nanking      NaN       NaN         Yes   \n",
       "1863                                       NaN      NaN       NaN         Yes   \n",
       "2623                                       NaN      NaN       NaN          No   \n",
       "2625  Salisbury - Livingstone - Elizabethville    19351       NaN          No   \n",
       "3451                                       NaN      NaN       NaN          No   \n",
       "4551                                       NaN      NaN       NaN          No   \n",
       "4847                                       NaN      NaN       NaN         NaN   \n",
       "\n",
       "             Military country Aboard_all Aboard_passengers Fatalities_all   \n",
       "0                         NaN        NaN               NaN            NaN  \\\n",
       "1         U.S. Army Air Corps        NaN               NaN            NaN   \n",
       "22           Indian Air Force          1               NaN              1   \n",
       "924                       NaN         14                11             14   \n",
       "1284                      NaN         17                 0             17   \n",
       "1616   Royal Indian Air Force          2               NaN              2   \n",
       "1623                      NaN          2                 0              2   \n",
       "1862        Chinese Air Force         20               NaN             20   \n",
       "1863          Taliban Militia         20               NaN             20   \n",
       "2623                      NaN          3               NaN              3   \n",
       "2625                      NaN          3                 0              3   \n",
       "3451                      NaN          4                 3              4   \n",
       "4551                      NaN         70               NaN             70   \n",
       "4847                      NaN          9               NaN              6   \n",
       "\n",
       "     Fatalities_passengers  Ground: Registration:   \n",
       "0                      NaN      NaN           139  \\\n",
       "1                      NaN      NaN      42-52196   \n",
       "22                     NaN  37.0000           NaN   \n",
       "924                     11   0.0000           NaN   \n",
       "1284                     0   0.0000           NaN   \n",
       "1616                   NaN  36.0000           NaN   \n",
       "1623                     0   0.0000        VH-TAT   \n",
       "1862                   NaN   0.0000           NaN   \n",
       "1863                   NaN   0.0000           NaN   \n",
       "2623                   NaN   0.0000         NC21V   \n",
       "2625                     0   0.0000        VP-YRX   \n",
       "3451                     3   0.0000           NaN   \n",
       "4551                   NaN   0.0000           NaN   \n",
       "4847                   NaN   0.0000           NaN   \n",
       "\n",
       "                                               Summary:  Year  Month  Hour  \n",
       "0      Disappeared while en route. Plane never located.  1946      3    25  \n",
       "1                                                   NaN  1944     11    25  \n",
       "22                              Crashed into a village.  1943     11    25  \n",
       "924                                                 NaN  1946      4    25  \n",
       "1284  Aboard were all workers taking part in a fligh...  1922      4    25  \n",
       "1616  Crashed into a village exploding and destoying...  1945      6    25  \n",
       "1623  Cargo plane. Loss of lateral control during a ...  1951      8    21  \n",
       "1862  Crashed into mountainous terrain in low visibi...  1946      3    25  \n",
       "1863                      The helicopter was shot down.  1996      2    25  \n",
       "2623                                                NaN  1941     12    25  \n",
       "2625  The aircraft was on a charter flight to Living...  1961     11    25  \n",
       "3451                     Crashed minutes after takeoff.  1967      7    25  \n",
       "4551  The plane overshot the runway and collided wit...  1952      3    25  \n",
       "4847                       Crashed into the Ulua River.  1935      5    25  "
      ]
     },
     "execution_count": 22,
     "metadata": {},
     "output_type": "execute_result"
    }
   ],
   "source": [
    "data[data[DataSchema.AC_TYPE].isna()]"
   ]
  },
  {
   "cell_type": "code",
   "execution_count": 23,
   "metadata": {},
   "outputs": [],
   "source": [
    "# TODO group Aircraft types"
   ]
  },
  {
   "cell_type": "markdown",
   "metadata": {},
   "source": [
    "## Operator"
   ]
  },
  {
   "cell_type": "code",
   "execution_count": 24,
   "metadata": {},
   "outputs": [
    {
     "name": "stdout",
     "output_type": "stream",
     "text": [
      "Operator:\n",
      "False    5018\n",
      "True       10\n",
      "Name: count, dtype: int64\n",
      "\u001b[31mOperator field has 0.20% missing values\u001b[0m\n",
      "\u001b[32mOperator field has 45.07% unique values\u001b[0m\n"
     ]
    }
   ],
   "source": [
    "get_pct_missing_and_unique(DataSchema.OPERATOR, \"Operator\")"
   ]
  },
  {
   "cell_type": "code",
   "execution_count": 25,
   "metadata": {},
   "outputs": [
    {
     "data": {
      "text/html": [
       "<div>\n",
       "<style scoped>\n",
       "    .dataframe tbody tr th:only-of-type {\n",
       "        vertical-align: middle;\n",
       "    }\n",
       "\n",
       "    .dataframe tbody tr th {\n",
       "        vertical-align: top;\n",
       "    }\n",
       "\n",
       "    .dataframe thead th {\n",
       "        text-align: right;\n",
       "    }\n",
       "</style>\n",
       "<table border=\"1\" class=\"dataframe\">\n",
       "  <thead>\n",
       "    <tr style=\"text-align: right;\">\n",
       "      <th></th>\n",
       "      <th>Date</th>\n",
       "      <th>Time:</th>\n",
       "      <th>Location:</th>\n",
       "      <th>AC        Type:</th>\n",
       "      <th>Operator:</th>\n",
       "      <th>Route:</th>\n",
       "      <th>cn / ln:</th>\n",
       "      <th>Flight #:</th>\n",
       "      <th>Is_military</th>\n",
       "      <th>Military country</th>\n",
       "      <th>Aboard_all</th>\n",
       "      <th>Aboard_passengers</th>\n",
       "      <th>Fatalities_all</th>\n",
       "      <th>Fatalities_passengers</th>\n",
       "      <th>Ground:</th>\n",
       "      <th>Registration:</th>\n",
       "      <th>Summary:</th>\n",
       "      <th>Year</th>\n",
       "      <th>Month</th>\n",
       "      <th>Hour</th>\n",
       "    </tr>\n",
       "  </thead>\n",
       "  <tbody>\n",
       "    <tr>\n",
       "      <th>158</th>\n",
       "      <td>07.09.1909</td>\n",
       "      <td>NaN</td>\n",
       "      <td>France</td>\n",
       "      <td>Wright Byplane</td>\n",
       "      <td>NaN</td>\n",
       "      <td>Air show</td>\n",
       "      <td>NaN</td>\n",
       "      <td>NaN</td>\n",
       "      <td>NaN</td>\n",
       "      <td>NaN</td>\n",
       "      <td>1</td>\n",
       "      <td>0</td>\n",
       "      <td>1</td>\n",
       "      <td>0</td>\n",
       "      <td>0.0000</td>\n",
       "      <td>SC1</td>\n",
       "      <td>Eugene Lefebvre was the first pilot to ever be...</td>\n",
       "      <td>1909</td>\n",
       "      <td>9</td>\n",
       "      <td>25</td>\n",
       "    </tr>\n",
       "    <tr>\n",
       "      <th>728</th>\n",
       "      <td>04.07.1943</td>\n",
       "      <td>23:00:00</td>\n",
       "      <td>Gibraltar</td>\n",
       "      <td>Consolidated Liberator B24 C</td>\n",
       "      <td>NaN</td>\n",
       "      <td>NaN</td>\n",
       "      <td>NaN</td>\n",
       "      <td>NaN</td>\n",
       "      <td>NaN</td>\n",
       "      <td>NaN</td>\n",
       "      <td>13</td>\n",
       "      <td>NaN</td>\n",
       "      <td>12</td>\n",
       "      <td>NaN</td>\n",
       "      <td>0.0000</td>\n",
       "      <td>A-L-523</td>\n",
       "      <td>The flight, bound for London, crashed into the...</td>\n",
       "      <td>1943</td>\n",
       "      <td>7</td>\n",
       "      <td>23</td>\n",
       "    </tr>\n",
       "    <tr>\n",
       "      <th>924</th>\n",
       "      <td>08.04.1946</td>\n",
       "      <td>NaN</td>\n",
       "      <td>China</td>\n",
       "      <td>NaN</td>\n",
       "      <td>NaN</td>\n",
       "      <td>Shensi - Yenan</td>\n",
       "      <td>NaN</td>\n",
       "      <td>NaN</td>\n",
       "      <td>NaN</td>\n",
       "      <td>NaN</td>\n",
       "      <td>14</td>\n",
       "      <td>11</td>\n",
       "      <td>14</td>\n",
       "      <td>11</td>\n",
       "      <td>0.0000</td>\n",
       "      <td>NaN</td>\n",
       "      <td>NaN</td>\n",
       "      <td>1946</td>\n",
       "      <td>4</td>\n",
       "      <td>25</td>\n",
       "    </tr>\n",
       "    <tr>\n",
       "      <th>1145</th>\n",
       "      <td>17.06.1917</td>\n",
       "      <td>NaN</td>\n",
       "      <td>England</td>\n",
       "      <td>Zepplin L-48 (air ship)</td>\n",
       "      <td>NaN</td>\n",
       "      <td>NaN</td>\n",
       "      <td>NaN</td>\n",
       "      <td>NaN</td>\n",
       "      <td>NaN</td>\n",
       "      <td>NaN</td>\n",
       "      <td>16</td>\n",
       "      <td>NaN</td>\n",
       "      <td>14</td>\n",
       "      <td>NaN</td>\n",
       "      <td>0.0000</td>\n",
       "      <td>L-48</td>\n",
       "      <td>Shot down by aircraft.</td>\n",
       "      <td>1917</td>\n",
       "      <td>6</td>\n",
       "      <td>25</td>\n",
       "    </tr>\n",
       "    <tr>\n",
       "      <th>1189</th>\n",
       "      <td>02.09.1963</td>\n",
       "      <td>NaN</td>\n",
       "      <td>Northeast Laos</td>\n",
       "      <td>Curtiss C-46 Commando</td>\n",
       "      <td>NaN</td>\n",
       "      <td>NaN</td>\n",
       "      <td>NaN</td>\n",
       "      <td>NaN</td>\n",
       "      <td>NaN</td>\n",
       "      <td>NaN</td>\n",
       "      <td>16</td>\n",
       "      <td>13</td>\n",
       "      <td>15</td>\n",
       "      <td>12</td>\n",
       "      <td>NaN</td>\n",
       "      <td>NaN</td>\n",
       "      <td>Refugee flight.</td>\n",
       "      <td>1963</td>\n",
       "      <td>9</td>\n",
       "      <td>25</td>\n",
       "    </tr>\n",
       "    <tr>\n",
       "      <th>1284</th>\n",
       "      <td>08.04.1922</td>\n",
       "      <td>NaN</td>\n",
       "      <td>China</td>\n",
       "      <td>NaN</td>\n",
       "      <td>NaN</td>\n",
       "      <td>Test</td>\n",
       "      <td>NaN</td>\n",
       "      <td>NaN</td>\n",
       "      <td>NaN</td>\n",
       "      <td>NaN</td>\n",
       "      <td>17</td>\n",
       "      <td>0</td>\n",
       "      <td>17</td>\n",
       "      <td>0</td>\n",
       "      <td>0.0000</td>\n",
       "      <td>NaN</td>\n",
       "      <td>Aboard were all workers taking part in a fligh...</td>\n",
       "      <td>1922</td>\n",
       "      <td>4</td>\n",
       "      <td>25</td>\n",
       "    </tr>\n",
       "    <tr>\n",
       "      <th>2847</th>\n",
       "      <td>26.12.2011</td>\n",
       "      <td>05:54:00</td>\n",
       "      <td>Florida</td>\n",
       "      <td>Bell 206B</td>\n",
       "      <td>NaN</td>\n",
       "      <td>Jacksonville, FL - Gainsville, FL</td>\n",
       "      <td>2636</td>\n",
       "      <td>NaN</td>\n",
       "      <td>NaN</td>\n",
       "      <td>NaN</td>\n",
       "      <td>3</td>\n",
       "      <td>2</td>\n",
       "      <td>3</td>\n",
       "      <td>2</td>\n",
       "      <td>0.0000</td>\n",
       "      <td>N5016M</td>\n",
       "      <td>The on-demand air taxi was on a flight to proc...</td>\n",
       "      <td>2011</td>\n",
       "      <td>12</td>\n",
       "      <td>5</td>\n",
       "    </tr>\n",
       "    <tr>\n",
       "      <th>2892</th>\n",
       "      <td>04.07.1922</td>\n",
       "      <td>NaN</td>\n",
       "      <td>Germany</td>\n",
       "      <td>LVG C VI</td>\n",
       "      <td>NaN</td>\n",
       "      <td>Hamburg - Berlin</td>\n",
       "      <td>NaN</td>\n",
       "      <td>NaN</td>\n",
       "      <td>NaN</td>\n",
       "      <td>NaN</td>\n",
       "      <td>3</td>\n",
       "      <td>2</td>\n",
       "      <td>2</td>\n",
       "      <td>1</td>\n",
       "      <td>0.0000</td>\n",
       "      <td>NaN</td>\n",
       "      <td>The passenger/mail plane lost it's engine whil...</td>\n",
       "      <td>1922</td>\n",
       "      <td>7</td>\n",
       "      <td>25</td>\n",
       "    </tr>\n",
       "    <tr>\n",
       "      <th>3932</th>\n",
       "      <td>26.09.1926</td>\n",
       "      <td>NaN</td>\n",
       "      <td>New York</td>\n",
       "      <td>Sikorsky S-25</td>\n",
       "      <td>NaN</td>\n",
       "      <td>New York - Paris</td>\n",
       "      <td>NaN</td>\n",
       "      <td>NaN</td>\n",
       "      <td>NaN</td>\n",
       "      <td>NaN</td>\n",
       "      <td>5</td>\n",
       "      <td>4</td>\n",
       "      <td>2</td>\n",
       "      <td>2</td>\n",
       "      <td>0.0000</td>\n",
       "      <td>NaN</td>\n",
       "      <td>Too much weight caused the landing gear to col...</td>\n",
       "      <td>1926</td>\n",
       "      <td>9</td>\n",
       "      <td>25</td>\n",
       "    </tr>\n",
       "    <tr>\n",
       "      <th>4847</th>\n",
       "      <td>29.05.1935</td>\n",
       "      <td>NaN</td>\n",
       "      <td>Honduras</td>\n",
       "      <td>NaN</td>\n",
       "      <td>NaN</td>\n",
       "      <td>NaN</td>\n",
       "      <td>NaN</td>\n",
       "      <td>NaN</td>\n",
       "      <td>NaN</td>\n",
       "      <td>NaN</td>\n",
       "      <td>9</td>\n",
       "      <td>NaN</td>\n",
       "      <td>6</td>\n",
       "      <td>NaN</td>\n",
       "      <td>0.0000</td>\n",
       "      <td>NaN</td>\n",
       "      <td>Crashed into the Ulua River.</td>\n",
       "      <td>1935</td>\n",
       "      <td>5</td>\n",
       "      <td>25</td>\n",
       "    </tr>\n",
       "  </tbody>\n",
       "</table>\n",
       "</div>"
      ],
      "text/plain": [
       "            Date     Time:       Location:               AC        Type:   \n",
       "158   07.09.1909       NaN          France                Wright Byplane  \\\n",
       "728   04.07.1943  23:00:00       Gibraltar  Consolidated Liberator B24 C   \n",
       "924   08.04.1946       NaN           China                           NaN   \n",
       "1145  17.06.1917       NaN         England       Zepplin L-48 (air ship)   \n",
       "1189  02.09.1963       NaN  Northeast Laos         Curtiss C-46 Commando   \n",
       "1284  08.04.1922       NaN           China                           NaN   \n",
       "2847  26.12.2011  05:54:00         Florida                     Bell 206B   \n",
       "2892  04.07.1922       NaN         Germany                      LVG C VI   \n",
       "3932  26.09.1926       NaN        New York                 Sikorsky S-25   \n",
       "4847  29.05.1935       NaN        Honduras                           NaN   \n",
       "\n",
       "     Operator:                             Route: cn / ln: Flight #:   \n",
       "158        NaN                           Air show      NaN       NaN  \\\n",
       "728        NaN                                NaN      NaN       NaN   \n",
       "924        NaN                     Shensi - Yenan      NaN       NaN   \n",
       "1145       NaN                                NaN      NaN       NaN   \n",
       "1189       NaN                                NaN      NaN       NaN   \n",
       "1284       NaN                               Test      NaN       NaN   \n",
       "2847       NaN  Jacksonville, FL - Gainsville, FL     2636       NaN   \n",
       "2892       NaN                   Hamburg - Berlin      NaN       NaN   \n",
       "3932       NaN                   New York - Paris      NaN       NaN   \n",
       "4847       NaN                                NaN      NaN       NaN   \n",
       "\n",
       "     Is_military Military country Aboard_all Aboard_passengers Fatalities_all   \n",
       "158          NaN              NaN          1                 0              1  \\\n",
       "728          NaN              NaN         13               NaN             12   \n",
       "924          NaN              NaN         14                11             14   \n",
       "1145         NaN              NaN         16               NaN             14   \n",
       "1189         NaN              NaN         16                13             15   \n",
       "1284         NaN              NaN         17                 0             17   \n",
       "2847         NaN              NaN          3                 2              3   \n",
       "2892         NaN              NaN          3                 2              2   \n",
       "3932         NaN              NaN          5                 4              2   \n",
       "4847         NaN              NaN          9               NaN              6   \n",
       "\n",
       "     Fatalities_passengers  Ground: Registration:   \n",
       "158                      0   0.0000           SC1  \\\n",
       "728                    NaN   0.0000       A-L-523   \n",
       "924                     11   0.0000           NaN   \n",
       "1145                   NaN   0.0000          L-48   \n",
       "1189                    12      NaN           NaN   \n",
       "1284                     0   0.0000           NaN   \n",
       "2847                     2   0.0000        N5016M   \n",
       "2892                     1   0.0000           NaN   \n",
       "3932                     2   0.0000           NaN   \n",
       "4847                   NaN   0.0000           NaN   \n",
       "\n",
       "                                               Summary:  Year  Month  Hour  \n",
       "158   Eugene Lefebvre was the first pilot to ever be...  1909      9    25  \n",
       "728   The flight, bound for London, crashed into the...  1943      7    23  \n",
       "924                                                 NaN  1946      4    25  \n",
       "1145                             Shot down by aircraft.  1917      6    25  \n",
       "1189                                    Refugee flight.  1963      9    25  \n",
       "1284  Aboard were all workers taking part in a fligh...  1922      4    25  \n",
       "2847  The on-demand air taxi was on a flight to proc...  2011     12     5  \n",
       "2892  The passenger/mail plane lost it's engine whil...  1922      7    25  \n",
       "3932  Too much weight caused the landing gear to col...  1926      9    25  \n",
       "4847                       Crashed into the Ulua River.  1935      5    25  "
      ]
     },
     "execution_count": 25,
     "metadata": {},
     "output_type": "execute_result"
    }
   ],
   "source": [
    "data[data[DataSchema.OPERATOR].isna()]"
   ]
  },
  {
   "cell_type": "code",
   "execution_count": 26,
   "metadata": {},
   "outputs": [
    {
     "data": {
      "text/plain": [
       "0       China National Aviation Corporation\n",
       "1            Military - U.S. Army Air Corps\n",
       "2                                Aero Asahi\n",
       "3                     Aerolineas Argentinas\n",
       "4                                Aigle Azur\n",
       "                       ...                 \n",
       "5023       Military - Royal Saudi Air Force\n",
       "5024                American Flyers Airline\n",
       "5025                                Bek Air\n",
       "5026         Pakistan International Airline\n",
       "5027               KLM Royal Dutch Airlines\n",
       "Name: Operator:, Length: 5028, dtype: object"
      ]
     },
     "execution_count": 26,
     "metadata": {},
     "output_type": "execute_result"
    }
   ],
   "source": [
    "data[DataSchema.OPERATOR]"
   ]
  },
  {
   "cell_type": "code",
   "execution_count": 27,
   "metadata": {},
   "outputs": [],
   "source": [
    "def get_operatos_list(text: str) -> Union[None, list]:\n",
    "    if text is np.nan:\n",
    "        return text\n",
    "    if \"test\" in text.lower():\n",
    "        return text\n",
    "    operators = []\n",
    "    doc = nlp(text)\n",
    "    for ent in doc.ents:\n",
    "        if ent.label_ == \"ORG\":\n",
    "            operators.append(ent.text)\n",
    "    return operators[-1] if operators else text\n",
    "\n",
    "# test\n",
    "# x = [np.nan, \"Military - U.S. Army Air Corps\", \"Test\", \"American Flyers Airline\", \"KLM Royal Dutch Airlines\", \"Air Canada\"]\n",
    "# for i in x:\n",
    "#     y = get_operatos_list(i)\n",
    "#     print(y)\n",
    "#     print(\"==========================\")"
   ]
  },
  {
   "cell_type": "code",
   "execution_count": 28,
   "metadata": {},
   "outputs": [],
   "source": [
    "tmp = data.copy()\n",
    "tmp[\"tmp\"] = tmp[DataSchema.OPERATOR].apply(lambda x: get_operatos_list(x))"
   ]
  },
  {
   "cell_type": "code",
   "execution_count": 29,
   "metadata": {},
   "outputs": [
    {
     "data": {
      "text/plain": [
       "4950              Iberia Airlines\n",
       "3025                     Aeroflot\n",
       "1296            Eastern Air Lines\n",
       "4923    Balkan Bulgarian Airlines\n",
       "2477    Transair Georgia Airlines\n",
       "Name: tmp, dtype: object"
      ]
     },
     "execution_count": 29,
     "metadata": {},
     "output_type": "execute_result"
    }
   ],
   "source": [
    "tmp[\"tmp\"].sample(5)"
   ]
  },
  {
   "cell_type": "code",
   "execution_count": 30,
   "metadata": {},
   "outputs": [
    {
     "name": "stdout",
     "output_type": "stream",
     "text": [
      "\u001b[35mOperator field after organisation extraction has 44.07% unique values\u001b[0m\n"
     ]
    }
   ],
   "source": [
    "print(f\"\\033[35mOperator field after organisation extraction has {tmp['tmp'].nunique()/data.shape[0]:.2%} unique values\\033[0m\")"
   ]
  },
  {
   "cell_type": "code",
   "execution_count": 31,
   "metadata": {},
   "outputs": [],
   "source": [
    "# TODO consider to use tf-idf\n",
    "redundant_columns.append(DataSchema.OPERATOR)"
   ]
  },
  {
   "cell_type": "markdown",
   "metadata": {},
   "source": [
    "## Route"
   ]
  },
  {
   "cell_type": "code",
   "execution_count": 32,
   "metadata": {},
   "outputs": [
    {
     "name": "stdout",
     "output_type": "stream",
     "text": [
      "Route:\n",
      "False    4264\n",
      "True      764\n",
      "Name: count, dtype: int64\n",
      "\u001b[31mRoute field has 15.19% missing values\u001b[0m\n",
      "\u001b[32mRoute field has 76.55% unique values\u001b[0m\n"
     ]
    }
   ],
   "source": [
    "get_pct_missing_and_unique(DataSchema.ROUTE, \"Route\")"
   ]
  },
  {
   "cell_type": "code",
   "execution_count": 33,
   "metadata": {},
   "outputs": [
    {
     "data": {
      "text/plain": [
       "458               Tachkent-Kaboul\n",
       "1721    La Grande - Lac Bienville\n",
       "17                            NaN\n",
       "1024            Amsterdam - Paris\n",
       "3960              Manila - Baguio\n",
       "Name: Route:, dtype: object"
      ]
     },
     "execution_count": 33,
     "metadata": {},
     "output_type": "execute_result"
    }
   ],
   "source": [
    "data[DataSchema.ROUTE].sample(5)"
   ]
  },
  {
   "cell_type": "code",
   "execution_count": 34,
   "metadata": {},
   "outputs": [],
   "source": [
    "def get_multiple_locations(text: str) -> Union[None, str]:    \n",
    "    if text is np.nan:\n",
    "        return text\n",
    "    route = text.split(\" - \")    \n",
    "    for point in route:\n",
    "        doc = nlp(point)\n",
    "        for ent in doc.ents:\n",
    "            if ent.label_==\"GPE\":\n",
    "                point = ent.text\n",
    "    flatten = list(itertools.chain(*[[j] if isinstance(j, str) else j for j in [i.split(\", \") for i in route]]))\n",
    "    return flatten\n",
    "\n",
    "\n",
    "# test\n",
    "# routes = [\n",
    "#     \"Sukhumi - Kutaisi\", \"Test flight\", np.nan, \"Bombing run\", \n",
    "#     \"Boston - NY - Washington DC - Jacksonville - Miami\", \"Lima - Pucallpa - Iquitos\"]\n",
    "# for _ in routes:\n",
    "#     x = get_multiple_locations(_)\n",
    "#     print(x)"
   ]
  },
  {
   "cell_type": "code",
   "execution_count": 35,
   "metadata": {},
   "outputs": [],
   "source": [
    "data[DataSchema.ROUTE] = data[DataSchema.ROUTE].apply(lambda x: get_multiple_locations(x))"
   ]
  },
  {
   "cell_type": "code",
   "execution_count": 36,
   "metadata": {},
   "outputs": [
    {
     "data": {
      "text/plain": [
       "1084                   [Kaboul-Kunduz]\n",
       "4435          [Teterboro, Saint Louis]\n",
       "411     [Jamaica, NY, Washington D.C.]\n",
       "3582                   [Juba, Paloich]\n",
       "1628                               NaN\n",
       "Name: Route:, dtype: object"
      ]
     },
     "execution_count": 36,
     "metadata": {},
     "output_type": "execute_result"
    }
   ],
   "source": [
    "data[DataSchema.ROUTE].sample(5)"
   ]
  },
  {
   "cell_type": "code",
   "execution_count": 37,
   "metadata": {},
   "outputs": [],
   "source": [
    "data[DataSchema.ROUTES_N] = data[DataSchema.ROUTE].apply(lambda x: 0 if x is np.nan else len(x))"
   ]
  },
  {
   "cell_type": "code",
   "execution_count": 38,
   "metadata": {},
   "outputs": [
    {
     "data": {
      "text/plain": [
       "Routes_Number\n",
       "2    2913\n",
       "0     764\n",
       "4     452\n",
       "3     442\n",
       "1     371\n",
       "5      59\n",
       "6      26\n",
       "7       1\n",
       "Name: count, dtype: int64"
      ]
     },
     "execution_count": 38,
     "metadata": {},
     "output_type": "execute_result"
    }
   ],
   "source": [
    "data[DataSchema.ROUTES_N].value_counts()"
   ]
  },
  {
   "cell_type": "code",
   "execution_count": 39,
   "metadata": {},
   "outputs": [],
   "source": [
    "redundant_columns.append(DataSchema.ROUTE)"
   ]
  },
  {
   "cell_type": "markdown",
   "metadata": {},
   "source": [
    "## Construction or serial number / Line or fuselage number"
   ]
  },
  {
   "cell_type": "code",
   "execution_count": 40,
   "metadata": {},
   "outputs": [
    {
     "name": "stdout",
     "output_type": "stream",
     "text": [
      "cn / ln:\n",
      "False    4358\n",
      "True      670\n",
      "Name: count, dtype: int64\n",
      "\u001b[31mConstruction/fuselage number field has 13.33% missing values\u001b[0m\n",
      "\u001b[32mConstruction/fuselage number field has 78.02% unique values\u001b[0m\n"
     ]
    }
   ],
   "source": [
    "get_pct_missing_and_unique(DataSchema.CN_LN, \"Construction/fuselage number\")"
   ]
  },
  {
   "cell_type": "code",
   "execution_count": 41,
   "metadata": {},
   "outputs": [
    {
     "data": {
      "text/plain": [
       "2       33070\n",
       "13       4514\n",
       "18       4938\n",
       "23         22\n",
       "25      U-178\n",
       "        ...  \n",
       "5023     4754\n",
       "5024     1136\n",
       "5025    11496\n",
       "5026     2274\n",
       "5027     4841\n",
       "Name: cn / ln:, Length: 4358, dtype: object"
      ]
     },
     "execution_count": 41,
     "metadata": {},
     "output_type": "execute_result"
    }
   ],
   "source": [
    "data[data[DataSchema.CN_LN].notna()][DataSchema.CN_LN]"
   ]
  },
  {
   "cell_type": "code",
   "execution_count": 42,
   "metadata": {},
   "outputs": [],
   "source": [
    "redundant_columns.append(DataSchema.CN_LN)"
   ]
  },
  {
   "cell_type": "markdown",
   "metadata": {},
   "source": [
    "## Flight number"
   ]
  },
  {
   "cell_type": "code",
   "execution_count": 43,
   "metadata": {},
   "outputs": [
    {
     "name": "stdout",
     "output_type": "stream",
     "text": [
      "Flight #:\n",
      "True     3690\n",
      "False    1338\n",
      "Name: count, dtype: int64\n",
      "\u001b[31mFlight number field has 73.39% missing values\u001b[0m\n",
      "\u001b[32mFlight number field has 17.96% unique values\u001b[0m\n"
     ]
    }
   ],
   "source": [
    "get_pct_missing_and_unique(DataSchema.FLIGHT_N, \"Flight number\")"
   ]
  },
  {
   "cell_type": "code",
   "execution_count": 44,
   "metadata": {},
   "outputs": [
    {
     "data": {
      "text/plain": [
       "3156     304\n",
       "3642    9633\n",
       "4566     221\n",
       "54      1627\n",
       "4942    1746\n",
       "Name: Flight #:, dtype: object"
      ]
     },
     "execution_count": 44,
     "metadata": {},
     "output_type": "execute_result"
    }
   ],
   "source": [
    "data[data[DataSchema.FLIGHT_N].notna()][DataSchema.FLIGHT_N].sample(5)"
   ]
  },
  {
   "cell_type": "code",
   "execution_count": 45,
   "metadata": {},
   "outputs": [],
   "source": [
    "redundant_columns.append(DataSchema.FLIGHT_N)"
   ]
  },
  {
   "cell_type": "markdown",
   "metadata": {},
   "source": [
    "## Is Military"
   ]
  },
  {
   "cell_type": "code",
   "execution_count": 46,
   "metadata": {},
   "outputs": [
    {
     "name": "stdout",
     "output_type": "stream",
     "text": [
      "Is_military\n",
      "False    5018\n",
      "True       10\n",
      "Name: count, dtype: int64\n",
      "\u001b[31mIs Military field has 0.20% missing values\u001b[0m\n",
      "\u001b[32mIs Military field has 0.04% unique values\u001b[0m\n"
     ]
    }
   ],
   "source": [
    "get_pct_missing_and_unique(DataSchema.IS_MILITARY, \"Is Military\")"
   ]
  },
  {
   "cell_type": "code",
   "execution_count": 47,
   "metadata": {},
   "outputs": [],
   "source": [
    "# TODO consider to drop military samples\n",
    "redundant_columns.append(DataSchema.IS_MILITARY)"
   ]
  },
  {
   "cell_type": "markdown",
   "metadata": {},
   "source": [
    "## Military country"
   ]
  },
  {
   "cell_type": "code",
   "execution_count": 48,
   "metadata": {},
   "outputs": [
    {
     "name": "stdout",
     "output_type": "stream",
     "text": [
      "Military country\n",
      "True     4262\n",
      "False     766\n",
      "Name: count, dtype: int64\n",
      "\u001b[31mMilitary country field has 84.77% missing values\u001b[0m\n",
      "\u001b[32mMilitary country field has 4.26% unique values\u001b[0m\n"
     ]
    }
   ],
   "source": [
    "get_pct_missing_and_unique(DataSchema.MILITARY_COUNTRY)"
   ]
  },
  {
   "cell_type": "code",
   "execution_count": 49,
   "metadata": {},
   "outputs": [],
   "source": [
    "redundant_columns.append(DataSchema.MILITARY_COUNTRY)"
   ]
  },
  {
   "cell_type": "markdown",
   "metadata": {},
   "source": [
    "## Aboard All"
   ]
  },
  {
   "cell_type": "code",
   "execution_count": 50,
   "metadata": {},
   "outputs": [
    {
     "name": "stdout",
     "output_type": "stream",
     "text": [
      "Aboard_all\n",
      "False    5011\n",
      "True       17\n",
      "Name: count, dtype: int64\n",
      "\u001b[31mAboard All field has 0.34% missing values\u001b[0m\n",
      "\u001b[32mAboard All field has 4.85% unique values\u001b[0m\n"
     ]
    }
   ],
   "source": [
    "get_pct_missing_and_unique(DataSchema.ABOARD_ALL, \"Aboard All\")"
   ]
  },
  {
   "cell_type": "code",
   "execution_count": 51,
   "metadata": {},
   "outputs": [],
   "source": [
    "data.dropna(subset=[DataSchema.ABOARD_ALL], inplace=True)"
   ]
  },
  {
   "cell_type": "markdown",
   "metadata": {},
   "source": [
    "## Abroad Passengers"
   ]
  },
  {
   "cell_type": "code",
   "execution_count": 52,
   "metadata": {},
   "outputs": [
    {
     "name": "stdout",
     "output_type": "stream",
     "text": [
      "Aboard_passengers\n",
      "False    4807\n",
      "True      204\n",
      "Name: count, dtype: int64\n",
      "\u001b[31mAbroad Passengers field has 4.07% missing values\u001b[0m\n",
      "\u001b[32mAbroad Passengers field has 4.67% unique values\u001b[0m\n"
     ]
    }
   ],
   "source": [
    "get_pct_missing_and_unique(DataSchema.ABOARD_PASSENGERS, \"Abroad Passengers\")"
   ]
  },
  {
   "cell_type": "markdown",
   "metadata": {},
   "source": [
    "## Fatalities All"
   ]
  },
  {
   "cell_type": "code",
   "execution_count": 53,
   "metadata": {},
   "outputs": [
    {
     "name": "stdout",
     "output_type": "stream",
     "text": [
      "Fatalities_all\n",
      "False    5011\n",
      "Name: count, dtype: int64\n",
      "\u001b[31mFatalities All field has 0.00% missing values\u001b[0m\n",
      "\u001b[32mFatalities All field has 3.97% unique values\u001b[0m\n"
     ]
    }
   ],
   "source": [
    "get_pct_missing_and_unique(DataSchema.FATALITIES_ALL, \"Fatalities All\")"
   ]
  },
  {
   "cell_type": "code",
   "execution_count": 54,
   "metadata": {},
   "outputs": [],
   "source": [
    "data.dropna(subset=[DataSchema.FATALITIES_ALL], inplace=True)"
   ]
  },
  {
   "cell_type": "markdown",
   "metadata": {},
   "source": [
    "## Fatalities Passengers"
   ]
  },
  {
   "cell_type": "code",
   "execution_count": 55,
   "metadata": {},
   "outputs": [
    {
     "name": "stdout",
     "output_type": "stream",
     "text": [
      "Fatalities_passengers\n",
      "False    4790\n",
      "True      221\n",
      "Name: count, dtype: int64\n",
      "\u001b[31mFatalities Passengers field has 4.41% missing values\u001b[0m\n",
      "\u001b[32mFatalities Passengers field has 3.79% unique values\u001b[0m\n"
     ]
    }
   ],
   "source": [
    "get_pct_missing_and_unique(DataSchema.FATALITIES_PASSENGERS, \"Fatalities Passengers\")"
   ]
  },
  {
   "cell_type": "markdown",
   "metadata": {},
   "source": [
    "## Ground"
   ]
  },
  {
   "cell_type": "code",
   "execution_count": 56,
   "metadata": {},
   "outputs": [
    {
     "name": "stdout",
     "output_type": "stream",
     "text": [
      "Ground:\n",
      "False    4979\n",
      "True       32\n",
      "Name: count, dtype: int64\n",
      "\u001b[31mGround field has 0.64% missing values\u001b[0m\n",
      "\u001b[32mGround field has 1.00% unique values\u001b[0m\n"
     ]
    }
   ],
   "source": [
    "get_pct_missing_and_unique(DataSchema.GROUND, \"Ground\")"
   ]
  },
  {
   "cell_type": "code",
   "execution_count": 57,
   "metadata": {},
   "outputs": [],
   "source": [
    "data[DataSchema.GROUND].fillna(0, inplace = True)"
   ]
  },
  {
   "cell_type": "code",
   "execution_count": 58,
   "metadata": {},
   "outputs": [
    {
     "data": {
      "text/plain": [
       "Ground:\n",
       "0.0000       4761\n",
       "1.0000         62\n",
       "2.0000         36\n",
       "3.0000         21\n",
       "4.0000         16\n",
       "5.0000         12\n",
       "7.0000         10\n",
       "8.0000          9\n",
       "6.0000          6\n",
       "14.0000         5\n",
       "10.0000         5\n",
       "11.0000         4\n",
       "12.0000         4\n",
       "19.0000         4\n",
       "44.0000         4\n",
       "13.0000         4\n",
       "22.0000         4\n",
       "24.0000         3\n",
       "20.0000         3\n",
       "37.0000         2\n",
       "30.0000         2\n",
       "125.0000        2\n",
       "15.0000         2\n",
       "35.0000         2\n",
       "2750.0000       2\n",
       "25.0000         2\n",
       "225.0000        1\n",
       "58.0000         1\n",
       "39.0000         1\n",
       "16.0000         1\n",
       "49.0000         1\n",
       "23.0000         1\n",
       "78.0000         1\n",
       "71.0000         1\n",
       "53.0000         1\n",
       "63.0000         1\n",
       "18.0000         1\n",
       "113.0000        1\n",
       "31.0000         1\n",
       "85.0000         1\n",
       "36.0000         1\n",
       "87.0000         1\n",
       "40.0000         1\n",
       "33.0000         1\n",
       "45.0000         1\n",
       "32.0000         1\n",
       "29.0000         1\n",
       "50.0000         1\n",
       "17.0000         1\n",
       "9.0000          1\n",
       "Name: count, dtype: int64"
      ]
     },
     "execution_count": 58,
     "metadata": {},
     "output_type": "execute_result"
    }
   ],
   "source": [
    "data[DataSchema.GROUND].value_counts()\n",
    "# data[data[DataSchema.GROUND]==2750]"
   ]
  },
  {
   "cell_type": "code",
   "execution_count": 59,
   "metadata": {},
   "outputs": [],
   "source": [
    "# TODO replace np.nan with most mean which is 0 and change type to int"
   ]
  },
  {
   "cell_type": "code",
   "execution_count": 60,
   "metadata": {},
   "outputs": [
    {
     "data": {
      "text/html": [
       "<div>\n",
       "<style scoped>\n",
       "    .dataframe tbody tr th:only-of-type {\n",
       "        vertical-align: middle;\n",
       "    }\n",
       "\n",
       "    .dataframe tbody tr th {\n",
       "        vertical-align: top;\n",
       "    }\n",
       "\n",
       "    .dataframe thead th {\n",
       "        text-align: right;\n",
       "    }\n",
       "</style>\n",
       "<table border=\"1\" class=\"dataframe\">\n",
       "  <thead>\n",
       "    <tr style=\"text-align: right;\">\n",
       "      <th></th>\n",
       "      <th>Aboard_all</th>\n",
       "      <th>Aboard_passengers</th>\n",
       "      <th>Fatalities_all</th>\n",
       "      <th>Fatalities_passengers</th>\n",
       "      <th>Ground:</th>\n",
       "    </tr>\n",
       "  </thead>\n",
       "  <tbody>\n",
       "    <tr>\n",
       "      <th>1539</th>\n",
       "      <td>19</td>\n",
       "      <td>13</td>\n",
       "      <td>9</td>\n",
       "      <td>3</td>\n",
       "      <td>0.0000</td>\n",
       "    </tr>\n",
       "    <tr>\n",
       "      <th>2960</th>\n",
       "      <td>307</td>\n",
       "      <td>291</td>\n",
       "      <td>3</td>\n",
       "      <td>3</td>\n",
       "      <td>0.0000</td>\n",
       "    </tr>\n",
       "    <tr>\n",
       "      <th>4678</th>\n",
       "      <td>8</td>\n",
       "      <td>5</td>\n",
       "      <td>8</td>\n",
       "      <td>5</td>\n",
       "      <td>0.0000</td>\n",
       "    </tr>\n",
       "    <tr>\n",
       "      <th>4484</th>\n",
       "      <td>7</td>\n",
       "      <td>5</td>\n",
       "      <td>7</td>\n",
       "      <td>5</td>\n",
       "      <td>0.0000</td>\n",
       "    </tr>\n",
       "    <tr>\n",
       "      <th>4524</th>\n",
       "      <td>7</td>\n",
       "      <td>6</td>\n",
       "      <td>7</td>\n",
       "      <td>6</td>\n",
       "      <td>0.0000</td>\n",
       "    </tr>\n",
       "    <tr>\n",
       "      <th>1254</th>\n",
       "      <td>16</td>\n",
       "      <td>9</td>\n",
       "      <td>16</td>\n",
       "      <td>9</td>\n",
       "      <td>0.0000</td>\n",
       "    </tr>\n",
       "    <tr>\n",
       "      <th>2005</th>\n",
       "      <td>21</td>\n",
       "      <td>17</td>\n",
       "      <td>21</td>\n",
       "      <td>17</td>\n",
       "      <td>0.0000</td>\n",
       "    </tr>\n",
       "    <tr>\n",
       "      <th>2823</th>\n",
       "      <td>3</td>\n",
       "      <td>1</td>\n",
       "      <td>2</td>\n",
       "      <td>1</td>\n",
       "      <td>0.0000</td>\n",
       "    </tr>\n",
       "    <tr>\n",
       "      <th>849</th>\n",
       "      <td>13</td>\n",
       "      <td>9</td>\n",
       "      <td>12</td>\n",
       "      <td>9</td>\n",
       "      <td>0.0000</td>\n",
       "    </tr>\n",
       "    <tr>\n",
       "      <th>4355</th>\n",
       "      <td>66</td>\n",
       "      <td>60</td>\n",
       "      <td>0</td>\n",
       "      <td>0</td>\n",
       "      <td>0.0000</td>\n",
       "    </tr>\n",
       "  </tbody>\n",
       "</table>\n",
       "</div>"
      ],
      "text/plain": [
       "     Aboard_all Aboard_passengers Fatalities_all Fatalities_passengers   \n",
       "1539         19                13              9                     3  \\\n",
       "2960        307               291              3                     3   \n",
       "4678          8                 5              8                     5   \n",
       "4484          7                 5              7                     5   \n",
       "4524          7                 6              7                     6   \n",
       "1254         16                 9             16                     9   \n",
       "2005         21                17             21                    17   \n",
       "2823          3                 1              2                     1   \n",
       "849          13                 9             12                     9   \n",
       "4355         66                60              0                     0   \n",
       "\n",
       "      Ground:  \n",
       "1539   0.0000  \n",
       "2960   0.0000  \n",
       "4678   0.0000  \n",
       "4484   0.0000  \n",
       "4524   0.0000  \n",
       "1254   0.0000  \n",
       "2005   0.0000  \n",
       "2823   0.0000  \n",
       "849    0.0000  \n",
       "4355   0.0000  "
      ]
     },
     "execution_count": 60,
     "metadata": {},
     "output_type": "execute_result"
    }
   ],
   "source": [
    "fatalities = [\n",
    "    DataSchema.ABOARD_ALL, DataSchema.ABOARD_PASSENGERS, \n",
    "    DataSchema.FATALITIES_ALL, DataSchema.FATALITIES_PASSENGERS, DataSchema.GROUND]\n",
    "data[fatalities].sample(10)"
   ]
  },
  {
   "cell_type": "code",
   "execution_count": 61,
   "metadata": {},
   "outputs": [
    {
     "data": {
      "text/plain": [
       "<Axes: ylabel='Count'>"
      ]
     },
     "execution_count": 61,
     "metadata": {},
     "output_type": "execute_result"
    },
    {
     "data": {
      "image/png": "[encoded data removed]",
      "text/plain": [
       "<Figure size 640x480 with 1 Axes>"
      ]
     },
     "metadata": {},
     "output_type": "display_data"
    }
   ],
   "source": [
    "def get_pct_fatalities(row):\n",
    "    if row[DataSchema.ABOARD_ALL] is not np.nan and row[DataSchema.FATALITIES_ALL]is not np.nan and int(row[DataSchema.ABOARD_ALL])!=0:\n",
    "        return int(row[DataSchema.FATALITIES_ALL])/int(row[DataSchema.ABOARD_ALL])*100\n",
    "    return -1\n",
    "\n",
    "all = data.apply(lambda x: get_pct_fatalities(x), axis=1)\n",
    "\n",
    "def get_pct_fatalities_passwnger(row):\n",
    "    if row[DataSchema.ABOARD_ALL] is not np.nan and row[DataSchema.FATALITIES_PASSENGERS]is not np.nan and int(row[DataSchema.ABOARD_ALL])!=0:\n",
    "        return int(row[DataSchema.FATALITIES_PASSENGERS])/int(row[DataSchema.ABOARD_ALL])*100\n",
    "    return -1\n",
    "\n",
    "passengers = data.apply(lambda x: get_pct_fatalities(x), axis=1)\n",
    "\n",
    "def get_pct_fatalities_passwnger(row):\n",
    "    if row[DataSchema.ABOARD_ALL] is not np.nan and row[DataSchema.FATALITIES_PASSENGERS]is not np.nan and int(row[DataSchema.ABOARD_ALL])!=0:\n",
    "        return (int(row[DataSchema.FATALITIES_ALL])-int(row[DataSchema.FATALITIES_PASSENGERS]))/int(row[DataSchema.ABOARD_ALL])*100\n",
    "    return -1\n",
    "\n",
    "crew = data.apply(lambda x: get_pct_fatalities(x), axis=1)\n",
    "\n",
    "sns.histplot(all)"
   ]
  },
  {
   "cell_type": "code",
   "execution_count": 62,
   "metadata": {},
   "outputs": [],
   "source": [
    "redundant_columns.append(DataSchema.GROUND)"
   ]
  },
  {
   "cell_type": "markdown",
   "metadata": {},
   "source": [
    "## Registration"
   ]
  },
  {
   "cell_type": "code",
   "execution_count": 63,
   "metadata": {},
   "outputs": [
    {
     "name": "stdout",
     "output_type": "stream",
     "text": [
      "Registration:\n",
      "False    4746\n",
      "True      265\n",
      "Name: count, dtype: int64\n",
      "\u001b[31mRegistration field has 5.29% missing values\u001b[0m\n",
      "\u001b[32mRegistration field has 93.99% unique values\u001b[0m\n"
     ]
    }
   ],
   "source": [
    "get_pct_missing_and_unique(DataSchema.REGISTRATION, \"Registration\")"
   ]
  },
  {
   "cell_type": "code",
   "execution_count": 64,
   "metadata": {},
   "outputs": [
    {
     "data": {
      "text/plain": [
       "2045     N233YV\n",
       "4440     N17891\n",
       "2030     N74586\n",
       "2009    PI-C527\n",
       "1730     N91008\n",
       "Name: Registration:, dtype: object"
      ]
     },
     "execution_count": 64,
     "metadata": {},
     "output_type": "execute_result"
    }
   ],
   "source": [
    "data[DataSchema.REGISTRATION].sample(5)"
   ]
  },
  {
   "cell_type": "code",
   "execution_count": 65,
   "metadata": {},
   "outputs": [],
   "source": [
    "redundant_columns.append(DataSchema.REGISTRATION)"
   ]
  },
  {
   "cell_type": "markdown",
   "metadata": {},
   "source": [
    "## Summary"
   ]
  },
  {
   "cell_type": "code",
   "execution_count": 66,
   "metadata": {},
   "outputs": [
    {
     "name": "stdout",
     "output_type": "stream",
     "text": [
      "Summary:\n",
      "False    4960\n",
      "True       51\n",
      "Name: count, dtype: int64\n",
      "\u001b[31mSummary field has 1.02% missing values\u001b[0m\n",
      "\u001b[32mSummary field has 97.15% unique values\u001b[0m\n"
     ]
    }
   ],
   "source": [
    "get_pct_missing_and_unique(DataSchema.SUMMARY, \"Summary\")"
   ]
  },
  {
   "cell_type": "code",
   "execution_count": 67,
   "metadata": {},
   "outputs": [
    {
     "data": {
      "text/plain": [
       "17      Crashed into the sea while attempting to land ...\n",
       "18      The flight crew encountered poor weather condi...\n",
       "19      The fighter crashed into a village after the p...\n",
       "20      The jet fighter crashed into a school shortly ...\n",
       "21      Crashed into a garage near Jamnagar railway st...\n",
       "                              ...                        \n",
       "5023    Crashed while attempting to land in poor visib...\n",
       "5024    The aircraft crashed into foothills during lan...\n",
       "5025    While taking off, the tail of the plane struck...\n",
       "5026    While landing, the aircraft scraped the runway...\n",
       "5027    The aircraft crashed into the sea while en rou...\n",
       "Name: Summary:, Length: 4960, dtype: object"
      ]
     },
     "execution_count": 67,
     "metadata": {},
     "output_type": "execute_result"
    }
   ],
   "source": [
    "data.dropna(subset=[DataSchema.SUMMARY], inplace=True)\n",
    "data[DataSchema.SUMMARY]"
   ]
  },
  {
   "cell_type": "code",
   "execution_count": 68,
   "metadata": {},
   "outputs": [
    {
     "name": "stdout",
     "output_type": "stream",
     "text": [
      "__testing_word2vec-matrix-synopsis (-1 records) [THIS IS ONLY FOR TESTING] Word vecrors ...\n",
      "conceptnet-numberbatch-17-06-300 (1917247 records) ConceptNet Numberbatch consists of state...\n",
      "fasttext-wiki-news-subwords-300 (999999 records) 1 million word vectors trained on Wikipe...\n",
      "glove-twitter-100 (1193514 records) Pre-trained vectors based on  2B tweets,...\n",
      "glove-twitter-200 (1193514 records) Pre-trained vectors based on 2B tweets, ...\n",
      "glove-twitter-25 (1193514 records) Pre-trained vectors based on 2B tweets, ...\n",
      "glove-twitter-50 (1193514 records) Pre-trained vectors based on 2B tweets, ...\n",
      "glove-wiki-gigaword-100 (400000 records) Pre-trained vectors based on Wikipedia 2...\n",
      "glove-wiki-gigaword-200 (400000 records) Pre-trained vectors based on Wikipedia 2...\n",
      "glove-wiki-gigaword-300 (400000 records) Pre-trained vectors based on Wikipedia 2...\n",
      "glove-wiki-gigaword-50 (400000 records) Pre-trained vectors based on Wikipedia 2...\n",
      "word2vec-google-news-300 (3000000 records) Pre-trained vectors trained on a part of...\n",
      "word2vec-ruscorpora-300 (184973 records) Word2vec Continuous Skipgram vectors tra...\n"
     ]
    }
   ],
   "source": [
    "info = api.info()\n",
    "for model_name, model_data in sorted(info[\"models\"].items()):\n",
    "    print(\"%s (%d records) %s...\" % (model_name, model_data.get(\"num_records\", -1), model_data[\"description\"][:40]))"
   ]
  },
  {
   "cell_type": "code",
   "execution_count": 69,
   "metadata": {},
   "outputs": [],
   "source": [
    "w2v = api.load(\"word2vec-google-news-300\")"
   ]
  },
  {
   "cell_type": "code",
   "execution_count": 70,
   "metadata": {},
   "outputs": [],
   "source": [
    "# preprocessing (remove stop words, lemmitize)\n",
    "\n",
    "def text2vec(text):\n",
    "    doc = nlp(text)\n",
    "\n",
    "    filtered = []\n",
    "    for token in doc:\n",
    "        if token.is_punct or token.is_stop:\n",
    "            continue\n",
    "        filtered.append(token.lemma_)\n",
    "    return w2v.get_mean_vector(filtered, pre_normalize=True)"
   ]
  },
  {
   "cell_type": "markdown",
   "metadata": {},
   "source": [
    "### Check sence"
   ]
  },
  {
   "cell_type": "code",
   "execution_count": 94,
   "metadata": {},
   "outputs": [
    {
     "data": {
      "text/plain": [
       "0.38673735"
      ]
     },
     "execution_count": 94,
     "metadata": {},
     "output_type": "execute_result"
    }
   ],
   "source": [
    "w2v.similarity(\"plane\",\"passanger\")"
   ]
  },
  {
   "cell_type": "code",
   "execution_count": 71,
   "metadata": {},
   "outputs": [],
   "source": [
    "data[DataSchema.VECTOR] = data[DataSchema.SUMMARY].apply(lambda text: text2vec(text))"
   ]
  },
  {
   "cell_type": "code",
   "execution_count": 72,
   "metadata": {},
   "outputs": [
    {
     "data": {
      "text/plain": [
       "17      [0.05043276, 0.027191455, -0.0071065263, -0.04...\n",
       "18      [0.0019159336, 0.025261356, -0.021788506, -0.0...\n",
       "19      [0.03138057, -0.015901051, 0.0046105697, -0.02...\n",
       "20      [0.026634866, 0.00529921, 0.014611551, -0.0239...\n",
       "21      [0.008042982, -0.003447343, 0.0026694972, 0.00...\n",
       "                              ...                        \n",
       "5023    [0.035967443, 0.017025722, -0.009114943, -0.00...\n",
       "5024    [0.012585972, 0.011037905, -0.0064337724, -0.0...\n",
       "5025    [0.004988002, 0.01417296, 0.00010089243, 0.008...\n",
       "5026    [0.0058019077, 0.020016516, -0.0106371865, -0....\n",
       "5027    [0.0057630367, 0.010151503, 0.0024219363, 0.00...\n",
       "Name: Vector, Length: 4960, dtype: object"
      ]
     },
     "execution_count": 72,
     "metadata": {},
     "output_type": "execute_result"
    }
   ],
   "source": [
    "data[DataSchema.VECTOR]"
   ]
  },
  {
   "cell_type": "markdown",
   "metadata": {},
   "source": [
    "# Target"
   ]
  },
  {
   "cell_type": "code",
   "execution_count": 73,
   "metadata": {},
   "outputs": [],
   "source": [
    "for col in [DataSchema.ABOARD_ALL, DataSchema.FATALITIES_ALL, DataSchema.GROUND]:\n",
    "    data[col] = data[col].astype(int)"
   ]
  },
  {
   "cell_type": "code",
   "execution_count": 74,
   "metadata": {},
   "outputs": [],
   "source": [
    "data[DataSchema.FATALITIES] = data[DataSchema.FATALITIES_ALL]+data[DataSchema.GROUND]\n",
    "data[DataSchema.SURVIVED] = data[DataSchema.ABOARD_ALL]-data[DataSchema.FATALITIES_ALL]"
   ]
  },
  {
   "cell_type": "code",
   "execution_count": 75,
   "metadata": {},
   "outputs": [
    {
     "data": {
      "text/plain": [
       "Fatalities\n",
       "2      367\n",
       "1      363\n",
       "3      349\n",
       "4      239\n",
       "5      232\n",
       "      ... \n",
       "229      1\n",
       "225      1\n",
       "224      1\n",
       "223      1\n",
       "269      1\n",
       "Name: count, Length: 204, dtype: int64"
      ]
     },
     "execution_count": 75,
     "metadata": {},
     "output_type": "execute_result"
    }
   ],
   "source": [
    "data[DataSchema.FATALITIES].value_counts()"
   ]
  },
  {
   "cell_type": "code",
   "execution_count": 76,
   "metadata": {},
   "outputs": [
    {
     "data": {
      "text/plain": [
       "Survived\n",
       "0      3155\n",
       "1       281\n",
       "2       174\n",
       "4       117\n",
       "3       104\n",
       "       ... \n",
       "106       1\n",
       "165       1\n",
       "138       1\n",
       "162       1\n",
       "97        1\n",
       "Name: count, Length: 178, dtype: int64"
      ]
     },
     "execution_count": 76,
     "metadata": {},
     "output_type": "execute_result"
    }
   ],
   "source": [
    "data[DataSchema.SURVIVED].value_counts()"
   ]
  },
  {
   "cell_type": "code",
   "execution_count": 81,
   "metadata": {},
   "outputs": [],
   "source": [
    "data[DataSchema.SURVIVED] = np.where(data[DataSchema.SURVIVED] > 0, 1, data[DataSchema.SURVIVED])"
   ]
  },
  {
   "cell_type": "code",
   "execution_count": 83,
   "metadata": {},
   "outputs": [
    {
     "data": {
      "text/plain": [
       "Survived\n",
       "0    3155\n",
       "1    1805\n",
       "Name: count, dtype: int64"
      ]
     },
     "execution_count": 83,
     "metadata": {},
     "output_type": "execute_result"
    }
   ],
   "source": [
    "data[DataSchema.SURVIVED].value_counts()"
   ]
  },
  {
   "cell_type": "code",
   "execution_count": 77,
   "metadata": {},
   "outputs": [
    {
     "data": {
      "text/plain": [
       "Survived_pct\n",
       "0.0000      3150\n",
       "50.0000       89\n",
       "100.0000      73\n",
       "33.3333       55\n",
       "66.6667       35\n",
       "            ... \n",
       "58.0645        1\n",
       "32.2581        1\n",
       "16.1290        1\n",
       "16.2393        1\n",
       "2.0202         1\n",
       "Name: count, Length: 654, dtype: int64"
      ]
     },
     "execution_count": 77,
     "metadata": {},
     "output_type": "execute_result"
    }
   ],
   "source": [
    "data[DataSchema.SURVIVED_PCT] = data[DataSchema.SURVIVED]/data[DataSchema.ABOARD_ALL]*100\n",
    "data[DataSchema.SURVIVED_PCT].value_counts()"
   ]
  },
  {
   "cell_type": "markdown",
   "metadata": {},
   "source": [
    "### Summary vectors as features to predict survival percentage"
   ]
  },
  {
   "cell_type": "code",
   "execution_count": 84,
   "metadata": {},
   "outputs": [],
   "source": [
    "X_train, X_test, y_train, y_test = train_test_split(\n",
    "    data[DataSchema.VECTOR].values,\n",
    "    data[DataSchema.SURVIVED],\n",
    "    test_size=0.2,\n",
    "    random_state=42,\n",
    "    stratify=data[DataSchema.SURVIVED]\n",
    ")"
   ]
  },
  {
   "cell_type": "code",
   "execution_count": 85,
   "metadata": {},
   "outputs": [],
   "source": [
    "X_train_2d = np.stack(X_train)\n",
    "X_test_2d = np.stack(X_test)"
   ]
  },
  {
   "cell_type": "code",
   "execution_count": 88,
   "metadata": {},
   "outputs": [
    {
     "name": "stdout",
     "output_type": "stream",
     "text": [
      "X_train_2d.shape=(3968, 300)\n",
      "X_test_2d.shape=(992, 300)\n"
     ]
    }
   ],
   "source": [
    "print(f\"{X_train_2d.shape=}\")\n",
    "print(f\"{X_test_2d.shape=}\")"
   ]
  },
  {
   "cell_type": "code",
   "execution_count": 91,
   "metadata": {},
   "outputs": [
    {
     "name": "stdout",
     "output_type": "stream",
     "text": [
      "              precision    recall  f1-score   support\n",
      "\n",
      "           0       0.73      0.84      0.78       631\n",
      "           1       0.62      0.46      0.53       361\n",
      "\n",
      "    accuracy                           0.70       992\n",
      "   macro avg       0.68      0.65      0.66       992\n",
      "weighted avg       0.69      0.70      0.69       992\n",
      "\n"
     ]
    }
   ],
   "source": [
    "clf = GradientBoostingClassifier()\n",
    "clf.fit(X_train_2d, y_train)\n",
    "y_pred = clf.predict(X_test_2d)\n",
    "print(classification_report(y_test, y_pred))"
   ]
  },
  {
   "cell_type": "code",
   "execution_count": null,
   "metadata": {},
   "outputs": [],
   "source": []
  }
 ],
 "metadata": {
  "kernelspec": {
   "display_name": "Python 3.11.0 64-bit ('deploing_ml_models')",
   "language": "python",
   "name": "python3"
  },
  "language_info": {
   "codemirror_mode": {
    "name": "ipython",
    "version": 3
   },
   "file_extension": ".py",
   "mimetype": "text/x-python",
   "name": "python",
   "nbconvert_exporter": "python",
   "pygments_lexer": "ipython3",
   "version": "3.11.0"
  },
  "orig_nbformat": 4,
  "vscode": {
   "interpreter": {
    "hash": "6f13d9f54e4f4e8bae757f010cebe67df66911819a91a6a446f98cddd5d9857d"
   }
  }
 },
 "nbformat": 4,
 "nbformat_minor": 2
}
