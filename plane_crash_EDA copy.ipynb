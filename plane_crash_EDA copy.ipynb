{
 "cells": [
  {
   "cell_type": "markdown",
   "metadata": {},
   "source": [
    "# Machine Learning Pipeline - Data Analysis\n",
    "\n",
    "Implementation of each of the steps in the Machine Learning Pipeline. \n",
    "\n",
    "1. **Data Analysis**\n",
    "2. Feature Engineering\n",
    "3. Feature Selection\n",
    "4. Model Training\n",
    "5. Obtaining Predictions / Scoring\n",
    "\n",
    "Plane Crash Dataset available on [Kaggle.com](https://www.kaggle.com/datasets/kamilkarczmarczyk/plane-crash-dataset-03042023). See below for more details.\n",
    "\n",
    "==================================================================================================="
   ]
  },
  {
   "cell_type": "markdown",
   "metadata": {},
   "source": [
    "Data description:\n",
    "- Date: Date of accident, in the format - January 01, 2001\n",
    "- Time: Local time, in 24 hr. format unless otherwise specified\n",
    "- Airline/Op: Airline or operator of the aircraft\n",
    "- Flight #: Flight number assigned by the aircraft operator\n",
    "- Route: Complete or partial route flown prior to the accident\n",
    "- AC Type: Aircraft type\n",
    "- Reg: ICAO registration of the aircraft\n",
    "- cn / ln: Construction or serial number / Line or fuselage number\n",
    "- Aboard: Total aboard (passengers / crew)\n",
    "- Fatalities: Total fatalities aboard (passengers / crew)\n",
    "- Ground: Total killed on the ground\n",
    "- Summary: Brief description of the accident and cause if known"
   ]
  },
  {
   "cell_type": "markdown",
   "metadata": {},
   "source": [
    "# Data Analysis"
   ]
  },
  {
   "cell_type": "code",
   "execution_count": null,
   "metadata": {},
   "outputs": [],
   "source": [
    "# ! python -m spacy download en_core_web_sm"
   ]
  },
  {
   "cell_type": "code",
   "execution_count": 1,
   "metadata": {},
   "outputs": [],
   "source": [
    "# to handle datasets\n",
    "import pandas as pd\n",
    "import numpy as np\n",
    "import datetime as dt\n",
    "import re\n",
    "\n",
    "from datetime import date as date_, time as time_\n",
    "from pydantic import BaseModel, Field\n",
    "import pandera as pa\n",
    "from pandera.typing import DataFrame, Series\n",
    "import pydantic\n",
    "from typing import Optional\n",
    "\n",
    "# for plotting\n",
    "import matplotlib.pyplot as plt\n",
    "import seaborn as sns\n",
    "import plotly.graph_objs as go\n",
    "\n",
    "# for the yeo-johnson transformation\n",
    "import scipy.stats as stats\n",
    "\n",
    "# to display all the columns of the dataframe in the notebook\n",
    "pd.pandas.set_option(\"display.max_columns\", None)\n",
    "pd.set_option('display.float_format', lambda x: '%.4f' % x)\n",
    "\n",
    "import spacy\n",
    "import gensim\n",
    "from typing import Union\n",
    "import logging\n",
    "import itertools\n",
    "\n",
    "import warnings\n",
    "warnings.filterwarnings('ignore')\n",
    "warnings.simplefilter('ignore')\n",
    "\n",
    "import spacy.cli\n",
    "import gensim.downloader as api\n",
    "from gensim.models import Word2Vec\n",
    "from sklearn.manifold import TSNE\n",
    "from sklearn.model_selection import train_test_split\n",
    "from sklearn.ensemble import GradientBoostingClassifier\n",
    "from sklearn.metrics import classification_report\n",
    "\n",
    "%matplotlib inline"
   ]
  },
  {
   "cell_type": "code",
   "execution_count": 2,
   "metadata": {},
   "outputs": [
    {
     "name": "stdout",
     "output_type": "stream",
     "text": [
      "Collecting en-core-web-lg==3.5.0\n",
      "  Downloading https://github.com/explosion/spacy-models/releases/download/en_core_web_lg-3.5.0/en_core_web_lg-3.5.0-py3-none-any.whl (587.7 MB)\n",
      "\u001b[2K     ━━━━━━━━━━━━━━━━━━━━━━━━━━━━━━━━━━━━━━━ 587.7/587.7 MB 4.2 MB/s eta 0:00:00\n",
      "\u001b[?25hRequirement already satisfied: spacy<3.6.0,>=3.5.0 in /Users/Viktoryia.Kisialeuskaya/.pyenv/versions/3.11.0/envs/deploing_ml_models/lib/python3.11/site-packages (from en-core-web-lg==3.5.0) (3.5.2)\n",
      "Requirement already satisfied: spacy-legacy<3.1.0,>=3.0.11 in /Users/Viktoryia.Kisialeuskaya/.pyenv/versions/3.11.0/envs/deploing_ml_models/lib/python3.11/site-packages (from spacy<3.6.0,>=3.5.0->en-core-web-lg==3.5.0) (3.0.12)\n",
      "Requirement already satisfied: spacy-loggers<2.0.0,>=1.0.0 in /Users/Viktoryia.Kisialeuskaya/.pyenv/versions/3.11.0/envs/deploing_ml_models/lib/python3.11/site-packages (from spacy<3.6.0,>=3.5.0->en-core-web-lg==3.5.0) (1.0.4)\n",
      "Requirement already satisfied: murmurhash<1.1.0,>=0.28.0 in /Users/Viktoryia.Kisialeuskaya/.pyenv/versions/3.11.0/envs/deploing_ml_models/lib/python3.11/site-packages (from spacy<3.6.0,>=3.5.0->en-core-web-lg==3.5.0) (1.0.9)\n",
      "Requirement already satisfied: cymem<2.1.0,>=2.0.2 in /Users/Viktoryia.Kisialeuskaya/.pyenv/versions/3.11.0/envs/deploing_ml_models/lib/python3.11/site-packages (from spacy<3.6.0,>=3.5.0->en-core-web-lg==3.5.0) (2.0.7)\n",
      "Requirement already satisfied: preshed<3.1.0,>=3.0.2 in /Users/Viktoryia.Kisialeuskaya/.pyenv/versions/3.11.0/envs/deploing_ml_models/lib/python3.11/site-packages (from spacy<3.6.0,>=3.5.0->en-core-web-lg==3.5.0) (3.0.8)\n",
      "Requirement already satisfied: thinc<8.2.0,>=8.1.8 in /Users/Viktoryia.Kisialeuskaya/.pyenv/versions/3.11.0/envs/deploing_ml_models/lib/python3.11/site-packages (from spacy<3.6.0,>=3.5.0->en-core-web-lg==3.5.0) (8.1.10)\n",
      "Requirement already satisfied: wasabi<1.2.0,>=0.9.1 in /Users/Viktoryia.Kisialeuskaya/.pyenv/versions/3.11.0/envs/deploing_ml_models/lib/python3.11/site-packages (from spacy<3.6.0,>=3.5.0->en-core-web-lg==3.5.0) (1.1.1)\n",
      "Requirement already satisfied: srsly<3.0.0,>=2.4.3 in /Users/Viktoryia.Kisialeuskaya/.pyenv/versions/3.11.0/envs/deploing_ml_models/lib/python3.11/site-packages (from spacy<3.6.0,>=3.5.0->en-core-web-lg==3.5.0) (2.4.6)\n",
      "Requirement already satisfied: catalogue<2.1.0,>=2.0.6 in /Users/Viktoryia.Kisialeuskaya/.pyenv/versions/3.11.0/envs/deploing_ml_models/lib/python3.11/site-packages (from spacy<3.6.0,>=3.5.0->en-core-web-lg==3.5.0) (2.0.8)\n",
      "Requirement already satisfied: typer<0.8.0,>=0.3.0 in /Users/Viktoryia.Kisialeuskaya/.pyenv/versions/3.11.0/envs/deploing_ml_models/lib/python3.11/site-packages (from spacy<3.6.0,>=3.5.0->en-core-web-lg==3.5.0) (0.7.0)\n",
      "Requirement already satisfied: pathy>=0.10.0 in /Users/Viktoryia.Kisialeuskaya/.pyenv/versions/3.11.0/envs/deploing_ml_models/lib/python3.11/site-packages (from spacy<3.6.0,>=3.5.0->en-core-web-lg==3.5.0) (0.10.1)\n",
      "Requirement already satisfied: smart-open<7.0.0,>=5.2.1 in /Users/Viktoryia.Kisialeuskaya/.pyenv/versions/3.11.0/envs/deploing_ml_models/lib/python3.11/site-packages (from spacy<3.6.0,>=3.5.0->en-core-web-lg==3.5.0) (6.3.0)\n",
      "Requirement already satisfied: tqdm<5.0.0,>=4.38.0 in /Users/Viktoryia.Kisialeuskaya/.pyenv/versions/3.11.0/envs/deploing_ml_models/lib/python3.11/site-packages (from spacy<3.6.0,>=3.5.0->en-core-web-lg==3.5.0) (4.65.0)\n",
      "Requirement already satisfied: numpy>=1.15.0 in /Users/Viktoryia.Kisialeuskaya/.pyenv/versions/3.11.0/envs/deploing_ml_models/lib/python3.11/site-packages (from spacy<3.6.0,>=3.5.0->en-core-web-lg==3.5.0) (1.24.3)\n",
      "Requirement already satisfied: requests<3.0.0,>=2.13.0 in /Users/Viktoryia.Kisialeuskaya/.pyenv/versions/3.11.0/envs/deploing_ml_models/lib/python3.11/site-packages (from spacy<3.6.0,>=3.5.0->en-core-web-lg==3.5.0) (2.30.0)\n",
      "Requirement already satisfied: pydantic!=1.8,!=1.8.1,<1.11.0,>=1.7.4 in /Users/Viktoryia.Kisialeuskaya/.pyenv/versions/3.11.0/envs/deploing_ml_models/lib/python3.11/site-packages (from spacy<3.6.0,>=3.5.0->en-core-web-lg==3.5.0) (1.10.7)\n",
      "Requirement already satisfied: jinja2 in /Users/Viktoryia.Kisialeuskaya/.pyenv/versions/3.11.0/envs/deploing_ml_models/lib/python3.11/site-packages (from spacy<3.6.0,>=3.5.0->en-core-web-lg==3.5.0) (3.1.2)\n",
      "Requirement already satisfied: setuptools in /Users/Viktoryia.Kisialeuskaya/.pyenv/versions/3.11.0/envs/deploing_ml_models/lib/python3.11/site-packages (from spacy<3.6.0,>=3.5.0->en-core-web-lg==3.5.0) (67.7.2)\n",
      "Requirement already satisfied: packaging>=20.0 in /Users/Viktoryia.Kisialeuskaya/.pyenv/versions/3.11.0/envs/deploing_ml_models/lib/python3.11/site-packages (from spacy<3.6.0,>=3.5.0->en-core-web-lg==3.5.0) (23.1)\n",
      "Requirement already satisfied: langcodes<4.0.0,>=3.2.0 in /Users/Viktoryia.Kisialeuskaya/.pyenv/versions/3.11.0/envs/deploing_ml_models/lib/python3.11/site-packages (from spacy<3.6.0,>=3.5.0->en-core-web-lg==3.5.0) (3.3.0)\n",
      "Requirement already satisfied: typing-extensions>=4.2.0 in /Users/Viktoryia.Kisialeuskaya/.pyenv/versions/3.11.0/envs/deploing_ml_models/lib/python3.11/site-packages (from pydantic!=1.8,!=1.8.1,<1.11.0,>=1.7.4->spacy<3.6.0,>=3.5.0->en-core-web-lg==3.5.0) (4.5.0)\n",
      "Requirement already satisfied: charset-normalizer<4,>=2 in /Users/Viktoryia.Kisialeuskaya/.pyenv/versions/3.11.0/envs/deploing_ml_models/lib/python3.11/site-packages (from requests<3.0.0,>=2.13.0->spacy<3.6.0,>=3.5.0->en-core-web-lg==3.5.0) (3.1.0)\n",
      "Requirement already satisfied: idna<4,>=2.5 in /Users/Viktoryia.Kisialeuskaya/.pyenv/versions/3.11.0/envs/deploing_ml_models/lib/python3.11/site-packages (from requests<3.0.0,>=2.13.0->spacy<3.6.0,>=3.5.0->en-core-web-lg==3.5.0) (3.4)\n",
      "Requirement already satisfied: urllib3<3,>=1.21.1 in /Users/Viktoryia.Kisialeuskaya/.pyenv/versions/3.11.0/envs/deploing_ml_models/lib/python3.11/site-packages (from requests<3.0.0,>=2.13.0->spacy<3.6.0,>=3.5.0->en-core-web-lg==3.5.0) (1.26.15)\n",
      "Requirement already satisfied: certifi>=2017.4.17 in /Users/Viktoryia.Kisialeuskaya/.pyenv/versions/3.11.0/envs/deploing_ml_models/lib/python3.11/site-packages (from requests<3.0.0,>=2.13.0->spacy<3.6.0,>=3.5.0->en-core-web-lg==3.5.0) (2023.5.7)\n",
      "Requirement already satisfied: blis<0.8.0,>=0.7.8 in /Users/Viktoryia.Kisialeuskaya/.pyenv/versions/3.11.0/envs/deploing_ml_models/lib/python3.11/site-packages (from thinc<8.2.0,>=8.1.8->spacy<3.6.0,>=3.5.0->en-core-web-lg==3.5.0) (0.7.9)\n",
      "Requirement already satisfied: confection<1.0.0,>=0.0.1 in /Users/Viktoryia.Kisialeuskaya/.pyenv/versions/3.11.0/envs/deploing_ml_models/lib/python3.11/site-packages (from thinc<8.2.0,>=8.1.8->spacy<3.6.0,>=3.5.0->en-core-web-lg==3.5.0) (0.0.4)\n",
      "Requirement already satisfied: click<9.0.0,>=7.1.1 in /Users/Viktoryia.Kisialeuskaya/.pyenv/versions/3.11.0/envs/deploing_ml_models/lib/python3.11/site-packages (from typer<0.8.0,>=0.3.0->spacy<3.6.0,>=3.5.0->en-core-web-lg==3.5.0) (8.1.3)\n",
      "Requirement already satisfied: MarkupSafe>=2.0 in /Users/Viktoryia.Kisialeuskaya/.pyenv/versions/3.11.0/envs/deploing_ml_models/lib/python3.11/site-packages (from jinja2->spacy<3.6.0,>=3.5.0->en-core-web-lg==3.5.0) (2.1.2)\n",
      "\u001b[38;5;2m✔ Download and installation successful\u001b[0m\n",
      "You can now load the package via spacy.load('en_core_web_lg')\n"
     ]
    }
   ],
   "source": [
    "spacy.cli.download(\"en_core_web_lg\")\n",
    "nlp = spacy.load(\"en_core_web_lg\")\n",
    "# nlp = spacy.load(\"en_core_web_sm\")"
   ]
  },
  {
   "cell_type": "code",
   "execution_count": 3,
   "metadata": {},
   "outputs": [],
   "source": [
    "logging.getLogger().setLevel(logging.INFO)\n",
    "# logging.info(f\"\\033[033m***TEST***: {data.shape=}\\033[0m\") "
   ]
  },
  {
   "cell_type": "code",
   "execution_count": 4,
   "metadata": {},
   "outputs": [
    {
     "name": "stderr",
     "output_type": "stream",
     "text": [
      "INFO:root:\u001b[36m raw_data.shape=(5028, 17)\u001b[0m\n"
     ]
    },
    {
     "data": {
      "text/html": [
       "<div>\n",
       "<style scoped>\n",
       "    .dataframe tbody tr th:only-of-type {\n",
       "        vertical-align: middle;\n",
       "    }\n",
       "\n",
       "    .dataframe tbody tr th {\n",
       "        vertical-align: top;\n",
       "    }\n",
       "\n",
       "    .dataframe thead th {\n",
       "        text-align: right;\n",
       "    }\n",
       "</style>\n",
       "<table border=\"1\" class=\"dataframe\">\n",
       "  <thead>\n",
       "    <tr style=\"text-align: right;\">\n",
       "      <th></th>\n",
       "      <th>Date</th>\n",
       "      <th>Time:</th>\n",
       "      <th>Location:</th>\n",
       "      <th>AC        Type:</th>\n",
       "      <th>Operator:</th>\n",
       "      <th>Route:</th>\n",
       "      <th>cn / ln:</th>\n",
       "      <th>Flight #:</th>\n",
       "      <th>Is_military</th>\n",
       "      <th>Military country</th>\n",
       "      <th>Aboard_all</th>\n",
       "      <th>Aboard_passengers</th>\n",
       "      <th>Fatalities_all</th>\n",
       "      <th>Fatalities_passengers</th>\n",
       "      <th>Ground:</th>\n",
       "      <th>Registration:</th>\n",
       "      <th>Summary:</th>\n",
       "    </tr>\n",
       "  </thead>\n",
       "  <tbody>\n",
       "    <tr>\n",
       "      <th>0</th>\n",
       "      <td>18.03.1946</td>\n",
       "      <td>NaN</td>\n",
       "      <td>Between Chungking and Shanghai, China</td>\n",
       "      <td>NaN</td>\n",
       "      <td>China National Aviation Corporation</td>\n",
       "      <td>Chunking - Shanghai</td>\n",
       "      <td>NaN</td>\n",
       "      <td>NaN</td>\n",
       "      <td>No</td>\n",
       "      <td>NaN</td>\n",
       "      <td>?</td>\n",
       "      <td>?</td>\n",
       "      <td>?</td>\n",
       "      <td>?</td>\n",
       "      <td>NaN</td>\n",
       "      <td>139</td>\n",
       "      <td>Disappeared while en route. Plane never located.</td>\n",
       "    </tr>\n",
       "    <tr>\n",
       "      <th>1</th>\n",
       "      <td>09.11.1944</td>\n",
       "      <td>NaN</td>\n",
       "      <td>Seljord, Norway</td>\n",
       "      <td>NaN</td>\n",
       "      <td>Military - U.S. Army Air Corps</td>\n",
       "      <td>NaN</td>\n",
       "      <td>NaN</td>\n",
       "      <td>NaN</td>\n",
       "      <td>Yes</td>\n",
       "      <td>U.S. Army Air Corps</td>\n",
       "      <td>?</td>\n",
       "      <td>?</td>\n",
       "      <td>?</td>\n",
       "      <td>?</td>\n",
       "      <td>NaN</td>\n",
       "      <td>42-52196</td>\n",
       "      <td>NaN</td>\n",
       "    </tr>\n",
       "    <tr>\n",
       "      <th>2</th>\n",
       "      <td>09.05.1989</td>\n",
       "      <td>NaN</td>\n",
       "      <td>Near Tainjin, China</td>\n",
       "      <td>Bell 412</td>\n",
       "      <td>Aero Asahi</td>\n",
       "      <td>NaN</td>\n",
       "      <td>33070</td>\n",
       "      <td>NaN</td>\n",
       "      <td>No</td>\n",
       "      <td>NaN</td>\n",
       "      <td>?</td>\n",
       "      <td>?</td>\n",
       "      <td>10</td>\n",
       "      <td>?</td>\n",
       "      <td>0.0000</td>\n",
       "      <td>JA9596</td>\n",
       "      <td>NaN</td>\n",
       "    </tr>\n",
       "    <tr>\n",
       "      <th>3</th>\n",
       "      <td>20.02.1992</td>\n",
       "      <td>NaN</td>\n",
       "      <td>En route from Argentina  to  California</td>\n",
       "      <td>Boeing B-747</td>\n",
       "      <td>Aerolineas Argentinas</td>\n",
       "      <td>NaN</td>\n",
       "      <td>NaN</td>\n",
       "      <td>386</td>\n",
       "      <td>No</td>\n",
       "      <td>NaN</td>\n",
       "      <td>?</td>\n",
       "      <td>?</td>\n",
       "      <td>1</td>\n",
       "      <td>?</td>\n",
       "      <td>0.0000</td>\n",
       "      <td>NaN</td>\n",
       "      <td>A passenger died of cholera while en route.</td>\n",
       "    </tr>\n",
       "    <tr>\n",
       "      <th>4</th>\n",
       "      <td>13.03.1954</td>\n",
       "      <td>NaN</td>\n",
       "      <td>Dien Bien Phu, South Vietnam</td>\n",
       "      <td>C-46</td>\n",
       "      <td>Aigle Azur</td>\n",
       "      <td>NaN</td>\n",
       "      <td>NaN</td>\n",
       "      <td>NaN</td>\n",
       "      <td>No</td>\n",
       "      <td>NaN</td>\n",
       "      <td>?</td>\n",
       "      <td>?</td>\n",
       "      <td>?</td>\n",
       "      <td>?</td>\n",
       "      <td>NaN</td>\n",
       "      <td>NaN</td>\n",
       "      <td>Shot down.</td>\n",
       "    </tr>\n",
       "  </tbody>\n",
       "</table>\n",
       "</div>"
      ],
      "text/plain": [
       "         Date Time:                                Location: AC        Type:   \n",
       "0  18.03.1946   NaN    Between Chungking and Shanghai, China             NaN  \\\n",
       "1  09.11.1944   NaN                          Seljord, Norway             NaN   \n",
       "2  09.05.1989   NaN                      Near Tainjin, China        Bell 412   \n",
       "3  20.02.1992   NaN  En route from Argentina  to  California    Boeing B-747   \n",
       "4  13.03.1954   NaN             Dien Bien Phu, South Vietnam            C-46   \n",
       "\n",
       "                             Operator:               Route: cn / ln:   \n",
       "0  China National Aviation Corporation  Chunking - Shanghai      NaN  \\\n",
       "1       Military - U.S. Army Air Corps                  NaN      NaN   \n",
       "2                           Aero Asahi                  NaN    33070   \n",
       "3                Aerolineas Argentinas                  NaN      NaN   \n",
       "4                           Aigle Azur                  NaN      NaN   \n",
       "\n",
       "  Flight #: Is_military      Military country Aboard_all Aboard_passengers   \n",
       "0       NaN          No                   NaN          ?                 ?  \\\n",
       "1       NaN         Yes   U.S. Army Air Corps          ?                 ?   \n",
       "2       NaN          No                   NaN          ?                 ?   \n",
       "3       386          No                   NaN          ?                 ?   \n",
       "4       NaN          No                   NaN          ?                 ?   \n",
       "\n",
       "  Fatalities_all Fatalities_passengers  Ground: Registration:   \n",
       "0              ?                     ?      NaN           139  \\\n",
       "1              ?                     ?      NaN      42-52196   \n",
       "2             10                     ?   0.0000        JA9596   \n",
       "3              1                     ?   0.0000           NaN   \n",
       "4              ?                     ?      NaN           NaN   \n",
       "\n",
       "                                           Summary:  \n",
       "0  Disappeared while en route. Plane never located.  \n",
       "1                                               NaN  \n",
       "2                                               NaN  \n",
       "3       A passenger died of cholera while en route.  \n",
       "4                                        Shot down.  "
      ]
     },
     "execution_count": 4,
     "metadata": {},
     "output_type": "execute_result"
    }
   ],
   "source": [
    "# load dataset\n",
    "raw_data = pd.read_csv(\"data/raw_data.csv\", sep=\";\")\n",
    "\n",
    "# rows and columns of the data\n",
    "logging.info(f\"\\033[36m {raw_data.shape=}\\033[0m\")\n",
    "\n",
    "# visualise the dataset\n",
    "raw_data.head()"
   ]
  },
  {
   "cell_type": "code",
   "execution_count": 5,
   "metadata": {},
   "outputs": [
    {
     "name": "stdout",
     "output_type": "stream",
     "text": [
      "<class 'pandas.core.frame.DataFrame'>\n",
      "RangeIndex: 5028 entries, 0 to 5027\n",
      "Data columns (total 17 columns):\n",
      " #   Column                 Non-Null Count  Dtype  \n",
      "---  ------                 --------------  -----  \n",
      " 0   Date                   5028 non-null   object \n",
      " 1   Time:                  3482 non-null   object \n",
      " 2   Location:              5023 non-null   object \n",
      " 3   AC        Type:        5014 non-null   object \n",
      " 4   Operator:              5018 non-null   object \n",
      " 5   Route:                 4264 non-null   object \n",
      " 6   cn / ln:               4358 non-null   object \n",
      " 7   Flight #:              1338 non-null   object \n",
      " 8   Is_military            5018 non-null   object \n",
      " 9   Military country       766 non-null    object \n",
      " 10  Aboard_all             5028 non-null   object \n",
      " 11  Aboard_passengers      5028 non-null   object \n",
      " 12  Fatalities_all         5028 non-null   object \n",
      " 13  Fatalities_passengers  5028 non-null   object \n",
      " 14  Ground:                4984 non-null   float64\n",
      " 15  Registration:          4753 non-null   object \n",
      " 16  Summary:               4969 non-null   object \n",
      "dtypes: float64(1), object(16)\n",
      "memory usage: 667.9+ KB\n"
     ]
    }
   ],
   "source": [
    "raw_data.info()"
   ]
  },
  {
   "cell_type": "code",
   "execution_count": 39,
   "metadata": {},
   "outputs": [],
   "source": [
    "# make a copy of original data to work with\n",
    "data = raw_data.copy()"
   ]
  },
  {
   "cell_type": "code",
   "execution_count": 40,
   "metadata": {},
   "outputs": [
    {
     "name": "stderr",
     "output_type": "stream",
     "text": [
      "INFO:root:\u001b[36m data.columns=Index(['Date', 'Time', 'Location', 'AC_Type', 'Operator', 'Route', 'cn_ln',\n",
      "       'Flight_#', 'Is_military', 'Military_country', 'Aboard_all',\n",
      "       'Aboard_passengers', 'Fatalities_all', 'Fatalities_passengers',\n",
      "       'Ground', 'Registration', 'Summary'],\n",
      "      dtype='object')\u001b[0m\n"
     ]
    }
   ],
   "source": [
    "# rename columns\n",
    "multiple_white_spaces = re.compile(r\"\\s+\")\n",
    "data.columns = [multiple_white_spaces.sub(\"_\", _) for _ in (re.sub(r\"[:/]\", \"\", c) for c in data.columns)]\n",
    "\n",
    "logging.info(f\"\\033[36m {data.columns=}\\033[0m\")"
   ]
  },
  {
   "cell_type": "markdown",
   "metadata": {},
   "source": [
    "# Data schemas"
   ]
  },
  {
   "cell_type": "code",
   "execution_count": 8,
   "metadata": {},
   "outputs": [],
   "source": [
    "class DataSchemaValidation(BaseModel):\n",
    "    date: date_ = Field(alias=\"Date\")\n",
    "    time: time_ = Field(alias=\"Time\")\n",
    "    location: str = Field(alias=\"Location\")\n",
    "    ac_type: str = Field(alias=\"AC_Type\")\n",
    "    operator: str = Field(alias=\"Operator\")\n",
    "    route: str = Field(alias=\"Route\")\n",
    "    cn_ln: str = Field(alias=\"cn_ln\")\n",
    "    flight_n: str = Field(alias=\"Flight_#\")\n",
    "    is_military: str = Field(alias=\"Is_military\")\n",
    "    mlitary_country: str = Field(alias=\"Military_country\")\n",
    "    aboard_all: int = Field(alias=\"Aboard_all\")\n",
    "    aboard_passengers: int = Field(alias=\"Aboard_passengers\")\n",
    "    fatalities_all: int = Field(alias=\"Fatalities_all\")\n",
    "    fatalities_passengers: int = Field(alias=\"Fatalities_passengers\")\n",
    "    ground: int = Field(alias=\"Ground\")\n",
    "    registration: str = Field(alias=\"Registration\")\n",
    "    summary: str = Field(alias=\"Summary\")\n",
    "    year: Optional[int] = Field(alias=\"Year\")\n",
    "    month: Optional[int] = Field(alias=\"Month\")\n",
    "    hour: Optional[int] = Field(alias=\"Hour\")\n",
    "    routes_n: Optional[int] = Field(alias=\"Routes_#\")\n",
    "    vector: Optional[list] = Field(alias=\"Vector\")\n",
    "    fatalities: Optional[int] = Field(alias=\"Fatalities\")\n",
    "    survived: Optional[int] = Field(alias=\"Survived\")\n",
    "    survived_pct: Optional[float] = Field(alias=\"Survived_pct\")\n",
    "\n",
    "\n",
    "class DataSchema:\n",
    "    date = \"Date\"\n",
    "    time = \"Time\"\n",
    "    location = \"Location\"\n",
    "    ac_type = \"AC_Type\"\n",
    "    operator = \"Operator\"\n",
    "    route = \"Route\"\n",
    "    cn_ln = \"cn_ln\"\n",
    "    flight_n = \"Flight_#\"\n",
    "    is_military = \"Is_military\"\n",
    "    mlitary_country = \"Military_country\"\n",
    "    aboard_all = \"Aboard_all\"\n",
    "    aboard_passengers = \"Aboard_passengers\"\n",
    "    fatalities_all = \"Fatalities_all\"\n",
    "    fatalities_passengers = \"Fatalities_passengers\"\n",
    "    ground = \"Ground\"\n",
    "    registration = \"Registration\"\n",
    "    summary = \"Summary\"\n",
    "    year = \"Year\"\n",
    "    month = \"Month\"\n",
    "    hour = \"Hour\"\n",
    "    routes_n = \"Routes_#\"\n",
    "    vector = \"Vector\"\n",
    "    fatalities = \"Fatalities\"\n",
    "    survived = \"Survived\"\n",
    "    survived_pct = \"Survived_pct\""
   ]
  },
  {
   "cell_type": "markdown",
   "metadata": {},
   "source": [
    "## Missing values/ Unique values"
   ]
  },
  {
   "cell_type": "code",
   "execution_count": 41,
   "metadata": {},
   "outputs": [],
   "source": [
    "# list of columns to drop after EDA\n",
    "redundant_columns = []\n",
    "\n",
    "# replace missing values in form of \"?\"\n",
    "data = data.replace(\"?\", np.nan)"
   ]
  },
  {
   "cell_type": "code",
   "execution_count": 80,
   "metadata": {},
   "outputs": [],
   "source": [
    "def get_pct_missing_and_unique(col: str) -> None:\n",
    "    logging.info(f\"\\033[35m{col} field has {data[col].isna().sum()/data.shape[0]:.2%} missing values\\033[0m\")\n",
    "    logging.info(f\"\\033[32m{col} field has {data[col].nunique()/data.shape[0]:.2%} unique values\\033[0m\")"
   ]
  },
  {
   "cell_type": "code",
   "execution_count": 81,
   "metadata": {},
   "outputs": [
    {
     "name": "stderr",
     "output_type": "stream",
     "text": [
      "INFO:root:\u001b[35mDate field has 0.00% missing values\u001b[0m\n",
      "INFO:root:\u001b[32mDate field has 91.47% unique values\u001b[0m\n",
      "INFO:root:\u001b[35mTime field has 29.99% missing values\u001b[0m\n",
      "INFO:root:\u001b[32mTime field has 21.41% unique values\u001b[0m\n",
      "INFO:root:\u001b[35mLocation field has 0.10% missing values\u001b[0m\n",
      "INFO:root:\u001b[32mLocation field has 82.29% unique values\u001b[0m\n",
      "INFO:root:\u001b[35mAC_Type field has 0.22% missing values\u001b[0m\n",
      "INFO:root:\u001b[32mAC_Type field has 48.38% unique values\u001b[0m\n",
      "INFO:root:\u001b[35mOperator field has 0.18% missing values\u001b[0m\n",
      "INFO:root:\u001b[32mOperator field has 45.26% unique values\u001b[0m\n",
      "INFO:root:\u001b[35mRoute field has 14.41% missing values\u001b[0m\n",
      "INFO:root:\u001b[32mRoute field has 77.26% unique values\u001b[0m\n",
      "INFO:root:\u001b[35mcn_ln field has 12.80% missing values\u001b[0m\n",
      "INFO:root:\u001b[32mcn_ln field has 78.57% unique values\u001b[0m\n",
      "INFO:root:\u001b[35mFlight_# field has 73.07% missing values\u001b[0m\n",
      "INFO:root:\u001b[32mFlight_# field has 18.17% unique values\u001b[0m\n",
      "INFO:root:\u001b[35mIs_military field has 0.18% missing values\u001b[0m\n",
      "INFO:root:\u001b[32mIs_military field has 0.04% unique values\u001b[0m\n",
      "INFO:root:\u001b[35mMilitary_country field has 84.89% missing values\u001b[0m\n",
      "INFO:root:\u001b[32mMilitary_country field has 4.25% unique values\u001b[0m\n",
      "INFO:root:\u001b[35mAboard_all field has 0.18% missing values\u001b[0m\n",
      "INFO:root:\u001b[32mAboard_all field has 4.91% unique values\u001b[0m\n",
      "INFO:root:\u001b[35mAboard_passengers field has 3.78% missing values\u001b[0m\n",
      "INFO:root:\u001b[32mAboard_passengers field has 4.71% unique values\u001b[0m\n",
      "INFO:root:\u001b[35mFatalities_all field has 0.08% missing values\u001b[0m\n",
      "INFO:root:\u001b[32mFatalities_all field has 4.00% unique values\u001b[0m\n",
      "INFO:root:\u001b[35mFatalities_passengers field has 4.05% missing values\u001b[0m\n",
      "INFO:root:\u001b[32mFatalities_passengers field has 3.82% unique values\u001b[0m\n",
      "INFO:root:\u001b[35mGround field has 0.74% missing values\u001b[0m\n",
      "INFO:root:\u001b[32mGround field has 1.01% unique values\u001b[0m\n",
      "INFO:root:\u001b[35mRegistration field has 5.15% missing values\u001b[0m\n",
      "INFO:root:\u001b[32mRegistration field has 94.16% unique values\u001b[0m\n",
      "INFO:root:\u001b[35mSummary field has 0.00% missing values\u001b[0m\n",
      "INFO:root:\u001b[32mSummary field has 98.11% unique values\u001b[0m\n"
     ]
    }
   ],
   "source": [
    "for col in data.columns:\n",
    "    get_pct_missing_and_unique(col)"
   ]
  },
  {
   "cell_type": "code",
   "execution_count": 43,
   "metadata": {},
   "outputs": [],
   "source": [
    "# plot columns in discending order of percent unique for columns with more then 1 unique values\n",
    "def plot_pct_unique(data: DataFrame) -> None:\n",
    "    df = data.copy()\n",
    "    # make a list of the variables that contain unique values\n",
    "    vars_with_unique = [var for var in df.columns if df[var].nunique()/data.shape[0] > 0]\n",
    "\n",
    "    # determine percentage of unique values (expressed as decimals)\n",
    "    # and display the result ordered by % of unique data\n",
    "    table = df[vars_with_unique].nunique().sort_values(ascending=False)/df.shape[0]\n",
    "    print(table)\n",
    "    \n",
    "    # plot\n",
    "    table.plot.bar(figsize=(10, 4))\n",
    "    plt.ylabel('Percentage of unique data')\n",
    "    plt.axhline(y=0.80, color='r', linestyle='-')\n",
    "    plt.axhline(y=0.15, color='g', linestyle='-')\n",
    "\n",
    "    plt.show()\n",
    "\n",
    "\n",
    "# plot columns with missing values in discending order of percent missing\n",
    "def plot_pct_missing(data: DataFrame) -> None:\n",
    "    df = data.copy()\n",
    "    # make a list of the variables that contain missing values\n",
    "    vars_with_na = [var for var in df.columns if df[var].isnull().sum() > 0]\n",
    "\n",
    "    # determine percentage of missing values (expressed as decimals)\n",
    "    # and display the result ordered by % of missin data\n",
    "    print(df[vars_with_na].isnull().mean().sort_values(ascending=False))\n",
    "    \n",
    "    # plot\n",
    "    df[vars_with_na].isnull().mean().sort_values(\n",
    "        ascending=False).plot.bar(figsize=(10, 4))\n",
    "    plt.ylabel('Percentage of missing data')\n",
    "    plt.axhline(y=0.80, color='r', linestyle='-')\n",
    "    plt.axhline(y=0.15, color='g', linestyle='-')\n",
    "\n",
    "    plt.show()"
   ]
  },
  {
   "cell_type": "code",
   "execution_count": 44,
   "metadata": {},
   "outputs": [
    {
     "name": "stdout",
     "output_type": "stream",
     "text": [
      "Military_country        0.8477\n",
      "Flight_#                0.7339\n",
      "Time                    0.3075\n",
      "Route                   0.1519\n",
      "cn_ln                   0.1333\n",
      "Registration            0.0547\n",
      "Fatalities_passengers   0.0467\n",
      "Aboard_passengers       0.0440\n",
      "Summary                 0.0117\n",
      "Ground                  0.0088\n",
      "Aboard_all              0.0034\n",
      "AC_Type                 0.0028\n",
      "Operator                0.0020\n",
      "Is_military             0.0020\n",
      "Fatalities_all          0.0016\n",
      "Location                0.0010\n",
      "dtype: float64\n"
     ]
    },
    {
     "data": {
      "image/png": "[encoded data removed]",
      "text/plain": [
       "<Figure size 1000x400 with 1 Axes>"
      ]
     },
     "metadata": {},
     "output_type": "display_data"
    }
   ],
   "source": [
    "plot_pct_missing(data)"
   ]
  },
  {
   "cell_type": "code",
   "execution_count": 45,
   "metadata": {},
   "outputs": [
    {
     "name": "stdout",
     "output_type": "stream",
     "text": [
      "Summary                 0.9696\n",
      "Registration            0.9381\n",
      "Date                    0.9141\n",
      "Location                0.8230\n",
      "cn_ln                   0.7802\n",
      "Route                   0.7655\n",
      "AC_Type                 0.4819\n",
      "Operator                0.4507\n",
      "Time                    0.2116\n",
      "Flight_#                0.1796\n",
      "Aboard_all              0.0485\n",
      "Aboard_passengers       0.0465\n",
      "Military_country        0.0426\n",
      "Fatalities_all          0.0396\n",
      "Fatalities_passengers   0.0378\n",
      "Ground                  0.0099\n",
      "Is_military             0.0004\n",
      "dtype: float64\n"
     ]
    },
    {
     "data": {
      "image/png": "[encoded data removed]",
      "text/plain": [
       "<Figure size 1000x400 with 1 Axes>"
      ]
     },
     "metadata": {},
     "output_type": "display_data"
    }
   ],
   "source": [
    "plot_pct_unique(data)"
   ]
  },
  {
   "cell_type": "code",
   "execution_count": 46,
   "metadata": {},
   "outputs": [],
   "source": [
    "redundant_columns.extend([DataSchema.mlitary_country, DataSchema.flight_n, DataSchema.time])"
   ]
  },
  {
   "cell_type": "markdown",
   "metadata": {},
   "source": [
    "# Drop samples that has missing values in columns"
   ]
  },
  {
   "cell_type": "code",
   "execution_count": 85,
   "metadata": {},
   "outputs": [
    {
     "name": "stderr",
     "output_type": "stream",
     "text": [
      "INFO:root:\u001b[36mraw_data.shape=(5028, 17)\n",
      "          test.shape=(3833, 17)\u001b[0m\n",
      "INFO:root:\u001b[35mtest dataset reduced by 23.77% dropping samples w/ nan in columns w/ mssings values under 15%\u001b[0m\n",
      "INFO:root:\u001b[36mraw_data.shape=(5028, 17)\n",
      "          test.shape=(4723, 17)\u001b[0m\n",
      "INFO:root:\u001b[35mtest dataset reduced by 6.07% dropping samples w/ nan in columns w/ mssings values under 5%\u001b[0m\n",
      "INFO:root:\u001b[36mraw_data.shape=(5028, 17)\n",
      "          data.shape=(4969, 17)\u001b[0m\n",
      "INFO:root:\u001b[32mdataset reduced by 1.17% dropping samples with missing summary\u001b[0m\n"
     ]
    }
   ],
   "source": [
    "test = data.copy()\n",
    "vars_with_na = [var for var in data.columns if data[var].isnull().sum()/data.shape[0] < 0.15]\n",
    "test.dropna(subset=vars_with_na, inplace=True)\n",
    "logging.info(f\"\\033[36m{raw_data.shape=}\\n{' '*10}{test.shape=}\\033[0m\")\n",
    "logging.info(f\"\\033[35mtest dataset reduced by {1-test.shape[0]/raw_data.shape[0]:.2%} dropping samples w/ nan in columns w/ mssings values under 15%\\033[0m\")\n",
    "test = data.copy()\n",
    "vars_with_na = [var for var in data.columns if data[var].isnull().sum()/data.shape[0] < 0.05]\n",
    "test.dropna(subset=vars_with_na, inplace=True)\n",
    "logging.info(f\"\\033[36m{raw_data.shape=}\\n{' '*10}{test.shape=}\\033[0m\")\n",
    "logging.info(f\"\\033[35mtest dataset reduced by {1-test.shape[0]/raw_data.shape[0]:.2%} dropping samples w/ nan in columns w/ mssings values under 5%\\033[0m\")\n",
    "\n",
    "data.dropna(subset=[DataSchema.summary], inplace=True)\n",
    "logging.info(f\"\\033[36m{raw_data.shape=}\\n{' '*10}{data.shape=}\\033[0m\")\n",
    "logging.info(f\"\\033[32mdataset reduced by {1-data.shape[0]/raw_data.shape[0]:.2%} dropping samples with missing summary\\033[0m\")"
   ]
  },
  {
   "cell_type": "markdown",
   "metadata": {},
   "source": [
    "# Route"
   ]
  },
  {
   "cell_type": "code",
   "execution_count": 24,
   "metadata": {},
   "outputs": [
    {
     "data": {
      "text/plain": [
       "4830          Birmingham, England - Malaga, Spain\n",
       "4094    Mexico City - New Orleans - New York City\n",
       "3249                           Ban Xon - Pha Khao\n",
       "207                                      Training\n",
       "4117                           Kinshasa - Kahemba\n",
       "Name: Route, dtype: object"
      ]
     },
     "execution_count": 24,
     "metadata": {},
     "output_type": "execute_result"
    }
   ],
   "source": [
    "data[DataSchema.route].sample(5)"
   ]
  },
  {
   "cell_type": "code",
   "execution_count": 25,
   "metadata": {},
   "outputs": [],
   "source": [
    "# get number of routes(airports)\n",
    "def get_multiple_locations(text: str) -> Union[None, str]:    \n",
    "    if text is np.nan:\n",
    "        return text\n",
    "    route = text.split(\" - \")    \n",
    "    for point in route:\n",
    "        doc = nlp(point)\n",
    "        for ent in doc.ents:\n",
    "            if ent.label_==\"GPE\":\n",
    "                point = ent.text\n",
    "    flatten = list(itertools.chain(*[[j] if isinstance(j, str) else j for j in [i.split(\", \") for i in route]]))\n",
    "    return flatten"
   ]
  },
  {
   "cell_type": "code",
   "execution_count": 26,
   "metadata": {},
   "outputs": [
    {
     "name": "stdout",
     "output_type": "stream",
     "text": [
      "['Sukhumi', 'Kutaisi']\n",
      "['Test flight']\n",
      "nan\n",
      "['Bombing run']\n",
      "['Boston', 'NY', 'Washington DC', 'Jacksonville', 'Miami']\n",
      "['Lima', 'Pucallpa', 'Iquitos']\n"
     ]
    }
   ],
   "source": [
    "# TEST\n",
    "routes = [\n",
    "    \"Sukhumi - Kutaisi\", \"Test flight\", np.nan, \"Bombing run\", \n",
    "    \"Boston - NY - Washington DC - Jacksonville - Miami\", \"Lima - Pucallpa - Iquitos\"]\n",
    "for _ in routes:\n",
    "    x = get_multiple_locations(_)\n",
    "    print(x)"
   ]
  },
  {
   "cell_type": "code",
   "execution_count": 27,
   "metadata": {},
   "outputs": [],
   "source": [
    "# replace Route free text value with list of destinations per flight\n",
    "data[DataSchema.route] = data[DataSchema.route].apply(lambda x: get_multiple_locations(x))"
   ]
  },
  {
   "cell_type": "code",
   "execution_count": 28,
   "metadata": {},
   "outputs": [],
   "source": [
    "# create new column derived from Route and represented number of routes per flight\n",
    "data[DataSchema.routes_n] = data[DataSchema.route].apply(lambda x: 0 if x is np.nan else len(x))"
   ]
  },
  {
   "cell_type": "code",
   "execution_count": 29,
   "metadata": {},
   "outputs": [
    {
     "data": {
      "text/plain": [
       "Routes_#\n",
       "2    2913\n",
       "0     764\n",
       "4     452\n",
       "3     442\n",
       "1     371\n",
       "5      59\n",
       "6      26\n",
       "7       1\n",
       "Name: count, dtype: int64"
      ]
     },
     "execution_count": 29,
     "metadata": {},
     "output_type": "execute_result"
    }
   ],
   "source": [
    "data[DataSchema.routes_n].value_counts()"
   ]
  },
  {
   "cell_type": "code",
   "execution_count": 30,
   "metadata": {},
   "outputs": [],
   "source": [
    "redundant_columns.append(DataSchema.route)"
   ]
  },
  {
   "cell_type": "markdown",
   "metadata": {},
   "source": [
    "## Date: extract year and month"
   ]
  },
  {
   "cell_type": "code",
   "execution_count": 33,
   "metadata": {},
   "outputs": [],
   "source": [
    "# extract year and month from date into separate columns\n",
    "data[DataSchema.year] = pd.to_datetime(data[DataSchema.date]).dt.year\n",
    "data[DataSchema.month] = pd.to_datetime(data[DataSchema.date]).dt.month\n",
    "redundant_columns.append(DataSchema.date)"
   ]
  },
  {
   "cell_type": "code",
   "execution_count": null,
   "metadata": {},
   "outputs": [],
   "source": [
    "# TODO\n",
    "break"
   ]
  },
  {
   "cell_type": "markdown",
   "metadata": {},
   "source": [
    "## Location: extract state"
   ]
  },
  {
   "cell_type": "code",
   "execution_count": 83,
   "metadata": {},
   "outputs": [
    {
     "data": {
      "text/plain": [
       "0                   Between Chungking and Shanghai, China\n",
       "3                 En route from Argentina  to  California\n",
       "4                            Dien Bien Phu, South Vietnam\n",
       "6                                          Kunming, China\n",
       "8                                     Over North Carolina\n",
       "                              ...                        \n",
       "5023                          Ras-al-Mishab, Saudi Arabia\n",
       "5024                               Near Ardmore, Oklahoma\n",
       "5025                                   Almaty, Kazakhstan\n",
       "5026                                    Karachi, Pakistan\n",
       "5027    North Atlantic Ocean, 100 miles W of Galway Ba...\n",
       "Name: Location, Length: 4969, dtype: object"
      ]
     },
     "execution_count": 83,
     "metadata": {},
     "output_type": "execute_result"
    }
   ],
   "source": [
    "data[DataSchema.location]"
   ]
  },
  {
   "cell_type": "code",
   "execution_count": 82,
   "metadata": {},
   "outputs": [],
   "source": [
    "def get_locations(text: str) -> Union[None, str]:    \n",
    "    if text is np.nan:\n",
    "        return text\n",
    "    locations = [] \n",
    "    doc = nlp(text)\n",
    "    for ent in doc.ents:\n",
    "        if ent.label_==\"GPE\":\n",
    "            locations.append(ent.text)\n",
    "    return locations[-1] if locations else text"
   ]
  },
  {
   "cell_type": "code",
   "execution_count": 84,
   "metadata": {},
   "outputs": [
    {
     "ename": "KeyboardInterrupt",
     "evalue": "",
     "output_type": "error",
     "traceback": [
      "\u001b[0;31m---------------------------------------------------------------------------\u001b[0m",
      "\u001b[0;31mKeyboardInterrupt\u001b[0m                         Traceback (most recent call last)",
      "Cell \u001b[0;32mIn[84], line 1\u001b[0m\n\u001b[0;32m----> 1\u001b[0m data[DataSchema\u001b[38;5;241m.\u001b[39mlocation] \u001b[38;5;241m=\u001b[39m \u001b[43mdata\u001b[49m\u001b[43m[\u001b[49m\u001b[43mDataSchema\u001b[49m\u001b[38;5;241;43m.\u001b[39;49m\u001b[43mlocation\u001b[49m\u001b[43m]\u001b[49m\u001b[38;5;241;43m.\u001b[39;49m\u001b[43mapply\u001b[49m\u001b[43m(\u001b[49m\u001b[38;5;28;43;01mlambda\u001b[39;49;00m\u001b[43m \u001b[49m\u001b[43mx\u001b[49m\u001b[43m:\u001b[49m\u001b[43m \u001b[49m\u001b[43mget_locations\u001b[49m\u001b[43m(\u001b[49m\u001b[43mx\u001b[49m\u001b[43m)\u001b[49m\u001b[43m)\u001b[49m\n\u001b[1;32m      2\u001b[0m data[DataSchema\u001b[38;5;241m.\u001b[39mlocation]\n",
      "File \u001b[0;32m~/.pyenv/versions/3.11.0/envs/deploing_ml_models/lib/python3.11/site-packages/pandas/core/series.py:4626\u001b[0m, in \u001b[0;36mSeries.apply\u001b[0;34m(self, func, convert_dtype, args, **kwargs)\u001b[0m\n\u001b[1;32m   4516\u001b[0m \u001b[39mdef\u001b[39;00m \u001b[39mapply\u001b[39m(\n\u001b[1;32m   4517\u001b[0m     \u001b[39mself\u001b[39m,\n\u001b[1;32m   4518\u001b[0m     func: AggFuncType,\n\u001b[0;32m   (...)\u001b[0m\n\u001b[1;32m   4521\u001b[0m     \u001b[39m*\u001b[39m\u001b[39m*\u001b[39mkwargs,\n\u001b[1;32m   4522\u001b[0m ) \u001b[39m-\u001b[39m\u001b[39m>\u001b[39m DataFrame \u001b[39m|\u001b[39m Series:\n\u001b[1;32m   4523\u001b[0m \u001b[39m    \u001b[39m\u001b[39m\"\"\"\u001b[39;00m\n\u001b[1;32m   4524\u001b[0m \u001b[39m    Invoke function on values of Series.\u001b[39;00m\n\u001b[1;32m   4525\u001b[0m \n\u001b[0;32m   (...)\u001b[0m\n\u001b[1;32m   4624\u001b[0m \u001b[39m    dtype: float64\u001b[39;00m\n\u001b[1;32m   4625\u001b[0m \u001b[39m    \"\"\"\u001b[39;00m\n\u001b[0;32m-> 4626\u001b[0m     \u001b[39mreturn\u001b[39;00m SeriesApply(\u001b[39mself\u001b[39;49m, func, convert_dtype, args, kwargs)\u001b[39m.\u001b[39;49mapply()\n",
      "File \u001b[0;32m~/.pyenv/versions/3.11.0/envs/deploing_ml_models/lib/python3.11/site-packages/pandas/core/apply.py:1025\u001b[0m, in \u001b[0;36mSeriesApply.apply\u001b[0;34m(self)\u001b[0m\n\u001b[1;32m   1022\u001b[0m     \u001b[39mreturn\u001b[39;00m \u001b[39mself\u001b[39m\u001b[39m.\u001b[39mapply_str()\n\u001b[1;32m   1024\u001b[0m \u001b[39m# self.f is Callable\u001b[39;00m\n\u001b[0;32m-> 1025\u001b[0m \u001b[39mreturn\u001b[39;00m \u001b[39mself\u001b[39;49m\u001b[39m.\u001b[39;49mapply_standard()\n",
      "File \u001b[0;32m~/.pyenv/versions/3.11.0/envs/deploing_ml_models/lib/python3.11/site-packages/pandas/core/apply.py:1076\u001b[0m, in \u001b[0;36mSeriesApply.apply_standard\u001b[0;34m(self)\u001b[0m\n\u001b[1;32m   1074\u001b[0m     \u001b[39melse\u001b[39;00m:\n\u001b[1;32m   1075\u001b[0m         values \u001b[39m=\u001b[39m obj\u001b[39m.\u001b[39mastype(\u001b[39mobject\u001b[39m)\u001b[39m.\u001b[39m_values\n\u001b[0;32m-> 1076\u001b[0m         mapped \u001b[39m=\u001b[39m lib\u001b[39m.\u001b[39;49mmap_infer(\n\u001b[1;32m   1077\u001b[0m             values,\n\u001b[1;32m   1078\u001b[0m             f,\n\u001b[1;32m   1079\u001b[0m             convert\u001b[39m=\u001b[39;49m\u001b[39mself\u001b[39;49m\u001b[39m.\u001b[39;49mconvert_dtype,\n\u001b[1;32m   1080\u001b[0m         )\n\u001b[1;32m   1082\u001b[0m \u001b[39mif\u001b[39;00m \u001b[39mlen\u001b[39m(mapped) \u001b[39mand\u001b[39;00m \u001b[39misinstance\u001b[39m(mapped[\u001b[39m0\u001b[39m], ABCSeries):\n\u001b[1;32m   1083\u001b[0m     \u001b[39m# GH#43986 Need to do list(mapped) in order to get treated as nested\u001b[39;00m\n\u001b[1;32m   1084\u001b[0m     \u001b[39m#  See also GH#25959 regarding EA support\u001b[39;00m\n\u001b[1;32m   1085\u001b[0m     \u001b[39mreturn\u001b[39;00m obj\u001b[39m.\u001b[39m_constructor_expanddim(\u001b[39mlist\u001b[39m(mapped), index\u001b[39m=\u001b[39mobj\u001b[39m.\u001b[39mindex)\n",
      "File \u001b[0;32m~/.pyenv/versions/3.11.0/envs/deploing_ml_models/lib/python3.11/site-packages/pandas/_libs/lib.pyx:2834\u001b[0m, in \u001b[0;36mpandas._libs.lib.map_infer\u001b[0;34m()\u001b[0m\n",
      "Cell \u001b[0;32mIn[84], line 1\u001b[0m, in \u001b[0;36m<lambda>\u001b[0;34m(x)\u001b[0m\n\u001b[0;32m----> 1\u001b[0m data[DataSchema\u001b[38;5;241m.\u001b[39mlocation] \u001b[38;5;241m=\u001b[39m data[DataSchema\u001b[38;5;241m.\u001b[39mlocation]\u001b[38;5;241m.\u001b[39mapply(\u001b[38;5;28;01mlambda\u001b[39;00m x: \u001b[43mget_locations\u001b[49m\u001b[43m(\u001b[49m\u001b[43mx\u001b[49m\u001b[43m)\u001b[49m)\n\u001b[1;32m      2\u001b[0m data[DataSchema\u001b[38;5;241m.\u001b[39mlocation]\n",
      "Cell \u001b[0;32mIn[82], line 5\u001b[0m, in \u001b[0;36mget_locations\u001b[0;34m(text)\u001b[0m\n\u001b[1;32m      3\u001b[0m     \u001b[38;5;28;01mreturn\u001b[39;00m text\n\u001b[1;32m      4\u001b[0m locations \u001b[38;5;241m=\u001b[39m [] \n\u001b[0;32m----> 5\u001b[0m doc \u001b[38;5;241m=\u001b[39m \u001b[43mnlp\u001b[49m\u001b[43m(\u001b[49m\u001b[43mtext\u001b[49m\u001b[43m)\u001b[49m\n\u001b[1;32m      6\u001b[0m \u001b[38;5;28;01mfor\u001b[39;00m ent \u001b[38;5;129;01min\u001b[39;00m doc\u001b[38;5;241m.\u001b[39ments:\n\u001b[1;32m      7\u001b[0m     \u001b[38;5;28;01mif\u001b[39;00m ent\u001b[38;5;241m.\u001b[39mlabel_\u001b[38;5;241m==\u001b[39m\u001b[38;5;124m\"\u001b[39m\u001b[38;5;124mGPE\u001b[39m\u001b[38;5;124m\"\u001b[39m:\n",
      "File \u001b[0;32m~/.pyenv/versions/3.11.0/envs/deploing_ml_models/lib/python3.11/site-packages/spacy/language.py:1011\u001b[0m, in \u001b[0;36mLanguage.__call__\u001b[0;34m(self, text, disable, component_cfg)\u001b[0m\n\u001b[1;32m   1009\u001b[0m     error_handler \u001b[39m=\u001b[39m proc\u001b[39m.\u001b[39mget_error_handler()\n\u001b[1;32m   1010\u001b[0m \u001b[39mtry\u001b[39;00m:\n\u001b[0;32m-> 1011\u001b[0m     doc \u001b[39m=\u001b[39m proc(doc, \u001b[39m*\u001b[39;49m\u001b[39m*\u001b[39;49mcomponent_cfg\u001b[39m.\u001b[39;49mget(name, {}))  \u001b[39m# type: ignore[call-arg]\u001b[39;00m\n\u001b[1;32m   1012\u001b[0m \u001b[39mexcept\u001b[39;00m \u001b[39mKeyError\u001b[39;00m \u001b[39mas\u001b[39;00m e:\n\u001b[1;32m   1013\u001b[0m     \u001b[39m# This typically happens if a component is not initialized\u001b[39;00m\n\u001b[1;32m   1014\u001b[0m     \u001b[39mraise\u001b[39;00m \u001b[39mValueError\u001b[39;00m(Errors\u001b[39m.\u001b[39mE109\u001b[39m.\u001b[39mformat(name\u001b[39m=\u001b[39mname)) \u001b[39mfrom\u001b[39;00m \u001b[39me\u001b[39;00m\n",
      "File \u001b[0;32m~/.pyenv/versions/3.11.0/envs/deploing_ml_models/lib/python3.11/site-packages/spacy/pipeline/trainable_pipe.pyx:52\u001b[0m, in \u001b[0;36mspacy.pipeline.trainable_pipe.TrainablePipe.__call__\u001b[0;34m()\u001b[0m\n",
      "File \u001b[0;32m~/.pyenv/versions/3.11.0/envs/deploing_ml_models/lib/python3.11/site-packages/spacy/pipeline/transition_parser.pyx:253\u001b[0m, in \u001b[0;36mspacy.pipeline.transition_parser.Parser.predict\u001b[0;34m()\u001b[0m\n",
      "File \u001b[0;32m~/.pyenv/versions/3.11.0/envs/deploing_ml_models/lib/python3.11/site-packages/spacy/pipeline/transition_parser.pyx:274\u001b[0m, in \u001b[0;36mspacy.pipeline.transition_parser.Parser.greedy_parse\u001b[0;34m()\u001b[0m\n",
      "File \u001b[0;32m~/.pyenv/versions/3.11.0/envs/deploing_ml_models/lib/python3.11/site-packages/thinc/model.py:315\u001b[0m, in \u001b[0;36mModel.predict\u001b[0;34m(self, X)\u001b[0m\n\u001b[1;32m    311\u001b[0m \u001b[39mdef\u001b[39;00m \u001b[39mpredict\u001b[39m(\u001b[39mself\u001b[39m, X: InT) \u001b[39m-\u001b[39m\u001b[39m>\u001b[39m OutT:\n\u001b[1;32m    312\u001b[0m \u001b[39m    \u001b[39m\u001b[39m\"\"\"Call the model's `forward` function with `is_train=False`, and return\u001b[39;00m\n\u001b[1;32m    313\u001b[0m \u001b[39m    only the output, instead of the `(output, callback)` tuple.\u001b[39;00m\n\u001b[1;32m    314\u001b[0m \u001b[39m    \"\"\"\u001b[39;00m\n\u001b[0;32m--> 315\u001b[0m     \u001b[39mreturn\u001b[39;00m \u001b[39mself\u001b[39;49m\u001b[39m.\u001b[39;49m_func(\u001b[39mself\u001b[39;49m, X, is_train\u001b[39m=\u001b[39;49m\u001b[39mFalse\u001b[39;49;00m)[\u001b[39m0\u001b[39m]\n",
      "File \u001b[0;32m~/.pyenv/versions/3.11.0/envs/deploing_ml_models/lib/python3.11/site-packages/spacy/ml/tb_framework.py:33\u001b[0m, in \u001b[0;36mforward\u001b[0;34m(model, X, is_train)\u001b[0m\n\u001b[1;32m     32\u001b[0m \u001b[39mdef\u001b[39;00m \u001b[39mforward\u001b[39m(model, X, is_train):\n\u001b[0;32m---> 33\u001b[0m     step_model \u001b[39m=\u001b[39m ParserStepModel(\n\u001b[1;32m     34\u001b[0m         X,\n\u001b[1;32m     35\u001b[0m         model\u001b[39m.\u001b[39;49mlayers,\n\u001b[1;32m     36\u001b[0m         unseen_classes\u001b[39m=\u001b[39;49mmodel\u001b[39m.\u001b[39;49mattrs[\u001b[39m\"\u001b[39;49m\u001b[39munseen_classes\u001b[39;49m\u001b[39m\"\u001b[39;49m],\n\u001b[1;32m     37\u001b[0m         train\u001b[39m=\u001b[39;49mis_train,\n\u001b[1;32m     38\u001b[0m         has_upper\u001b[39m=\u001b[39;49mmodel\u001b[39m.\u001b[39;49mattrs[\u001b[39m\"\u001b[39;49m\u001b[39mhas_upper\u001b[39;49m\u001b[39m\"\u001b[39;49m],\n\u001b[1;32m     39\u001b[0m     )\n\u001b[1;32m     41\u001b[0m     \u001b[39mreturn\u001b[39;00m step_model, step_model\u001b[39m.\u001b[39mfinish_steps\n",
      "File \u001b[0;32m~/.pyenv/versions/3.11.0/envs/deploing_ml_models/lib/python3.11/site-packages/spacy/ml/parser_model.pyx:213\u001b[0m, in \u001b[0;36mspacy.ml.parser_model.ParserStepModel.__init__\u001b[0;34m()\u001b[0m\n",
      "File \u001b[0;32m~/.pyenv/versions/3.11.0/envs/deploing_ml_models/lib/python3.11/site-packages/thinc/model.py:291\u001b[0m, in \u001b[0;36mModel.__call__\u001b[0;34m(self, X, is_train)\u001b[0m\n\u001b[1;32m    288\u001b[0m \u001b[39mdef\u001b[39;00m \u001b[39m__call__\u001b[39m(\u001b[39mself\u001b[39m, X: InT, is_train: \u001b[39mbool\u001b[39m) \u001b[39m-\u001b[39m\u001b[39m>\u001b[39m Tuple[OutT, Callable]:\n\u001b[1;32m    289\u001b[0m \u001b[39m    \u001b[39m\u001b[39m\"\"\"Call the model's `forward` function, returning the output and a\u001b[39;00m\n\u001b[1;32m    290\u001b[0m \u001b[39m    callback to compute the gradients via backpropagation.\"\"\"\u001b[39;00m\n\u001b[0;32m--> 291\u001b[0m     \u001b[39mreturn\u001b[39;00m \u001b[39mself\u001b[39;49m\u001b[39m.\u001b[39;49m_func(\u001b[39mself\u001b[39;49m, X, is_train\u001b[39m=\u001b[39;49mis_train)\n",
      "File \u001b[0;32m~/.pyenv/versions/3.11.0/envs/deploing_ml_models/lib/python3.11/site-packages/thinc/layers/chain.py:55\u001b[0m, in \u001b[0;36mforward\u001b[0;34m(model, X, is_train)\u001b[0m\n\u001b[1;32m     53\u001b[0m callbacks \u001b[39m=\u001b[39m []\n\u001b[1;32m     54\u001b[0m \u001b[39mfor\u001b[39;00m layer \u001b[39min\u001b[39;00m model\u001b[39m.\u001b[39mlayers:\n\u001b[0;32m---> 55\u001b[0m     Y, inc_layer_grad \u001b[39m=\u001b[39m layer(X, is_train\u001b[39m=\u001b[39;49mis_train)\n\u001b[1;32m     56\u001b[0m     callbacks\u001b[39m.\u001b[39mappend(inc_layer_grad)\n\u001b[1;32m     57\u001b[0m     X \u001b[39m=\u001b[39m Y\n",
      "File \u001b[0;32m~/.pyenv/versions/3.11.0/envs/deploing_ml_models/lib/python3.11/site-packages/thinc/model.py:291\u001b[0m, in \u001b[0;36mModel.__call__\u001b[0;34m(self, X, is_train)\u001b[0m\n\u001b[1;32m    288\u001b[0m \u001b[39mdef\u001b[39;00m \u001b[39m__call__\u001b[39m(\u001b[39mself\u001b[39m, X: InT, is_train: \u001b[39mbool\u001b[39m) \u001b[39m-\u001b[39m\u001b[39m>\u001b[39m Tuple[OutT, Callable]:\n\u001b[1;32m    289\u001b[0m \u001b[39m    \u001b[39m\u001b[39m\"\"\"Call the model's `forward` function, returning the output and a\u001b[39;00m\n\u001b[1;32m    290\u001b[0m \u001b[39m    callback to compute the gradients via backpropagation.\"\"\"\u001b[39;00m\n\u001b[0;32m--> 291\u001b[0m     \u001b[39mreturn\u001b[39;00m \u001b[39mself\u001b[39;49m\u001b[39m.\u001b[39;49m_func(\u001b[39mself\u001b[39;49m, X, is_train\u001b[39m=\u001b[39;49mis_train)\n",
      "File \u001b[0;32m~/.pyenv/versions/3.11.0/envs/deploing_ml_models/lib/python3.11/site-packages/thinc/layers/chain.py:55\u001b[0m, in \u001b[0;36mforward\u001b[0;34m(model, X, is_train)\u001b[0m\n\u001b[1;32m     53\u001b[0m callbacks \u001b[39m=\u001b[39m []\n\u001b[1;32m     54\u001b[0m \u001b[39mfor\u001b[39;00m layer \u001b[39min\u001b[39;00m model\u001b[39m.\u001b[39mlayers:\n\u001b[0;32m---> 55\u001b[0m     Y, inc_layer_grad \u001b[39m=\u001b[39m layer(X, is_train\u001b[39m=\u001b[39;49mis_train)\n\u001b[1;32m     56\u001b[0m     callbacks\u001b[39m.\u001b[39mappend(inc_layer_grad)\n\u001b[1;32m     57\u001b[0m     X \u001b[39m=\u001b[39m Y\n",
      "File \u001b[0;32m~/.pyenv/versions/3.11.0/envs/deploing_ml_models/lib/python3.11/site-packages/thinc/model.py:291\u001b[0m, in \u001b[0;36mModel.__call__\u001b[0;34m(self, X, is_train)\u001b[0m\n\u001b[1;32m    288\u001b[0m \u001b[39mdef\u001b[39;00m \u001b[39m__call__\u001b[39m(\u001b[39mself\u001b[39m, X: InT, is_train: \u001b[39mbool\u001b[39m) \u001b[39m-\u001b[39m\u001b[39m>\u001b[39m Tuple[OutT, Callable]:\n\u001b[1;32m    289\u001b[0m \u001b[39m    \u001b[39m\u001b[39m\"\"\"Call the model's `forward` function, returning the output and a\u001b[39;00m\n\u001b[1;32m    290\u001b[0m \u001b[39m    callback to compute the gradients via backpropagation.\"\"\"\u001b[39;00m\n\u001b[0;32m--> 291\u001b[0m     \u001b[39mreturn\u001b[39;00m \u001b[39mself\u001b[39;49m\u001b[39m.\u001b[39;49m_func(\u001b[39mself\u001b[39;49m, X, is_train\u001b[39m=\u001b[39;49mis_train)\n",
      "File \u001b[0;32m~/.pyenv/versions/3.11.0/envs/deploing_ml_models/lib/python3.11/site-packages/thinc/layers/with_array.py:43\u001b[0m, in \u001b[0;36mforward\u001b[0;34m(model, Xseq, is_train)\u001b[0m\n\u001b[1;32m     41\u001b[0m     \u001b[39mreturn\u001b[39;00m model\u001b[39m.\u001b[39mlayers[\u001b[39m0\u001b[39m](Xseq, is_train)\n\u001b[1;32m     42\u001b[0m \u001b[39melse\u001b[39;00m:\n\u001b[0;32m---> 43\u001b[0m     \u001b[39mreturn\u001b[39;00m cast(Tuple[SeqT, Callable], _list_forward(model, Xseq, is_train))\n",
      "File \u001b[0;32m~/.pyenv/versions/3.11.0/envs/deploing_ml_models/lib/python3.11/site-packages/thinc/layers/with_array.py:78\u001b[0m, in \u001b[0;36m_list_forward\u001b[0;34m(model, Xs, is_train)\u001b[0m\n\u001b[1;32m     76\u001b[0m lengths \u001b[39m=\u001b[39m NUMPY_OPS\u001b[39m.\u001b[39masarray1i([\u001b[39mlen\u001b[39m(seq) \u001b[39mfor\u001b[39;00m seq \u001b[39min\u001b[39;00m Xs])\n\u001b[1;32m     77\u001b[0m Xf \u001b[39m=\u001b[39m layer\u001b[39m.\u001b[39mops\u001b[39m.\u001b[39mflatten(Xs, pad\u001b[39m=\u001b[39mpad)\n\u001b[0;32m---> 78\u001b[0m Yf, get_dXf \u001b[39m=\u001b[39m layer(Xf, is_train)\n\u001b[1;32m     80\u001b[0m \u001b[39mdef\u001b[39;00m \u001b[39mbackprop\u001b[39m(dYs: ListXd) \u001b[39m-\u001b[39m\u001b[39m>\u001b[39m ListXd:\n\u001b[1;32m     81\u001b[0m     dYf \u001b[39m=\u001b[39m layer\u001b[39m.\u001b[39mops\u001b[39m.\u001b[39mflatten(dYs, pad\u001b[39m=\u001b[39mpad)\n",
      "File \u001b[0;32m~/.pyenv/versions/3.11.0/envs/deploing_ml_models/lib/python3.11/site-packages/thinc/model.py:291\u001b[0m, in \u001b[0;36mModel.__call__\u001b[0;34m(self, X, is_train)\u001b[0m\n\u001b[1;32m    288\u001b[0m \u001b[39mdef\u001b[39;00m \u001b[39m__call__\u001b[39m(\u001b[39mself\u001b[39m, X: InT, is_train: \u001b[39mbool\u001b[39m) \u001b[39m-\u001b[39m\u001b[39m>\u001b[39m Tuple[OutT, Callable]:\n\u001b[1;32m    289\u001b[0m \u001b[39m    \u001b[39m\u001b[39m\"\"\"Call the model's `forward` function, returning the output and a\u001b[39;00m\n\u001b[1;32m    290\u001b[0m \u001b[39m    callback to compute the gradients via backpropagation.\"\"\"\u001b[39;00m\n\u001b[0;32m--> 291\u001b[0m     \u001b[39mreturn\u001b[39;00m \u001b[39mself\u001b[39;49m\u001b[39m.\u001b[39;49m_func(\u001b[39mself\u001b[39;49m, X, is_train\u001b[39m=\u001b[39;49mis_train)\n",
      "File \u001b[0;32m~/.pyenv/versions/3.11.0/envs/deploing_ml_models/lib/python3.11/site-packages/thinc/layers/chain.py:55\u001b[0m, in \u001b[0;36mforward\u001b[0;34m(model, X, is_train)\u001b[0m\n\u001b[1;32m     53\u001b[0m callbacks \u001b[39m=\u001b[39m []\n\u001b[1;32m     54\u001b[0m \u001b[39mfor\u001b[39;00m layer \u001b[39min\u001b[39;00m model\u001b[39m.\u001b[39mlayers:\n\u001b[0;32m---> 55\u001b[0m     Y, inc_layer_grad \u001b[39m=\u001b[39m layer(X, is_train\u001b[39m=\u001b[39;49mis_train)\n\u001b[1;32m     56\u001b[0m     callbacks\u001b[39m.\u001b[39mappend(inc_layer_grad)\n\u001b[1;32m     57\u001b[0m     X \u001b[39m=\u001b[39m Y\n",
      "File \u001b[0;32m~/.pyenv/versions/3.11.0/envs/deploing_ml_models/lib/python3.11/site-packages/thinc/model.py:291\u001b[0m, in \u001b[0;36mModel.__call__\u001b[0;34m(self, X, is_train)\u001b[0m\n\u001b[1;32m    288\u001b[0m \u001b[39mdef\u001b[39;00m \u001b[39m__call__\u001b[39m(\u001b[39mself\u001b[39m, X: InT, is_train: \u001b[39mbool\u001b[39m) \u001b[39m-\u001b[39m\u001b[39m>\u001b[39m Tuple[OutT, Callable]:\n\u001b[1;32m    289\u001b[0m \u001b[39m    \u001b[39m\u001b[39m\"\"\"Call the model's `forward` function, returning the output and a\u001b[39;00m\n\u001b[1;32m    290\u001b[0m \u001b[39m    callback to compute the gradients via backpropagation.\"\"\"\u001b[39;00m\n\u001b[0;32m--> 291\u001b[0m     \u001b[39mreturn\u001b[39;00m \u001b[39mself\u001b[39;49m\u001b[39m.\u001b[39;49m_func(\u001b[39mself\u001b[39;49m, X, is_train\u001b[39m=\u001b[39;49mis_train)\n",
      "File \u001b[0;32m~/.pyenv/versions/3.11.0/envs/deploing_ml_models/lib/python3.11/site-packages/thinc/layers/residual.py:41\u001b[0m, in \u001b[0;36mforward\u001b[0;34m(model, X, is_train)\u001b[0m\n\u001b[1;32m     38\u001b[0m     \u001b[39melse\u001b[39;00m:\n\u001b[1;32m     39\u001b[0m         \u001b[39mreturn\u001b[39;00m d_output \u001b[39m+\u001b[39m dX\n\u001b[0;32m---> 41\u001b[0m Y, backprop_layer \u001b[39m=\u001b[39m model\u001b[39m.\u001b[39;49mlayers[\u001b[39m0\u001b[39;49m](X, is_train)\n\u001b[1;32m     42\u001b[0m \u001b[39mif\u001b[39;00m \u001b[39misinstance\u001b[39m(X, \u001b[39mlist\u001b[39m):\n\u001b[1;32m     43\u001b[0m     \u001b[39mreturn\u001b[39;00m [X[i] \u001b[39m+\u001b[39m Y[i] \u001b[39mfor\u001b[39;00m i \u001b[39min\u001b[39;00m \u001b[39mrange\u001b[39m(\u001b[39mlen\u001b[39m(X))], backprop\n",
      "File \u001b[0;32m~/.pyenv/versions/3.11.0/envs/deploing_ml_models/lib/python3.11/site-packages/thinc/model.py:291\u001b[0m, in \u001b[0;36mModel.__call__\u001b[0;34m(self, X, is_train)\u001b[0m\n\u001b[1;32m    288\u001b[0m \u001b[39mdef\u001b[39;00m \u001b[39m__call__\u001b[39m(\u001b[39mself\u001b[39m, X: InT, is_train: \u001b[39mbool\u001b[39m) \u001b[39m-\u001b[39m\u001b[39m>\u001b[39m Tuple[OutT, Callable]:\n\u001b[1;32m    289\u001b[0m \u001b[39m    \u001b[39m\u001b[39m\"\"\"Call the model's `forward` function, returning the output and a\u001b[39;00m\n\u001b[1;32m    290\u001b[0m \u001b[39m    callback to compute the gradients via backpropagation.\"\"\"\u001b[39;00m\n\u001b[0;32m--> 291\u001b[0m     \u001b[39mreturn\u001b[39;00m \u001b[39mself\u001b[39;49m\u001b[39m.\u001b[39;49m_func(\u001b[39mself\u001b[39;49m, X, is_train\u001b[39m=\u001b[39;49mis_train)\n",
      "File \u001b[0;32m~/.pyenv/versions/3.11.0/envs/deploing_ml_models/lib/python3.11/site-packages/thinc/layers/chain.py:55\u001b[0m, in \u001b[0;36mforward\u001b[0;34m(model, X, is_train)\u001b[0m\n\u001b[1;32m     53\u001b[0m callbacks \u001b[39m=\u001b[39m []\n\u001b[1;32m     54\u001b[0m \u001b[39mfor\u001b[39;00m layer \u001b[39min\u001b[39;00m model\u001b[39m.\u001b[39mlayers:\n\u001b[0;32m---> 55\u001b[0m     Y, inc_layer_grad \u001b[39m=\u001b[39m layer(X, is_train\u001b[39m=\u001b[39;49mis_train)\n\u001b[1;32m     56\u001b[0m     callbacks\u001b[39m.\u001b[39mappend(inc_layer_grad)\n\u001b[1;32m     57\u001b[0m     X \u001b[39m=\u001b[39m Y\n",
      "File \u001b[0;32m~/.pyenv/versions/3.11.0/envs/deploing_ml_models/lib/python3.11/site-packages/thinc/model.py:291\u001b[0m, in \u001b[0;36mModel.__call__\u001b[0;34m(self, X, is_train)\u001b[0m\n\u001b[1;32m    288\u001b[0m \u001b[39mdef\u001b[39;00m \u001b[39m__call__\u001b[39m(\u001b[39mself\u001b[39m, X: InT, is_train: \u001b[39mbool\u001b[39m) \u001b[39m-\u001b[39m\u001b[39m>\u001b[39m Tuple[OutT, Callable]:\n\u001b[1;32m    289\u001b[0m \u001b[39m    \u001b[39m\u001b[39m\"\"\"Call the model's `forward` function, returning the output and a\u001b[39;00m\n\u001b[1;32m    290\u001b[0m \u001b[39m    callback to compute the gradients via backpropagation.\"\"\"\u001b[39;00m\n\u001b[0;32m--> 291\u001b[0m     \u001b[39mreturn\u001b[39;00m \u001b[39mself\u001b[39;49m\u001b[39m.\u001b[39;49m_func(\u001b[39mself\u001b[39;49m, X, is_train\u001b[39m=\u001b[39;49mis_train)\n",
      "File \u001b[0;32m~/.pyenv/versions/3.11.0/envs/deploing_ml_models/lib/python3.11/site-packages/thinc/layers/chain.py:55\u001b[0m, in \u001b[0;36mforward\u001b[0;34m(model, X, is_train)\u001b[0m\n\u001b[1;32m     53\u001b[0m callbacks \u001b[39m=\u001b[39m []\n\u001b[1;32m     54\u001b[0m \u001b[39mfor\u001b[39;00m layer \u001b[39min\u001b[39;00m model\u001b[39m.\u001b[39mlayers:\n\u001b[0;32m---> 55\u001b[0m     Y, inc_layer_grad \u001b[39m=\u001b[39m layer(X, is_train\u001b[39m=\u001b[39;49mis_train)\n\u001b[1;32m     56\u001b[0m     callbacks\u001b[39m.\u001b[39mappend(inc_layer_grad)\n\u001b[1;32m     57\u001b[0m     X \u001b[39m=\u001b[39m Y\n",
      "    \u001b[0;31m[... skipping similar frames: Model.__call__ at line 291 (1 times)]\u001b[0m\n",
      "File \u001b[0;32m~/.pyenv/versions/3.11.0/envs/deploing_ml_models/lib/python3.11/site-packages/thinc/layers/chain.py:55\u001b[0m, in \u001b[0;36mforward\u001b[0;34m(model, X, is_train)\u001b[0m\n\u001b[1;32m     53\u001b[0m callbacks \u001b[39m=\u001b[39m []\n\u001b[1;32m     54\u001b[0m \u001b[39mfor\u001b[39;00m layer \u001b[39min\u001b[39;00m model\u001b[39m.\u001b[39mlayers:\n\u001b[0;32m---> 55\u001b[0m     Y, inc_layer_grad \u001b[39m=\u001b[39m layer(X, is_train\u001b[39m=\u001b[39;49mis_train)\n\u001b[1;32m     56\u001b[0m     callbacks\u001b[39m.\u001b[39mappend(inc_layer_grad)\n\u001b[1;32m     57\u001b[0m     X \u001b[39m=\u001b[39m Y\n",
      "File \u001b[0;32m~/.pyenv/versions/3.11.0/envs/deploing_ml_models/lib/python3.11/site-packages/thinc/model.py:291\u001b[0m, in \u001b[0;36mModel.__call__\u001b[0;34m(self, X, is_train)\u001b[0m\n\u001b[1;32m    288\u001b[0m \u001b[39mdef\u001b[39;00m \u001b[39m__call__\u001b[39m(\u001b[39mself\u001b[39m, X: InT, is_train: \u001b[39mbool\u001b[39m) \u001b[39m-\u001b[39m\u001b[39m>\u001b[39m Tuple[OutT, Callable]:\n\u001b[1;32m    289\u001b[0m \u001b[39m    \u001b[39m\u001b[39m\"\"\"Call the model's `forward` function, returning the output and a\u001b[39;00m\n\u001b[1;32m    290\u001b[0m \u001b[39m    callback to compute the gradients via backpropagation.\"\"\"\u001b[39;00m\n\u001b[0;32m--> 291\u001b[0m     \u001b[39mreturn\u001b[39;00m \u001b[39mself\u001b[39;49m\u001b[39m.\u001b[39;49m_func(\u001b[39mself\u001b[39;49m, X, is_train\u001b[39m=\u001b[39;49mis_train)\n",
      "File \u001b[0;32m~/.pyenv/versions/3.11.0/envs/deploing_ml_models/lib/python3.11/site-packages/thinc/layers/layernorm.py:25\u001b[0m, in \u001b[0;36mforward\u001b[0;34m(model, X, is_train)\u001b[0m\n\u001b[1;32m     24\u001b[0m \u001b[39mdef\u001b[39;00m \u001b[39mforward\u001b[39m(model: Model[InT, InT], X: InT, is_train: \u001b[39mbool\u001b[39m) \u001b[39m-\u001b[39m\u001b[39m>\u001b[39m Tuple[InT, Callable]:\n\u001b[0;32m---> 25\u001b[0m     N, mu, var \u001b[39m=\u001b[39m _get_moments(model\u001b[39m.\u001b[39;49mops, X)\n\u001b[1;32m     26\u001b[0m     Xhat \u001b[39m=\u001b[39m (X \u001b[39m-\u001b[39m mu) \u001b[39m*\u001b[39m var \u001b[39m*\u001b[39m\u001b[39m*\u001b[39m (\u001b[39m-\u001b[39m\u001b[39m1.0\u001b[39m \u001b[39m/\u001b[39m \u001b[39m2.0\u001b[39m)\n\u001b[1;32m     27\u001b[0m     Y, backprop_rescale \u001b[39m=\u001b[39m _begin_update_scale_shift(model, Xhat)\n",
      "File \u001b[0;32m~/.pyenv/versions/3.11.0/envs/deploing_ml_models/lib/python3.11/site-packages/thinc/layers/layernorm.py:76\u001b[0m, in \u001b[0;36m_get_moments\u001b[0;34m(ops, X)\u001b[0m\n\u001b[1;32m     73\u001b[0m \u001b[39mdef\u001b[39;00m \u001b[39m_get_moments\u001b[39m(ops: Ops, X: Floats2d) \u001b[39m-\u001b[39m\u001b[39m>\u001b[39m Tuple[Floats2d, Floats2d, Floats2d]:\n\u001b[1;32m     74\u001b[0m     \u001b[39m# TODO: Do mean methods\u001b[39;00m\n\u001b[1;32m     75\u001b[0m     mu: Floats2d \u001b[39m=\u001b[39m X\u001b[39m.\u001b[39mmean(axis\u001b[39m=\u001b[39m\u001b[39m1\u001b[39m, keepdims\u001b[39m=\u001b[39m\u001b[39mTrue\u001b[39;00m)\n\u001b[0;32m---> 76\u001b[0m     var: Floats2d \u001b[39m=\u001b[39m X\u001b[39m.\u001b[39;49mvar(axis\u001b[39m=\u001b[39;49m\u001b[39m1\u001b[39;49m, keepdims\u001b[39m=\u001b[39;49m\u001b[39mTrue\u001b[39;49;00m) \u001b[39m+\u001b[39m \u001b[39m1e-08\u001b[39m\n\u001b[1;32m     77\u001b[0m     \u001b[39mreturn\u001b[39;00m cast(Floats2d, ops\u001b[39m.\u001b[39masarray_f([X\u001b[39m.\u001b[39mshape[\u001b[39m1\u001b[39m]])), mu, var\n",
      "File \u001b[0;32m~/.pyenv/versions/3.11.0/envs/deploing_ml_models/lib/python3.11/site-packages/numpy/core/_methods.py:202\u001b[0m, in \u001b[0;36m_var\u001b[0;34m(a, axis, dtype, out, ddof, keepdims, where)\u001b[0m\n\u001b[1;32m    198\u001b[0m \u001b[39mdef\u001b[39;00m \u001b[39m_var\u001b[39m(a, axis\u001b[39m=\u001b[39m\u001b[39mNone\u001b[39;00m, dtype\u001b[39m=\u001b[39m\u001b[39mNone\u001b[39;00m, out\u001b[39m=\u001b[39m\u001b[39mNone\u001b[39;00m, ddof\u001b[39m=\u001b[39m\u001b[39m0\u001b[39m, keepdims\u001b[39m=\u001b[39m\u001b[39mFalse\u001b[39;00m, \u001b[39m*\u001b[39m,\n\u001b[1;32m    199\u001b[0m          where\u001b[39m=\u001b[39m\u001b[39mTrue\u001b[39;00m):\n\u001b[1;32m    200\u001b[0m     arr \u001b[39m=\u001b[39m asanyarray(a)\n\u001b[0;32m--> 202\u001b[0m     rcount \u001b[39m=\u001b[39m _count_reduce_items(arr, axis, keepdims\u001b[39m=\u001b[39;49mkeepdims, where\u001b[39m=\u001b[39;49mwhere)\n\u001b[1;32m    203\u001b[0m     \u001b[39m# Make this warning show up on top.\u001b[39;00m\n\u001b[1;32m    204\u001b[0m     \u001b[39mif\u001b[39;00m ddof \u001b[39m>\u001b[39m\u001b[39m=\u001b[39m rcount \u001b[39mif\u001b[39;00m where \u001b[39mis\u001b[39;00m \u001b[39mTrue\u001b[39;00m \u001b[39melse\u001b[39;00m umr_any(ddof \u001b[39m>\u001b[39m\u001b[39m=\u001b[39m rcount, axis\u001b[39m=\u001b[39m\u001b[39mNone\u001b[39;00m):\n",
      "File \u001b[0;32m~/.pyenv/versions/3.11.0/envs/deploing_ml_models/lib/python3.11/site-packages/numpy/core/_methods.py:77\u001b[0m, in \u001b[0;36m_count_reduce_items\u001b[0;34m(arr, axis, keepdims, where)\u001b[0m\n\u001b[1;32m     75\u001b[0m     items \u001b[39m=\u001b[39m \u001b[39m1\u001b[39m\n\u001b[1;32m     76\u001b[0m     \u001b[39mfor\u001b[39;00m ax \u001b[39min\u001b[39;00m axis:\n\u001b[0;32m---> 77\u001b[0m         items \u001b[39m*\u001b[39m\u001b[39m=\u001b[39m arr\u001b[39m.\u001b[39mshape[mu\u001b[39m.\u001b[39mnormalize_axis_index(ax, arr\u001b[39m.\u001b[39mndim)]\n\u001b[1;32m     78\u001b[0m     items \u001b[39m=\u001b[39m nt\u001b[39m.\u001b[39mintp(items)\n\u001b[1;32m     79\u001b[0m \u001b[39melse\u001b[39;00m:\n\u001b[1;32m     80\u001b[0m     \u001b[39m# TODO: Optimize case when `where` is broadcast along a non-reduction\u001b[39;00m\n\u001b[1;32m     81\u001b[0m     \u001b[39m# axis and full sum is more excessive than needed.\u001b[39;00m\n\u001b[1;32m     82\u001b[0m \n\u001b[1;32m     83\u001b[0m     \u001b[39m# guarded to protect circular imports\u001b[39;00m\n",
      "\u001b[0;31mKeyboardInterrupt\u001b[0m: "
     ]
    }
   ],
   "source": [
    "data[DataSchema.location] = data[DataSchema.location].apply(lambda x: get_locations(x))\n",
    "data[DataSchema.location]"
   ]
  },
  {
   "cell_type": "code",
   "execution_count": null,
   "metadata": {},
   "outputs": [],
   "source": [
    "print(f\"\\033[31mLocation field after parsing for country has {data[DataSchema.LOCATION].nunique()/data.shape[0]:.2%} unique values\\033[0m\")"
   ]
  },
  {
   "cell_type": "markdown",
   "metadata": {},
   "source": [
    "## AC Type: check for missing values"
   ]
  },
  {
   "cell_type": "code",
   "execution_count": 87,
   "metadata": {},
   "outputs": [
    {
     "data": {
      "text/plain": [
       "0                                      NaN\n",
       "3                             Boeing B-747\n",
       "4                                     C-46\n",
       "6                             Douglas C-47\n",
       "8                             Douglas DC-3\n",
       "                       ...                \n",
       "5023                       Lockheed C-130H\n",
       "5024                 Lockheed 188C Electra\n",
       "5025                            Fokker 100\n",
       "5026                       Airbus A320-214\n",
       "5027    Lockheed 1049H Super Constellation\n",
       "Name: AC_Type, Length: 4969, dtype: object"
      ]
     },
     "execution_count": 87,
     "metadata": {},
     "output_type": "execute_result"
    }
   ],
   "source": [
    "data[DataSchema.ac_type]"
   ]
  },
  {
   "cell_type": "code",
   "execution_count": 86,
   "metadata": {},
   "outputs": [
    {
     "data": {
      "text/html": [
       "<div>\n",
       "<style scoped>\n",
       "    .dataframe tbody tr th:only-of-type {\n",
       "        vertical-align: middle;\n",
       "    }\n",
       "\n",
       "    .dataframe tbody tr th {\n",
       "        vertical-align: top;\n",
       "    }\n",
       "\n",
       "    .dataframe thead th {\n",
       "        text-align: right;\n",
       "    }\n",
       "</style>\n",
       "<table border=\"1\" class=\"dataframe\">\n",
       "  <thead>\n",
       "    <tr style=\"text-align: right;\">\n",
       "      <th></th>\n",
       "      <th>Date</th>\n",
       "      <th>Time</th>\n",
       "      <th>Location</th>\n",
       "      <th>AC_Type</th>\n",
       "      <th>Operator</th>\n",
       "      <th>Route</th>\n",
       "      <th>cn_ln</th>\n",
       "      <th>Flight_#</th>\n",
       "      <th>Is_military</th>\n",
       "      <th>Military_country</th>\n",
       "      <th>Aboard_all</th>\n",
       "      <th>Aboard_passengers</th>\n",
       "      <th>Fatalities_all</th>\n",
       "      <th>Fatalities_passengers</th>\n",
       "      <th>Ground</th>\n",
       "      <th>Registration</th>\n",
       "      <th>Summary</th>\n",
       "    </tr>\n",
       "  </thead>\n",
       "  <tbody>\n",
       "    <tr>\n",
       "      <th>0</th>\n",
       "      <td>18.03.1946</td>\n",
       "      <td>NaN</td>\n",
       "      <td>Between Chungking and Shanghai, China</td>\n",
       "      <td>NaN</td>\n",
       "      <td>China National Aviation Corporation</td>\n",
       "      <td>Chunking - Shanghai</td>\n",
       "      <td>NaN</td>\n",
       "      <td>NaN</td>\n",
       "      <td>No</td>\n",
       "      <td>NaN</td>\n",
       "      <td>NaN</td>\n",
       "      <td>NaN</td>\n",
       "      <td>NaN</td>\n",
       "      <td>NaN</td>\n",
       "      <td>NaN</td>\n",
       "      <td>139</td>\n",
       "      <td>Disappeared while en route. Plane never located.</td>\n",
       "    </tr>\n",
       "    <tr>\n",
       "      <th>22</th>\n",
       "      <td>08.11.1943</td>\n",
       "      <td>NaN</td>\n",
       "      <td>Poona, India</td>\n",
       "      <td>NaN</td>\n",
       "      <td>Military - Indian Air Force</td>\n",
       "      <td>NaN</td>\n",
       "      <td>NaN</td>\n",
       "      <td>NaN</td>\n",
       "      <td>Yes</td>\n",
       "      <td>Indian Air Force</td>\n",
       "      <td>1</td>\n",
       "      <td>NaN</td>\n",
       "      <td>1</td>\n",
       "      <td>NaN</td>\n",
       "      <td>37.0000</td>\n",
       "      <td>NaN</td>\n",
       "      <td>Crashed into a village.</td>\n",
       "    </tr>\n",
       "    <tr>\n",
       "      <th>1284</th>\n",
       "      <td>08.04.1922</td>\n",
       "      <td>NaN</td>\n",
       "      <td>Pao Ting Fou, China</td>\n",
       "      <td>NaN</td>\n",
       "      <td>NaN</td>\n",
       "      <td>Test</td>\n",
       "      <td>NaN</td>\n",
       "      <td>NaN</td>\n",
       "      <td>NaN</td>\n",
       "      <td>NaN</td>\n",
       "      <td>17</td>\n",
       "      <td>0</td>\n",
       "      <td>17</td>\n",
       "      <td>0</td>\n",
       "      <td>0.0000</td>\n",
       "      <td>NaN</td>\n",
       "      <td>Aboard were all workers taking part in a fligh...</td>\n",
       "    </tr>\n",
       "    <tr>\n",
       "      <th>1616</th>\n",
       "      <td>29.06.1945</td>\n",
       "      <td>NaN</td>\n",
       "      <td>Bangalore, India</td>\n",
       "      <td>NaN</td>\n",
       "      <td>Military - Royal Indian Air Force</td>\n",
       "      <td>NaN</td>\n",
       "      <td>NaN</td>\n",
       "      <td>NaN</td>\n",
       "      <td>Yes</td>\n",
       "      <td>Royal Indian Air Force</td>\n",
       "      <td>2</td>\n",
       "      <td>NaN</td>\n",
       "      <td>2</td>\n",
       "      <td>NaN</td>\n",
       "      <td>36.0000</td>\n",
       "      <td>NaN</td>\n",
       "      <td>Crashed into a village exploding and destoying...</td>\n",
       "    </tr>\n",
       "    <tr>\n",
       "      <th>1623</th>\n",
       "      <td>08.08.1951</td>\n",
       "      <td>21:00:00</td>\n",
       "      <td>Barilla Bay, Australia</td>\n",
       "      <td>NaN</td>\n",
       "      <td>Trans Australia Airlines</td>\n",
       "      <td>Hobart Melbourne</td>\n",
       "      <td>13083</td>\n",
       "      <td>NaN</td>\n",
       "      <td>No</td>\n",
       "      <td>NaN</td>\n",
       "      <td>2</td>\n",
       "      <td>0</td>\n",
       "      <td>2</td>\n",
       "      <td>0</td>\n",
       "      <td>0.0000</td>\n",
       "      <td>VH-TAT</td>\n",
       "      <td>Cargo plane. Loss of lateral control during a ...</td>\n",
       "    </tr>\n",
       "    <tr>\n",
       "      <th>1862</th>\n",
       "      <td>17.03.1946</td>\n",
       "      <td>NaN</td>\n",
       "      <td>Near Nanking, China</td>\n",
       "      <td>NaN</td>\n",
       "      <td>Military - Chinese Air Force</td>\n",
       "      <td>Shanghai - Nanking</td>\n",
       "      <td>NaN</td>\n",
       "      <td>NaN</td>\n",
       "      <td>Yes</td>\n",
       "      <td>Chinese Air Force</td>\n",
       "      <td>20</td>\n",
       "      <td>NaN</td>\n",
       "      <td>20</td>\n",
       "      <td>NaN</td>\n",
       "      <td>0.0000</td>\n",
       "      <td>NaN</td>\n",
       "      <td>Crashed into mountainous terrain in low visibi...</td>\n",
       "    </tr>\n",
       "    <tr>\n",
       "      <th>1863</th>\n",
       "      <td>11.02.1996</td>\n",
       "      <td>NaN</td>\n",
       "      <td>Near Kandahar, Afghanistan</td>\n",
       "      <td>NaN</td>\n",
       "      <td>Military - Taliban Militia</td>\n",
       "      <td>NaN</td>\n",
       "      <td>NaN</td>\n",
       "      <td>NaN</td>\n",
       "      <td>Yes</td>\n",
       "      <td>Taliban Militia</td>\n",
       "      <td>20</td>\n",
       "      <td>NaN</td>\n",
       "      <td>20</td>\n",
       "      <td>NaN</td>\n",
       "      <td>0.0000</td>\n",
       "      <td>NaN</td>\n",
       "      <td>The helicopter was shot down.</td>\n",
       "    </tr>\n",
       "    <tr>\n",
       "      <th>2625</th>\n",
       "      <td>22.11.1961</td>\n",
       "      <td>NaN</td>\n",
       "      <td>Harare, Zimbabwe</td>\n",
       "      <td>NaN</td>\n",
       "      <td>Rhodesian Air Services</td>\n",
       "      <td>Salisbury - Livingstone - Elizabethville</td>\n",
       "      <td>19351</td>\n",
       "      <td>NaN</td>\n",
       "      <td>No</td>\n",
       "      <td>NaN</td>\n",
       "      <td>3</td>\n",
       "      <td>0</td>\n",
       "      <td>3</td>\n",
       "      <td>0</td>\n",
       "      <td>0.0000</td>\n",
       "      <td>VP-YRX</td>\n",
       "      <td>The aircraft was on a charter flight to Living...</td>\n",
       "    </tr>\n",
       "    <tr>\n",
       "      <th>3451</th>\n",
       "      <td>15.07.1967</td>\n",
       "      <td>NaN</td>\n",
       "      <td>Near Williamsport, Newfoundland, Canada</td>\n",
       "      <td>NaN</td>\n",
       "      <td>Eastern Provincial Airways</td>\n",
       "      <td>NaN</td>\n",
       "      <td>NaN</td>\n",
       "      <td>NaN</td>\n",
       "      <td>No</td>\n",
       "      <td>NaN</td>\n",
       "      <td>4</td>\n",
       "      <td>3</td>\n",
       "      <td>4</td>\n",
       "      <td>3</td>\n",
       "      <td>0.0000</td>\n",
       "      <td>NaN</td>\n",
       "      <td>Crashed minutes after takeoff.</td>\n",
       "    </tr>\n",
       "    <tr>\n",
       "      <th>4551</th>\n",
       "      <td>26.03.1952</td>\n",
       "      <td>NaN</td>\n",
       "      <td>Moscow, Russia</td>\n",
       "      <td>NaN</td>\n",
       "      <td>Aeroflot</td>\n",
       "      <td>NaN</td>\n",
       "      <td>NaN</td>\n",
       "      <td>NaN</td>\n",
       "      <td>No</td>\n",
       "      <td>NaN</td>\n",
       "      <td>70</td>\n",
       "      <td>NaN</td>\n",
       "      <td>70</td>\n",
       "      <td>NaN</td>\n",
       "      <td>0.0000</td>\n",
       "      <td>NaN</td>\n",
       "      <td>The plane overshot the runway and collided wit...</td>\n",
       "    </tr>\n",
       "    <tr>\n",
       "      <th>4847</th>\n",
       "      <td>29.05.1935</td>\n",
       "      <td>NaN</td>\n",
       "      <td>San Barbra, Honduras</td>\n",
       "      <td>NaN</td>\n",
       "      <td>NaN</td>\n",
       "      <td>NaN</td>\n",
       "      <td>NaN</td>\n",
       "      <td>NaN</td>\n",
       "      <td>NaN</td>\n",
       "      <td>NaN</td>\n",
       "      <td>9</td>\n",
       "      <td>NaN</td>\n",
       "      <td>6</td>\n",
       "      <td>NaN</td>\n",
       "      <td>0.0000</td>\n",
       "      <td>NaN</td>\n",
       "      <td>Crashed into the Ulua River.</td>\n",
       "    </tr>\n",
       "  </tbody>\n",
       "</table>\n",
       "</div>"
      ],
      "text/plain": [
       "            Date      Time                                 Location AC_Type   \n",
       "0     18.03.1946       NaN    Between Chungking and Shanghai, China     NaN  \\\n",
       "22    08.11.1943       NaN                             Poona, India     NaN   \n",
       "1284  08.04.1922       NaN                      Pao Ting Fou, China     NaN   \n",
       "1616  29.06.1945       NaN                         Bangalore, India     NaN   \n",
       "1623  08.08.1951  21:00:00                   Barilla Bay, Australia     NaN   \n",
       "1862  17.03.1946       NaN                      Near Nanking, China     NaN   \n",
       "1863  11.02.1996       NaN               Near Kandahar, Afghanistan     NaN   \n",
       "2625  22.11.1961       NaN                         Harare, Zimbabwe     NaN   \n",
       "3451  15.07.1967       NaN  Near Williamsport, Newfoundland, Canada     NaN   \n",
       "4551  26.03.1952       NaN                           Moscow, Russia     NaN   \n",
       "4847  29.05.1935       NaN                     San Barbra, Honduras     NaN   \n",
       "\n",
       "                                 Operator   \n",
       "0     China National Aviation Corporation  \\\n",
       "22            Military - Indian Air Force   \n",
       "1284                                  NaN   \n",
       "1616    Military - Royal Indian Air Force   \n",
       "1623             Trans Australia Airlines   \n",
       "1862         Military - Chinese Air Force   \n",
       "1863           Military - Taliban Militia   \n",
       "2625               Rhodesian Air Services   \n",
       "3451           Eastern Provincial Airways   \n",
       "4551                             Aeroflot   \n",
       "4847                                  NaN   \n",
       "\n",
       "                                         Route  cn_ln Flight_# Is_military   \n",
       "0                          Chunking - Shanghai    NaN      NaN          No  \\\n",
       "22                                         NaN    NaN      NaN         Yes   \n",
       "1284                                      Test    NaN      NaN         NaN   \n",
       "1616                                       NaN    NaN      NaN         Yes   \n",
       "1623                          Hobart Melbourne  13083      NaN          No   \n",
       "1862                        Shanghai - Nanking    NaN      NaN         Yes   \n",
       "1863                                       NaN    NaN      NaN         Yes   \n",
       "2625  Salisbury - Livingstone - Elizabethville  19351      NaN          No   \n",
       "3451                                       NaN    NaN      NaN          No   \n",
       "4551                                       NaN    NaN      NaN          No   \n",
       "4847                                       NaN    NaN      NaN         NaN   \n",
       "\n",
       "             Military_country Aboard_all Aboard_passengers Fatalities_all   \n",
       "0                         NaN        NaN               NaN            NaN  \\\n",
       "22           Indian Air Force          1               NaN              1   \n",
       "1284                      NaN         17                 0             17   \n",
       "1616   Royal Indian Air Force          2               NaN              2   \n",
       "1623                      NaN          2                 0              2   \n",
       "1862        Chinese Air Force         20               NaN             20   \n",
       "1863          Taliban Militia         20               NaN             20   \n",
       "2625                      NaN          3                 0              3   \n",
       "3451                      NaN          4                 3              4   \n",
       "4551                      NaN         70               NaN             70   \n",
       "4847                      NaN          9               NaN              6   \n",
       "\n",
       "     Fatalities_passengers  Ground Registration   \n",
       "0                      NaN     NaN          139  \\\n",
       "22                     NaN 37.0000          NaN   \n",
       "1284                     0  0.0000          NaN   \n",
       "1616                   NaN 36.0000          NaN   \n",
       "1623                     0  0.0000       VH-TAT   \n",
       "1862                   NaN  0.0000          NaN   \n",
       "1863                   NaN  0.0000          NaN   \n",
       "2625                     0  0.0000       VP-YRX   \n",
       "3451                     3  0.0000          NaN   \n",
       "4551                   NaN  0.0000          NaN   \n",
       "4847                   NaN  0.0000          NaN   \n",
       "\n",
       "                                                Summary  \n",
       "0      Disappeared while en route. Plane never located.  \n",
       "22                              Crashed into a village.  \n",
       "1284  Aboard were all workers taking part in a fligh...  \n",
       "1616  Crashed into a village exploding and destoying...  \n",
       "1623  Cargo plane. Loss of lateral control during a ...  \n",
       "1862  Crashed into mountainous terrain in low visibi...  \n",
       "1863                      The helicopter was shot down.  \n",
       "2625  The aircraft was on a charter flight to Living...  \n",
       "3451                     Crashed minutes after takeoff.  \n",
       "4551  The plane overshot the runway and collided wit...  \n",
       "4847                       Crashed into the Ulua River.  "
      ]
     },
     "execution_count": 86,
     "metadata": {},
     "output_type": "execute_result"
    }
   ],
   "source": [
    "data[data[DataSchema.ac_type].isna()]"
   ]
  },
  {
   "cell_type": "code",
   "execution_count": null,
   "metadata": {},
   "outputs": [],
   "source": [
    "# TODO group Aircraft types"
   ]
  },
  {
   "cell_type": "markdown",
   "metadata": {},
   "source": [
    "## Operator"
   ]
  },
  {
   "cell_type": "code",
   "execution_count": 89,
   "metadata": {},
   "outputs": [
    {
     "data": {
      "text/plain": [
       "0       China National Aviation Corporation\n",
       "3                     Aerolineas Argentinas\n",
       "4                                Aigle Azur\n",
       "6       China National Aviation Corporation\n",
       "8                                  Piedmont\n",
       "                       ...                 \n",
       "5023       Military - Royal Saudi Air Force\n",
       "5024                American Flyers Airline\n",
       "5025                                Bek Air\n",
       "5026         Pakistan International Airline\n",
       "5027               KLM Royal Dutch Airlines\n",
       "Name: Operator, Length: 4969, dtype: object"
      ]
     },
     "execution_count": 89,
     "metadata": {},
     "output_type": "execute_result"
    }
   ],
   "source": [
    "data[DataSchema.operator]"
   ]
  },
  {
   "cell_type": "code",
   "execution_count": 88,
   "metadata": {},
   "outputs": [
    {
     "data": {
      "text/html": [
       "<div>\n",
       "<style scoped>\n",
       "    .dataframe tbody tr th:only-of-type {\n",
       "        vertical-align: middle;\n",
       "    }\n",
       "\n",
       "    .dataframe tbody tr th {\n",
       "        vertical-align: top;\n",
       "    }\n",
       "\n",
       "    .dataframe thead th {\n",
       "        text-align: right;\n",
       "    }\n",
       "</style>\n",
       "<table border=\"1\" class=\"dataframe\">\n",
       "  <thead>\n",
       "    <tr style=\"text-align: right;\">\n",
       "      <th></th>\n",
       "      <th>Date</th>\n",
       "      <th>Time</th>\n",
       "      <th>Location</th>\n",
       "      <th>AC_Type</th>\n",
       "      <th>Operator</th>\n",
       "      <th>Route</th>\n",
       "      <th>cn_ln</th>\n",
       "      <th>Flight_#</th>\n",
       "      <th>Is_military</th>\n",
       "      <th>Military_country</th>\n",
       "      <th>Aboard_all</th>\n",
       "      <th>Aboard_passengers</th>\n",
       "      <th>Fatalities_all</th>\n",
       "      <th>Fatalities_passengers</th>\n",
       "      <th>Ground</th>\n",
       "      <th>Registration</th>\n",
       "      <th>Summary</th>\n",
       "    </tr>\n",
       "  </thead>\n",
       "  <tbody>\n",
       "    <tr>\n",
       "      <th>158</th>\n",
       "      <td>07.09.1909</td>\n",
       "      <td>NaN</td>\n",
       "      <td>Juvisy-sur-Orge, France</td>\n",
       "      <td>Wright Byplane</td>\n",
       "      <td>NaN</td>\n",
       "      <td>Air show</td>\n",
       "      <td>NaN</td>\n",
       "      <td>NaN</td>\n",
       "      <td>NaN</td>\n",
       "      <td>NaN</td>\n",
       "      <td>1</td>\n",
       "      <td>0</td>\n",
       "      <td>1</td>\n",
       "      <td>0</td>\n",
       "      <td>0.0000</td>\n",
       "      <td>SC1</td>\n",
       "      <td>Eugene Lefebvre was the first pilot to ever be...</td>\n",
       "    </tr>\n",
       "    <tr>\n",
       "      <th>728</th>\n",
       "      <td>04.07.1943</td>\n",
       "      <td>23:00:00</td>\n",
       "      <td>Gibraltar</td>\n",
       "      <td>Consolidated Liberator B24 C</td>\n",
       "      <td>NaN</td>\n",
       "      <td>NaN</td>\n",
       "      <td>NaN</td>\n",
       "      <td>NaN</td>\n",
       "      <td>NaN</td>\n",
       "      <td>NaN</td>\n",
       "      <td>13</td>\n",
       "      <td>NaN</td>\n",
       "      <td>12</td>\n",
       "      <td>NaN</td>\n",
       "      <td>0.0000</td>\n",
       "      <td>A-L-523</td>\n",
       "      <td>The flight, bound for London, crashed into the...</td>\n",
       "    </tr>\n",
       "    <tr>\n",
       "      <th>1145</th>\n",
       "      <td>17.06.1917</td>\n",
       "      <td>NaN</td>\n",
       "      <td>Near Yarmouth, England</td>\n",
       "      <td>Zepplin L-48 (air ship)</td>\n",
       "      <td>NaN</td>\n",
       "      <td>NaN</td>\n",
       "      <td>NaN</td>\n",
       "      <td>NaN</td>\n",
       "      <td>NaN</td>\n",
       "      <td>NaN</td>\n",
       "      <td>16</td>\n",
       "      <td>NaN</td>\n",
       "      <td>14</td>\n",
       "      <td>NaN</td>\n",
       "      <td>0.0000</td>\n",
       "      <td>L-48</td>\n",
       "      <td>Shot down by aircraft.</td>\n",
       "    </tr>\n",
       "    <tr>\n",
       "      <th>1189</th>\n",
       "      <td>02.09.1963</td>\n",
       "      <td>NaN</td>\n",
       "      <td>Northeast Laos</td>\n",
       "      <td>Curtiss C-46 Commando</td>\n",
       "      <td>NaN</td>\n",
       "      <td>NaN</td>\n",
       "      <td>NaN</td>\n",
       "      <td>NaN</td>\n",
       "      <td>NaN</td>\n",
       "      <td>NaN</td>\n",
       "      <td>16</td>\n",
       "      <td>13</td>\n",
       "      <td>15</td>\n",
       "      <td>12</td>\n",
       "      <td>NaN</td>\n",
       "      <td>NaN</td>\n",
       "      <td>Refugee flight.</td>\n",
       "    </tr>\n",
       "    <tr>\n",
       "      <th>1284</th>\n",
       "      <td>08.04.1922</td>\n",
       "      <td>NaN</td>\n",
       "      <td>Pao Ting Fou, China</td>\n",
       "      <td>NaN</td>\n",
       "      <td>NaN</td>\n",
       "      <td>Test</td>\n",
       "      <td>NaN</td>\n",
       "      <td>NaN</td>\n",
       "      <td>NaN</td>\n",
       "      <td>NaN</td>\n",
       "      <td>17</td>\n",
       "      <td>0</td>\n",
       "      <td>17</td>\n",
       "      <td>0</td>\n",
       "      <td>0.0000</td>\n",
       "      <td>NaN</td>\n",
       "      <td>Aboard were all workers taking part in a fligh...</td>\n",
       "    </tr>\n",
       "    <tr>\n",
       "      <th>2847</th>\n",
       "      <td>26.12.2011</td>\n",
       "      <td>05:54:00</td>\n",
       "      <td>Green Grove, Florida</td>\n",
       "      <td>Bell 206B</td>\n",
       "      <td>NaN</td>\n",
       "      <td>Jacksonville, FL - Gainsville, FL</td>\n",
       "      <td>2636</td>\n",
       "      <td>NaN</td>\n",
       "      <td>NaN</td>\n",
       "      <td>NaN</td>\n",
       "      <td>3</td>\n",
       "      <td>2</td>\n",
       "      <td>3</td>\n",
       "      <td>2</td>\n",
       "      <td>0.0000</td>\n",
       "      <td>N5016M</td>\n",
       "      <td>The on-demand air taxi was on a flight to proc...</td>\n",
       "    </tr>\n",
       "    <tr>\n",
       "      <th>2892</th>\n",
       "      <td>04.07.1922</td>\n",
       "      <td>NaN</td>\n",
       "      <td>Fuhlsbuttel, Germany</td>\n",
       "      <td>LVG C VI</td>\n",
       "      <td>NaN</td>\n",
       "      <td>Hamburg - Berlin</td>\n",
       "      <td>NaN</td>\n",
       "      <td>NaN</td>\n",
       "      <td>NaN</td>\n",
       "      <td>NaN</td>\n",
       "      <td>3</td>\n",
       "      <td>2</td>\n",
       "      <td>2</td>\n",
       "      <td>1</td>\n",
       "      <td>0.0000</td>\n",
       "      <td>NaN</td>\n",
       "      <td>The passenger/mail plane lost it's engine whil...</td>\n",
       "    </tr>\n",
       "    <tr>\n",
       "      <th>3932</th>\n",
       "      <td>26.09.1926</td>\n",
       "      <td>NaN</td>\n",
       "      <td>New York, New York</td>\n",
       "      <td>Sikorsky S-25</td>\n",
       "      <td>NaN</td>\n",
       "      <td>New York - Paris</td>\n",
       "      <td>NaN</td>\n",
       "      <td>NaN</td>\n",
       "      <td>NaN</td>\n",
       "      <td>NaN</td>\n",
       "      <td>5</td>\n",
       "      <td>4</td>\n",
       "      <td>2</td>\n",
       "      <td>2</td>\n",
       "      <td>0.0000</td>\n",
       "      <td>NaN</td>\n",
       "      <td>Too much weight caused the landing gear to col...</td>\n",
       "    </tr>\n",
       "    <tr>\n",
       "      <th>4847</th>\n",
       "      <td>29.05.1935</td>\n",
       "      <td>NaN</td>\n",
       "      <td>San Barbra, Honduras</td>\n",
       "      <td>NaN</td>\n",
       "      <td>NaN</td>\n",
       "      <td>NaN</td>\n",
       "      <td>NaN</td>\n",
       "      <td>NaN</td>\n",
       "      <td>NaN</td>\n",
       "      <td>NaN</td>\n",
       "      <td>9</td>\n",
       "      <td>NaN</td>\n",
       "      <td>6</td>\n",
       "      <td>NaN</td>\n",
       "      <td>0.0000</td>\n",
       "      <td>NaN</td>\n",
       "      <td>Crashed into the Ulua River.</td>\n",
       "    </tr>\n",
       "  </tbody>\n",
       "</table>\n",
       "</div>"
      ],
      "text/plain": [
       "            Date      Time                 Location   \n",
       "158   07.09.1909       NaN  Juvisy-sur-Orge, France  \\\n",
       "728   04.07.1943  23:00:00                Gibraltar   \n",
       "1145  17.06.1917       NaN   Near Yarmouth, England   \n",
       "1189  02.09.1963       NaN           Northeast Laos   \n",
       "1284  08.04.1922       NaN      Pao Ting Fou, China   \n",
       "2847  26.12.2011  05:54:00     Green Grove, Florida   \n",
       "2892  04.07.1922       NaN     Fuhlsbuttel, Germany   \n",
       "3932  26.09.1926       NaN       New York, New York   \n",
       "4847  29.05.1935       NaN     San Barbra, Honduras   \n",
       "\n",
       "                           AC_Type Operator   \n",
       "158                 Wright Byplane      NaN  \\\n",
       "728   Consolidated Liberator B24 C      NaN   \n",
       "1145       Zepplin L-48 (air ship)      NaN   \n",
       "1189         Curtiss C-46 Commando      NaN   \n",
       "1284                           NaN      NaN   \n",
       "2847                     Bell 206B      NaN   \n",
       "2892                      LVG C VI      NaN   \n",
       "3932                 Sikorsky S-25      NaN   \n",
       "4847                           NaN      NaN   \n",
       "\n",
       "                                  Route cn_ln Flight_# Is_military   \n",
       "158                            Air show   NaN      NaN         NaN  \\\n",
       "728                                 NaN   NaN      NaN         NaN   \n",
       "1145                                NaN   NaN      NaN         NaN   \n",
       "1189                                NaN   NaN      NaN         NaN   \n",
       "1284                               Test   NaN      NaN         NaN   \n",
       "2847  Jacksonville, FL - Gainsville, FL  2636      NaN         NaN   \n",
       "2892                   Hamburg - Berlin   NaN      NaN         NaN   \n",
       "3932                   New York - Paris   NaN      NaN         NaN   \n",
       "4847                                NaN   NaN      NaN         NaN   \n",
       "\n",
       "     Military_country Aboard_all Aboard_passengers Fatalities_all   \n",
       "158               NaN          1                 0              1  \\\n",
       "728               NaN         13               NaN             12   \n",
       "1145              NaN         16               NaN             14   \n",
       "1189              NaN         16                13             15   \n",
       "1284              NaN         17                 0             17   \n",
       "2847              NaN          3                 2              3   \n",
       "2892              NaN          3                 2              2   \n",
       "3932              NaN          5                 4              2   \n",
       "4847              NaN          9               NaN              6   \n",
       "\n",
       "     Fatalities_passengers  Ground Registration   \n",
       "158                      0  0.0000          SC1  \\\n",
       "728                    NaN  0.0000      A-L-523   \n",
       "1145                   NaN  0.0000         L-48   \n",
       "1189                    12     NaN          NaN   \n",
       "1284                     0  0.0000          NaN   \n",
       "2847                     2  0.0000       N5016M   \n",
       "2892                     1  0.0000          NaN   \n",
       "3932                     2  0.0000          NaN   \n",
       "4847                   NaN  0.0000          NaN   \n",
       "\n",
       "                                                Summary  \n",
       "158   Eugene Lefebvre was the first pilot to ever be...  \n",
       "728   The flight, bound for London, crashed into the...  \n",
       "1145                             Shot down by aircraft.  \n",
       "1189                                    Refugee flight.  \n",
       "1284  Aboard were all workers taking part in a fligh...  \n",
       "2847  The on-demand air taxi was on a flight to proc...  \n",
       "2892  The passenger/mail plane lost it's engine whil...  \n",
       "3932  Too much weight caused the landing gear to col...  \n",
       "4847                       Crashed into the Ulua River.  "
      ]
     },
     "execution_count": 88,
     "metadata": {},
     "output_type": "execute_result"
    }
   ],
   "source": [
    "data[data[DataSchema.operator].isna()]"
   ]
  },
  {
   "cell_type": "code",
   "execution_count": null,
   "metadata": {},
   "outputs": [],
   "source": [
    "def get_operatos_list(text: str) -> Union[None, list]:\n",
    "    if text is np.nan:\n",
    "        return text\n",
    "    if \"test\" in text.lower():\n",
    "        return text\n",
    "    operators = []\n",
    "    doc = nlp(text)\n",
    "    for ent in doc.ents:\n",
    "        if ent.label_ == \"ORG\":\n",
    "            operators.append(ent.text)\n",
    "    return operators[-1] if operators else text"
   ]
  },
  {
   "cell_type": "code",
   "execution_count": null,
   "metadata": {},
   "outputs": [],
   "source": [
    "# TEST\n",
    "x = [np.nan, \"Military - U.S. Army Air Corps\", \"Test\", \"American Flyers Airline\", \"KLM Royal Dutch Airlines\", \"Air Canada\"]\n",
    "for i in x:\n",
    "    y = get_operatos_list(i)\n",
    "    print(y)\n",
    "    print(\"==========================\")"
   ]
  },
  {
   "cell_type": "code",
   "execution_count": null,
   "metadata": {},
   "outputs": [],
   "source": [
    "tmp = data.copy()\n",
    "tmp[\"tmp\"] = tmp[DataSchema.OPERATOR].apply(lambda x: get_operatos_list(x))"
   ]
  },
  {
   "cell_type": "code",
   "execution_count": null,
   "metadata": {},
   "outputs": [],
   "source": [
    "tmp[\"tmp\"].sample(5)"
   ]
  },
  {
   "cell_type": "code",
   "execution_count": null,
   "metadata": {},
   "outputs": [],
   "source": [
    "print(f\"\\033[35mOperator field after organisation extraction has {tmp['tmp'].nunique()/data.shape[0]:.2%} unique values\\033[0m\")"
   ]
  },
  {
   "cell_type": "code",
   "execution_count": null,
   "metadata": {},
   "outputs": [],
   "source": [
    "# TODO consider to use tf-idf\n",
    "redundant_columns.append(DataSchema.OPERATOR)"
   ]
  },
  {
   "cell_type": "markdown",
   "metadata": {},
   "source": [
    "## Construction or serial number / Line or fuselage number"
   ]
  },
  {
   "cell_type": "code",
   "execution_count": null,
   "metadata": {},
   "outputs": [],
   "source": [
    "data[data[DataSchema.cn_ln].notna()][DataSchema.cn_ln]"
   ]
  },
  {
   "cell_type": "code",
   "execution_count": null,
   "metadata": {},
   "outputs": [],
   "source": [
    "redundant_columns.append(DataSchema.CN_LN)"
   ]
  },
  {
   "cell_type": "markdown",
   "metadata": {},
   "source": [
    "## Flight number"
   ]
  },
  {
   "cell_type": "code",
   "execution_count": null,
   "metadata": {},
   "outputs": [],
   "source": [
    "get_pct_missing_and_unique(DataSchema.FLIGHT_N, \"Flight number\")"
   ]
  },
  {
   "cell_type": "code",
   "execution_count": null,
   "metadata": {},
   "outputs": [],
   "source": [
    "data[data[DataSchema.FLIGHT_N].notna()][DataSchema.FLIGHT_N].sample(5)"
   ]
  },
  {
   "cell_type": "code",
   "execution_count": null,
   "metadata": {},
   "outputs": [],
   "source": [
    "redundant_columns.append(DataSchema.FLIGHT_N)"
   ]
  },
  {
   "cell_type": "markdown",
   "metadata": {},
   "source": [
    "## Is Military"
   ]
  },
  {
   "cell_type": "code",
   "execution_count": null,
   "metadata": {},
   "outputs": [],
   "source": [
    "get_pct_missing_and_unique(DataSchema.IS_MILITARY, \"Is Military\")"
   ]
  },
  {
   "cell_type": "code",
   "execution_count": null,
   "metadata": {},
   "outputs": [],
   "source": [
    "# TODO consider to drop military samples\n",
    "redundant_columns.append(DataSchema.IS_MILITARY)"
   ]
  },
  {
   "cell_type": "markdown",
   "metadata": {},
   "source": [
    "## Military country"
   ]
  },
  {
   "cell_type": "code",
   "execution_count": null,
   "metadata": {},
   "outputs": [],
   "source": [
    "get_pct_missing_and_unique(DataSchema.MILITARY_COUNTRY)"
   ]
  },
  {
   "cell_type": "code",
   "execution_count": null,
   "metadata": {},
   "outputs": [],
   "source": [
    "redundant_columns.append(DataSchema.MILITARY_COUNTRY)"
   ]
  },
  {
   "cell_type": "markdown",
   "metadata": {},
   "source": [
    "## Aboard All"
   ]
  },
  {
   "cell_type": "code",
   "execution_count": null,
   "metadata": {},
   "outputs": [],
   "source": [
    "get_pct_missing_and_unique(DataSchema.ABOARD_ALL, \"Aboard All\")"
   ]
  },
  {
   "cell_type": "code",
   "execution_count": null,
   "metadata": {},
   "outputs": [],
   "source": [
    "data.dropna(subset=[DataSchema.ABOARD_ALL], inplace=True)"
   ]
  },
  {
   "cell_type": "markdown",
   "metadata": {},
   "source": [
    "## Abroad Passengers"
   ]
  },
  {
   "cell_type": "code",
   "execution_count": null,
   "metadata": {},
   "outputs": [],
   "source": [
    "get_pct_missing_and_unique(DataSchema.ABOARD_PASSENGERS, \"Abroad Passengers\")"
   ]
  },
  {
   "cell_type": "markdown",
   "metadata": {},
   "source": [
    "## Fatalities All"
   ]
  },
  {
   "cell_type": "code",
   "execution_count": null,
   "metadata": {},
   "outputs": [],
   "source": [
    "get_pct_missing_and_unique(DataSchema.FATALITIES_ALL, \"Fatalities All\")"
   ]
  },
  {
   "cell_type": "code",
   "execution_count": null,
   "metadata": {},
   "outputs": [],
   "source": [
    "data.dropna(subset=[DataSchema.FATALITIES_ALL], inplace=True)"
   ]
  },
  {
   "cell_type": "markdown",
   "metadata": {},
   "source": [
    "## Fatalities Passengers"
   ]
  },
  {
   "cell_type": "code",
   "execution_count": null,
   "metadata": {},
   "outputs": [],
   "source": [
    "get_pct_missing_and_unique(DataSchema.FATALITIES_PASSENGERS, \"Fatalities Passengers\")"
   ]
  },
  {
   "cell_type": "markdown",
   "metadata": {},
   "source": [
    "## Ground"
   ]
  },
  {
   "cell_type": "code",
   "execution_count": null,
   "metadata": {},
   "outputs": [],
   "source": [
    "get_pct_missing_and_unique(DataSchema.GROUND, \"Ground\")"
   ]
  },
  {
   "cell_type": "code",
   "execution_count": null,
   "metadata": {},
   "outputs": [],
   "source": [
    "data[DataSchema.GROUND].fillna(0, inplace = True)"
   ]
  },
  {
   "cell_type": "code",
   "execution_count": null,
   "metadata": {},
   "outputs": [],
   "source": [
    "data[DataSchema.GROUND].value_counts()\n",
    "# data[data[DataSchema.GROUND]==2750]"
   ]
  },
  {
   "cell_type": "code",
   "execution_count": null,
   "metadata": {},
   "outputs": [],
   "source": [
    "# TODO replace np.nan with mean which is 0 and change type to int"
   ]
  },
  {
   "cell_type": "code",
   "execution_count": null,
   "metadata": {},
   "outputs": [],
   "source": [
    "fatalities = [\n",
    "    DataSchema.ABOARD_ALL, DataSchema.ABOARD_PASSENGERS, \n",
    "    DataSchema.FATALITIES_ALL, DataSchema.FATALITIES_PASSENGERS, DataSchema.GROUND]\n",
    "data[fatalities].sample(10)"
   ]
  },
  {
   "cell_type": "code",
   "execution_count": null,
   "metadata": {},
   "outputs": [],
   "source": [
    "def get_pct_fatalities(row):\n",
    "    if row[DataSchema.ABOARD_ALL] is not np.nan and row[DataSchema.FATALITIES_ALL]is not np.nan and int(row[DataSchema.ABOARD_ALL])!=0:\n",
    "        return int(row[DataSchema.FATALITIES_ALL])/int(row[DataSchema.ABOARD_ALL])*100\n",
    "    return -1\n",
    "\n",
    "all = data.apply(lambda x: get_pct_fatalities(x), axis=1)\n",
    "\n",
    "def get_pct_fatalities_passwnger(row):\n",
    "    if row[DataSchema.ABOARD_ALL] is not np.nan and row[DataSchema.FATALITIES_PASSENGERS]is not np.nan and int(row[DataSchema.ABOARD_ALL])!=0:\n",
    "        return int(row[DataSchema.FATALITIES_PASSENGERS])/int(row[DataSchema.ABOARD_ALL])*100\n",
    "    return -1\n",
    "\n",
    "passengers = data.apply(lambda x: get_pct_fatalities(x), axis=1)\n",
    "\n",
    "def get_pct_fatalities_passwnger(row):\n",
    "    if row[DataSchema.ABOARD_ALL] is not np.nan and row[DataSchema.FATALITIES_PASSENGERS]is not np.nan and int(row[DataSchema.ABOARD_ALL])!=0:\n",
    "        return (int(row[DataSchema.FATALITIES_ALL])-int(row[DataSchema.FATALITIES_PASSENGERS]))/int(row[DataSchema.ABOARD_ALL])*100\n",
    "    return -1\n",
    "\n",
    "crew = data.apply(lambda x: get_pct_fatalities(x), axis=1)\n",
    "\n",
    "sns.histplot(all)"
   ]
  },
  {
   "cell_type": "code",
   "execution_count": null,
   "metadata": {},
   "outputs": [],
   "source": [
    "redundant_columns.append(DataSchema.GROUND)"
   ]
  },
  {
   "cell_type": "markdown",
   "metadata": {},
   "source": [
    "## Registration"
   ]
  },
  {
   "cell_type": "code",
   "execution_count": null,
   "metadata": {},
   "outputs": [],
   "source": [
    "get_pct_missing_and_unique(DataSchema.REGISTRATION, \"Registration\")"
   ]
  },
  {
   "cell_type": "code",
   "execution_count": null,
   "metadata": {},
   "outputs": [],
   "source": [
    "data[DataSchema.REGISTRATION].sample(5)"
   ]
  },
  {
   "cell_type": "code",
   "execution_count": null,
   "metadata": {},
   "outputs": [],
   "source": [
    "redundant_columns.append(DataSchema.REGISTRATION)"
   ]
  },
  {
   "cell_type": "markdown",
   "metadata": {},
   "source": [
    "## Summary"
   ]
  },
  {
   "cell_type": "code",
   "execution_count": null,
   "metadata": {},
   "outputs": [],
   "source": [
    "get_pct_missing_and_unique(DataSchema.SUMMARY, \"Summary\")"
   ]
  },
  {
   "cell_type": "code",
   "execution_count": null,
   "metadata": {},
   "outputs": [],
   "source": [
    "data.dropna(subset=[DataSchema.SUMMARY], inplace=True)\n",
    "data[DataSchema.SUMMARY]"
   ]
  },
  {
   "cell_type": "code",
   "execution_count": null,
   "metadata": {},
   "outputs": [],
   "source": [
    "info = api.info()\n",
    "for model_name, model_data in sorted(info[\"models\"].items()):\n",
    "    print(\"%s (%d records) %s...\" % (model_name, model_data.get(\"num_records\", -1), model_data[\"description\"][:40]))"
   ]
  },
  {
   "cell_type": "code",
   "execution_count": null,
   "metadata": {},
   "outputs": [],
   "source": [
    "w2v = api.load(\"word2vec-google-news-300\")"
   ]
  },
  {
   "cell_type": "markdown",
   "metadata": {},
   "source": [
    "### Castom data Word2Vec model"
   ]
  },
  {
   "cell_type": "code",
   "execution_count": null,
   "metadata": {},
   "outputs": [],
   "source": [
    "break"
   ]
  },
  {
   "cell_type": "code",
   "execution_count": null,
   "metadata": {},
   "outputs": [],
   "source": [
    "def get_preprocessed(text):\n",
    "    doc = nlp(text)\n",
    "\n",
    "    filtered = []\n",
    "    for token in doc:\n",
    "        if token.is_punct or token.is_stop:\n",
    "            continue\n",
    "        filtered.append(token.lemma_)\n",
    "    return filtered\n",
    "\n",
    "corpus = data[DataSchema.SUMMARY].apply(lambda text: get_preprocessed(text)).tolist()\n",
    "model_default = Word2Vec(sentences=corpus) # 100-dimentional vector by default\n",
    "model_vs100 = Word2Vec(sentences=corpus, vector_size=100, window=5, min_count=1, workers=4)\n",
    "model_vs50 = Word2Vec(sentences=corpus, vector_size=50, window=5, min_count=1, workers=4)\n",
    "# model.save(\"word2vec.model\")\n",
    "# model = Word2Vec.load(\"word2vec.model\")\n"
   ]
  },
  {
   "cell_type": "code",
   "execution_count": null,
   "metadata": {},
   "outputs": [],
   "source": [
    "# plot embadings in 2-dimensional spase\n",
    "\n",
    "def reduce_dimensions(model):\n",
    "    n_components = 2 # dimentions\n",
    "    # extract vocabulary from model and vectors in order to associate them in the graph\n",
    "    vectors = np.asarray(model.wv.vectors)\n",
    "    labels = np.asarray(model.wv.index_to_key)\n",
    "    #apply TSNE\n",
    "    tsne = TSNE(n_components=n_components, random_state=42)\n",
    "    vectors = tsne.fit_transform(vectors)\n",
    "    x_vals = [v[0] for v in vectors]\n",
    "    y_vals = [v[1] for v in vectors]\n",
    "    return x_vals, y_vals, labels\n",
    "\n",
    "\n",
    "def plot_embeddings(x_vals, y_vals, labels):\n",
    "    fig = go.Figure()\n",
    "    trace = go.Scatter(x=x_vals, y=y_vals, mode=\"markers\", text=labels)\n",
    "    fig.add_trace(trace)\n",
    "    fig.update_layout(title=\"Word2Vec - Visualisation embedding with TSNE\")\n",
    "    fig.show()\n",
    "    return fig\n",
    "\n",
    "\n",
    "x_vals, y_vals, labels = reduce_dimensions(model)\n",
    "plot = plot_embeddings(x_vals, y_vals, labels)"
   ]
  },
  {
   "cell_type": "code",
   "execution_count": null,
   "metadata": {},
   "outputs": [],
   "source": [
    "# preprocessing (remove stop words, lemmitize)\n",
    "\n",
    "def text2vec(text):\n",
    "    doc = nlp(text)\n",
    "\n",
    "    filtered = []\n",
    "    for token in doc:\n",
    "        if token.is_punct or token.is_stop:\n",
    "            continue\n",
    "        filtered.append(token.lemma_)\n",
    "    return w2v.get_mean_vector(filtered, pre_normalize=True)"
   ]
  },
  {
   "cell_type": "markdown",
   "metadata": {},
   "source": [
    "### Sense check"
   ]
  },
  {
   "cell_type": "code",
   "execution_count": null,
   "metadata": {},
   "outputs": [],
   "source": [
    "# print(w2v.similarity(\"plane\",\"passanger\"))\n",
    "# print(w2v.most_similar(positive=[\"plane\"], topn=3))"
   ]
  },
  {
   "cell_type": "code",
   "execution_count": null,
   "metadata": {},
   "outputs": [],
   "source": [
    "data[DataSchema.VECTOR] = data[DataSchema.SUMMARY].apply(lambda text: text2vec(text))"
   ]
  },
  {
   "cell_type": "code",
   "execution_count": null,
   "metadata": {},
   "outputs": [],
   "source": [
    "data[DataSchema.VECTOR]"
   ]
  },
  {
   "cell_type": "markdown",
   "metadata": {},
   "source": [
    "# Target"
   ]
  },
  {
   "cell_type": "code",
   "execution_count": null,
   "metadata": {},
   "outputs": [],
   "source": [
    "for col in [DataSchema.ABOARD_ALL, DataSchema.FATALITIES_ALL, DataSchema.GROUND]:\n",
    "    data[col] = data[col].astype(int)"
   ]
  },
  {
   "cell_type": "code",
   "execution_count": null,
   "metadata": {},
   "outputs": [],
   "source": [
    "data[DataSchema.FATALITIES] = data[DataSchema.FATALITIES_ALL]+data[DataSchema.GROUND]\n",
    "data[DataSchema.SURVIVED] = data[DataSchema.ABOARD_ALL]-data[DataSchema.FATALITIES_ALL]"
   ]
  },
  {
   "cell_type": "code",
   "execution_count": null,
   "metadata": {},
   "outputs": [],
   "source": [
    "data[DataSchema.FATALITIES].value_counts()"
   ]
  },
  {
   "cell_type": "code",
   "execution_count": null,
   "metadata": {},
   "outputs": [],
   "source": [
    "data[DataSchema.SURVIVED].value_counts()"
   ]
  },
  {
   "cell_type": "code",
   "execution_count": null,
   "metadata": {},
   "outputs": [],
   "source": [
    "data[DataSchema.SURVIVED] = np.where(data[DataSchema.SURVIVED] > 0, 1, data[DataSchema.SURVIVED])"
   ]
  },
  {
   "cell_type": "code",
   "execution_count": null,
   "metadata": {},
   "outputs": [],
   "source": [
    "data[DataSchema.SURVIVED].value_counts()"
   ]
  },
  {
   "cell_type": "code",
   "execution_count": null,
   "metadata": {},
   "outputs": [],
   "source": [
    "data[DataSchema.SURVIVED_PCT] = data[DataSchema.SURVIVED]/data[DataSchema.ABOARD_ALL]*100\n",
    "data[DataSchema.SURVIVED_PCT].value_counts()"
   ]
  },
  {
   "cell_type": "markdown",
   "metadata": {},
   "source": [
    "### Summary vectors as features to predict survival percentage"
   ]
  },
  {
   "cell_type": "code",
   "execution_count": null,
   "metadata": {},
   "outputs": [],
   "source": [
    "X_train, X_test, y_train, y_test = train_test_split(\n",
    "    data[DataSchema.VECTOR].values,\n",
    "    data[DataSchema.SURVIVED],\n",
    "    test_size=0.2,\n",
    "    random_state=42,\n",
    "    stratify=data[DataSchema.SURVIVED]\n",
    ")"
   ]
  },
  {
   "cell_type": "code",
   "execution_count": null,
   "metadata": {},
   "outputs": [],
   "source": [
    "X_train_2d = np.stack(X_train)\n",
    "X_test_2d = np.stack(X_test)"
   ]
  },
  {
   "cell_type": "code",
   "execution_count": null,
   "metadata": {},
   "outputs": [],
   "source": [
    "print(f\"{X_train_2d.shape=}\")\n",
    "print(f\"{X_test_2d.shape=}\")"
   ]
  },
  {
   "cell_type": "code",
   "execution_count": null,
   "metadata": {},
   "outputs": [],
   "source": [
    "clf = GradientBoostingClassifier()\n",
    "clf.fit(X_train_2d, y_train)\n",
    "y_pred = clf.predict(X_test_2d)\n",
    "print(classification_report(y_test, y_pred))"
   ]
  },
  {
   "cell_type": "code",
   "execution_count": null,
   "metadata": {},
   "outputs": [],
   "source": []
  }
 ],
 "metadata": {
  "kernelspec": {
   "display_name": "Python 3.11.0 64-bit ('deploing_ml_models')",
   "language": "python",
   "name": "python3"
  },
  "language_info": {
   "codemirror_mode": {
    "name": "ipython",
    "version": 3
   },
   "file_extension": ".py",
   "mimetype": "text/x-python",
   "name": "python",
   "nbconvert_exporter": "python",
   "pygments_lexer": "ipython3",
   "version": "3.11.0"
  },
  "orig_nbformat": 4,
  "vscode": {
   "interpreter": {
    "hash": "6f13d9f54e4f4e8bae757f010cebe67df66911819a91a6a446f98cddd5d9857d"
   }
  }
 },
 "nbformat": 4,
 "nbformat_minor": 2
}
